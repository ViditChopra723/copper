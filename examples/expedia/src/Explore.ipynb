{
 "metadata": {
  "name": "Explore"
 },
 "nbformat": 3,
 "nbformat_minor": 0,
 "worksheets": [
  {
   "cells": [
    {
     "cell_type": "code",
     "collapsed": false,
     "input": [
      "import pandas as pd"
     ],
     "language": "python",
     "metadata": {},
     "outputs": [],
     "prompt_number": 1
    },
    {
     "cell_type": "code",
     "collapsed": false,
     "input": [
      "train = pd.read_csv('train.csv')"
     ],
     "language": "python",
     "metadata": {},
     "outputs": [],
     "prompt_number": 2
    },
    {
     "cell_type": "code",
     "collapsed": false,
     "input": [
      "train"
     ],
     "language": "python",
     "metadata": {},
     "outputs": [
      {
       "output_type": "pyout",
       "prompt_number": 3,
       "text": [
        "<class 'pandas.core.frame.DataFrame'>\n",
        "Int64Index: 1010 entries, 0 to 1009\n",
        "Data columns:\n",
        "x1        911  non-null values\n",
        "x2        906  non-null values\n",
        "x3        908  non-null values\n",
        "x4        896  non-null values\n",
        "x5        917  non-null values\n",
        "x6        919  non-null values\n",
        "x7        912  non-null values\n",
        "x8        909  non-null values\n",
        "x9        897  non-null values\n",
        "x10       904  non-null values\n",
        "x11       906  non-null values\n",
        "x12       911  non-null values\n",
        "x13       916  non-null values\n",
        "x14       908  non-null values\n",
        "x15       930  non-null values\n",
        "x16       914  non-null values\n",
        "x17       914  non-null values\n",
        "x18       905  non-null values\n",
        "x19       910  non-null values\n",
        "x20       892  non-null values\n",
        "x21       919  non-null values\n",
        "x22       898  non-null values\n",
        "x23       911  non-null values\n",
        "x24       928  non-null values\n",
        "x25       900  non-null values\n",
        "x26       920  non-null values\n",
        "x27       919  non-null values\n",
        "x28       921  non-null values\n",
        "x29       914  non-null values\n",
        "x30       917  non-null values\n",
        "x31       912  non-null values\n",
        "x32       501  non-null values\n",
        "x33       913  non-null values\n",
        "x34       899  non-null values\n",
        "x35       904  non-null values\n",
        "x36       912  non-null values\n",
        "x37       912  non-null values\n",
        "x38       412  non-null values\n",
        "x39       909  non-null values\n",
        "x40       911  non-null values\n",
        "depend    1010  non-null values\n",
        "dtypes: float64(40), int64(1)"
       ]
      }
     ],
     "prompt_number": 3
    },
    {
     "cell_type": "code",
     "collapsed": false,
     "input": [],
     "language": "python",
     "metadata": {},
     "outputs": []
    }
   ],
   "metadata": {}
  }
 ]
}