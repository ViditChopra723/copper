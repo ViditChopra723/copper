{
 "metadata": {
  "name": "iris"
 },
 "nbformat": 3,
 "nbformat_minor": 0,
 "worksheets": [
  {
   "cells": [
    {
     "cell_type": "code",
     "collapsed": false,
     "input": [
      "import copper\n",
      "import pandas as pd"
     ],
     "language": "python",
     "metadata": {},
     "outputs": [],
     "prompt_number": 1
    },
    {
     "cell_type": "code",
     "collapsed": false,
     "input": [
      "data = pd.read_csv('iris.csv', header=None)"
     ],
     "language": "python",
     "metadata": {},
     "outputs": [],
     "prompt_number": 2
    },
    {
     "cell_type": "code",
     "collapsed": false,
     "input": [
      "ds = copper.Dataset(data)"
     ],
     "language": "python",
     "metadata": {},
     "outputs": [],
     "prompt_number": 3
    },
    {
     "cell_type": "code",
     "collapsed": false,
     "input": [
      "ds.frame"
     ],
     "language": "python",
     "metadata": {},
     "outputs": [
      {
       "html": [
        "<pre>\n",
        "&ltclass 'pandas.core.frame.DataFrame'&gt\n",
        "Int64Index: 151 entries, 0 to 150\n",
        "Data columns (total 5 columns):\n",
        "0    150  non-null values\n",
        "1    150  non-null values\n",
        "2    150  non-null values\n",
        "3    150  non-null values\n",
        "4    150  non-null values\n",
        "dtypes: float64(4), object(1)\n",
        "</pre>"
       ],
       "output_type": "pyout",
       "prompt_number": 4,
       "text": [
        "<class 'pandas.core.frame.DataFrame'>\n",
        "Int64Index: 151 entries, 0 to 150\n",
        "Data columns (total 5 columns):\n",
        "0    150  non-null values\n",
        "1    150  non-null values\n",
        "2    150  non-null values\n",
        "3    150  non-null values\n",
        "4    150  non-null values\n",
        "dtypes: float64(4), object(1)"
       ]
      }
     ],
     "prompt_number": 4
    },
    {
     "cell_type": "code",
     "collapsed": false,
     "input": [
      "ds.frame = ds.frame.dropna()"
     ],
     "language": "python",
     "metadata": {},
     "outputs": [],
     "prompt_number": 5
    },
    {
     "cell_type": "code",
     "collapsed": false,
     "input": [
      "ds.metadata"
     ],
     "language": "python",
     "metadata": {},
     "outputs": [
      {
       "html": [
        "<div style=\"max-height:1000px;max-width:1500px;overflow:auto;\">\n",
        "<table border=\"1\" class=\"dataframe\">\n",
        "  <thead>\n",
        "    <tr style=\"text-align: right;\">\n",
        "      <th></th>\n",
        "      <th>Role</th>\n",
        "      <th>Type</th>\n",
        "      <th>dtype</th>\n",
        "    </tr>\n",
        "    <tr>\n",
        "      <th>Columns</th>\n",
        "      <th></th>\n",
        "      <th></th>\n",
        "      <th></th>\n",
        "    </tr>\n",
        "  </thead>\n",
        "  <tbody>\n",
        "    <tr>\n",
        "      <th>0</th>\n",
        "      <td> Input</td>\n",
        "      <td>   Number</td>\n",
        "      <td> float64</td>\n",
        "    </tr>\n",
        "    <tr>\n",
        "      <th>1</th>\n",
        "      <td> Input</td>\n",
        "      <td>   Number</td>\n",
        "      <td> float64</td>\n",
        "    </tr>\n",
        "    <tr>\n",
        "      <th>2</th>\n",
        "      <td> Input</td>\n",
        "      <td>   Number</td>\n",
        "      <td> float64</td>\n",
        "    </tr>\n",
        "    <tr>\n",
        "      <th>3</th>\n",
        "      <td> Input</td>\n",
        "      <td>   Number</td>\n",
        "      <td> float64</td>\n",
        "    </tr>\n",
        "    <tr>\n",
        "      <th>4</th>\n",
        "      <td> Input</td>\n",
        "      <td> Category</td>\n",
        "      <td>  object</td>\n",
        "    </tr>\n",
        "  </tbody>\n",
        "</table>\n",
        "</div>"
       ],
       "output_type": "pyout",
       "prompt_number": 6,
       "text": [
        "          Role      Type    dtype\n",
        "Columns                          \n",
        "0        Input    Number  float64\n",
        "1        Input    Number  float64\n",
        "2        Input    Number  float64\n",
        "3        Input    Number  float64\n",
        "4        Input  Category   object"
       ]
      }
     ],
     "prompt_number": 6
    },
    {
     "cell_type": "code",
     "collapsed": false,
     "input": [
      "ds.role[4] = ds.TARGET"
     ],
     "language": "python",
     "metadata": {},
     "outputs": [],
     "prompt_number": 7
    },
    {
     "cell_type": "code",
     "collapsed": false,
     "input": [
      "mc = copper.ModelComparison()"
     ],
     "language": "python",
     "metadata": {},
     "outputs": [],
     "prompt_number": 8
    },
    {
     "cell_type": "code",
     "collapsed": false,
     "input": [
      "mc.train_test_split(ds, test_size=0.3)"
     ],
     "language": "python",
     "metadata": {},
     "outputs": [],
     "prompt_number": 9
    },
    {
     "cell_type": "code",
     "collapsed": false,
     "input": [
      "from sklearn.linear_model import LogisticRegression"
     ],
     "language": "python",
     "metadata": {},
     "outputs": [],
     "prompt_number": 10
    },
    {
     "cell_type": "code",
     "collapsed": false,
     "input": [
      "from sklearn.svm import SVC"
     ],
     "language": "python",
     "metadata": {},
     "outputs": [],
     "prompt_number": 11
    },
    {
     "cell_type": "code",
     "collapsed": false,
     "input": [
      "mc['LR'] = LogisticRegression()"
     ],
     "language": "python",
     "metadata": {},
     "outputs": [],
     "prompt_number": 12
    },
    {
     "cell_type": "code",
     "collapsed": false,
     "input": [
      "mc['SVM'] = SVC(probability=True)"
     ],
     "language": "python",
     "metadata": {},
     "outputs": [],
     "prompt_number": 13
    },
    {
     "cell_type": "code",
     "collapsed": false,
     "input": [
      "mc.fit()"
     ],
     "language": "python",
     "metadata": {},
     "outputs": [],
     "prompt_number": 14
    },
    {
     "cell_type": "code",
     "collapsed": false,
     "input": [
      "mc.predict().head()"
     ],
     "language": "python",
     "metadata": {},
     "outputs": [
      {
       "html": [
        "<div style=\"max-height:1000px;max-width:1500px;overflow:auto;\">\n",
        "<table border=\"1\" class=\"dataframe\">\n",
        "  <thead>\n",
        "    <tr style=\"text-align: right;\">\n",
        "      <th></th>\n",
        "      <th>SVM</th>\n",
        "      <th>LR</th>\n",
        "    </tr>\n",
        "  </thead>\n",
        "  <tbody>\n",
        "    <tr>\n",
        "      <th>0</th>\n",
        "      <td> 1</td>\n",
        "      <td> 1</td>\n",
        "    </tr>\n",
        "    <tr>\n",
        "      <th>1</th>\n",
        "      <td> 0</td>\n",
        "      <td> 0</td>\n",
        "    </tr>\n",
        "    <tr>\n",
        "      <th>2</th>\n",
        "      <td> 2</td>\n",
        "      <td> 2</td>\n",
        "    </tr>\n",
        "    <tr>\n",
        "      <th>3</th>\n",
        "      <td> 0</td>\n",
        "      <td> 0</td>\n",
        "    </tr>\n",
        "    <tr>\n",
        "      <th>4</th>\n",
        "      <td> 1</td>\n",
        "      <td> 1</td>\n",
        "    </tr>\n",
        "  </tbody>\n",
        "</table>\n",
        "</div>"
       ],
       "output_type": "pyout",
       "prompt_number": 15,
       "text": [
        "   SVM  LR\n",
        "0    1   1\n",
        "1    0   0\n",
        "2    2   2\n",
        "3    0   0\n",
        "4    1   1"
       ]
      }
     ],
     "prompt_number": 15
    },
    {
     "cell_type": "code",
     "collapsed": false,
     "input": [
      "mc.predict_proba().head()"
     ],
     "language": "python",
     "metadata": {},
     "outputs": [
      {
       "html": [
        "<div style=\"max-height:1000px;max-width:1500px;overflow:auto;\">\n",
        "<table border=\"1\" class=\"dataframe\">\n",
        "  <thead>\n",
        "    <tr style=\"text-align: right;\">\n",
        "      <th></th>\n",
        "      <th>SVM [0]</th>\n",
        "      <th>SVM [1]</th>\n",
        "      <th>SVM [2]</th>\n",
        "      <th>LR [0]</th>\n",
        "      <th>LR [1]</th>\n",
        "      <th>LR [2]</th>\n",
        "    </tr>\n",
        "  </thead>\n",
        "  <tbody>\n",
        "    <tr>\n",
        "      <th>0</th>\n",
        "      <td> 0.080619</td>\n",
        "      <td> 0.886240</td>\n",
        "      <td> 0.033141</td>\n",
        "      <td> 0.304487</td>\n",
        "      <td> 0.613993</td>\n",
        "      <td> 0.081520</td>\n",
        "    </tr>\n",
        "    <tr>\n",
        "      <th>1</th>\n",
        "      <td> 0.951552</td>\n",
        "      <td> 0.023170</td>\n",
        "      <td> 0.025279</td>\n",
        "      <td> 0.888897</td>\n",
        "      <td> 0.110857</td>\n",
        "      <td> 0.000247</td>\n",
        "    </tr>\n",
        "    <tr>\n",
        "      <th>2</th>\n",
        "      <td> 0.021386</td>\n",
        "      <td> 0.004563</td>\n",
        "      <td> 0.974050</td>\n",
        "      <td> 0.000429</td>\n",
        "      <td> 0.173311</td>\n",
        "      <td> 0.826259</td>\n",
        "    </tr>\n",
        "    <tr>\n",
        "      <th>3</th>\n",
        "      <td> 0.953233</td>\n",
        "      <td> 0.026881</td>\n",
        "      <td> 0.019886</td>\n",
        "      <td> 0.833352</td>\n",
        "      <td> 0.166391</td>\n",
        "      <td> 0.000257</td>\n",
        "    </tr>\n",
        "    <tr>\n",
        "      <th>4</th>\n",
        "      <td> 0.013222</td>\n",
        "      <td> 0.980408</td>\n",
        "      <td> 0.006370</td>\n",
        "      <td> 0.074366</td>\n",
        "      <td> 0.796019</td>\n",
        "      <td> 0.129615</td>\n",
        "    </tr>\n",
        "  </tbody>\n",
        "</table>\n",
        "</div>"
       ],
       "output_type": "pyout",
       "prompt_number": 16,
       "text": [
        "    SVM [0]   SVM [1]   SVM [2]    LR [0]    LR [1]    LR [2]\n",
        "0  0.080619  0.886240  0.033141  0.304487  0.613993  0.081520\n",
        "1  0.951552  0.023170  0.025279  0.888897  0.110857  0.000247\n",
        "2  0.021386  0.004563  0.974050  0.000429  0.173311  0.826259\n",
        "3  0.953233  0.026881  0.019886  0.833352  0.166391  0.000257\n",
        "4  0.013222  0.980408  0.006370  0.074366  0.796019  0.129615"
       ]
      }
     ],
     "prompt_number": 16
    },
    {
     "cell_type": "code",
     "collapsed": false,
     "input": [
      "mc.cm('LR')"
     ],
     "language": "python",
     "metadata": {},
     "outputs": [
      {
       "html": [
        "<div style=\"max-height:1000px;max-width:1500px;overflow:auto;\">\n",
        "<table border=\"1\" class=\"dataframe\">\n",
        "  <thead>\n",
        "    <tr style=\"text-align: right;\">\n",
        "      <th></th>\n",
        "      <th>0</th>\n",
        "      <th>1</th>\n",
        "      <th>2</th>\n",
        "    </tr>\n",
        "  </thead>\n",
        "  <tbody>\n",
        "    <tr>\n",
        "      <th>0</th>\n",
        "      <td> 11</td>\n",
        "      <td>  0</td>\n",
        "      <td>  0</td>\n",
        "    </tr>\n",
        "    <tr>\n",
        "      <th>1</th>\n",
        "      <td>  0</td>\n",
        "      <td> 14</td>\n",
        "      <td>  2</td>\n",
        "    </tr>\n",
        "    <tr>\n",
        "      <th>2</th>\n",
        "      <td>  0</td>\n",
        "      <td>  2</td>\n",
        "      <td> 16</td>\n",
        "    </tr>\n",
        "  </tbody>\n",
        "</table>\n",
        "</div>"
       ],
       "output_type": "pyout",
       "prompt_number": 19,
       "text": [
        "    0   1   2\n",
        "0  11   0   0\n",
        "1   0  14   2\n",
        "2   0   2  16"
       ]
      }
     ],
     "prompt_number": 19
    },
    {
     "cell_type": "code",
     "collapsed": false,
     "input": [],
     "language": "python",
     "metadata": {},
     "outputs": []
    }
   ],
   "metadata": {}
  }
 ]
}