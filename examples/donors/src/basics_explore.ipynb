{
 "metadata": {
  "name": "basics_explore"
 },
 "nbformat": 3,
 "nbformat_minor": 0,
 "worksheets": [
  {
   "cells": [
    {
     "cell_type": "markdown",
     "metadata": {},
     "source": [
      "Summary: Project structure and simple data exploration."
     ]
    },
    {
     "cell_type": "markdown",
     "metadata": {},
     "source": [
      "Copper follows a not strict project structure mainly about where the data is stored. The structure for this project is:\n",
      "\n",
      "* /project/\n",
      "    * /data/\n",
      "        * data.csv\n",
      "    * /src\n",
      "        * explore.ipynb (the file you are reading)\n",
      "\n",
      "The first thing is to import copper and configure the project path. If the recommended structure is followed all files should have:"
     ]
    },
    {
     "cell_type": "code",
     "collapsed": false,
     "input": [
      "import copper\n",
      "copper.project.path = '../'"
     ],
     "language": "python",
     "metadata": {},
     "outputs": [],
     "prompt_number": 1
    },
    {
     "cell_type": "markdown",
     "metadata": {},
     "source": [
      "Then is easy to load the `/data/data.csv` file into a pandas.DataFrame"
     ]
    },
    {
     "cell_type": "code",
     "collapsed": false,
     "input": [
      "frame = copper.read_csv('data.csv')"
     ],
     "language": "python",
     "metadata": {},
     "outputs": [],
     "prompt_number": 2
    },
    {
     "cell_type": "code",
     "collapsed": false,
     "input": [
      "frame"
     ],
     "language": "python",
     "metadata": {},
     "outputs": [
      {
       "output_type": "pyout",
       "prompt_number": 3,
       "text": [
        "<class 'pandas.core.frame.DataFrame'>\n",
        "Int64Index: 9686 entries, 0 to 9685\n",
        "Data columns:\n",
        "TARGET_B            9686  non-null values\n",
        "ID                  9686  non-null values\n",
        "TARGET_D            4843  non-null values\n",
        "GiftCnt36           9686  non-null values\n",
        "GiftCntAll          9686  non-null values\n",
        "GiftCntCard36       9686  non-null values\n",
        "GiftCntCardAll      9686  non-null values\n",
        "GiftAvgLast         9686  non-null values\n",
        "GiftAvg36           9686  non-null values\n",
        "GiftAvgAll          9686  non-null values\n",
        "GiftAvgCard36       7906  non-null values\n",
        "GiftTimeLast        9686  non-null values\n",
        "GiftTimeFirst       9686  non-null values\n",
        "PromCnt12           9686  non-null values\n",
        "PromCnt36           9686  non-null values\n",
        "PromCntAll          9686  non-null values\n",
        "PromCntCard12       9686  non-null values\n",
        "PromCntCard36       9686  non-null values\n",
        "PromCntCardAll      9686  non-null values\n",
        "StatusCat96NK       9686  non-null values\n",
        "StatusCatStarAll    9686  non-null values\n",
        "DemCluster          9686  non-null values\n",
        "DemAge              7279  non-null values\n",
        "DemGender           9686  non-null values\n",
        "DemHomeOwner        9686  non-null values\n",
        "DemMedHomeValue     9686  non-null values\n",
        "DemPctVeterans      9686  non-null values\n",
        "DemMedIncome        9686  non-null values\n",
        "dtypes: float64(1), int64(17), object(10)"
       ]
      }
     ],
     "prompt_number": 3
    },
    {
     "cell_type": "markdown",
     "metadata": {},
     "source": [
      "There is a lot of work to do in order to clean the data but we can start by seeing the distributions of some variables.\n",
      "\n",
      "Is easy to visualize a DataFrame via histograms even of columns with dtype of object"
     ]
    },
    {
     "cell_type": "code",
     "collapsed": false,
     "input": [
      "copper.plot.histogram(frame['DemGender'])"
     ],
     "language": "python",
     "metadata": {},
     "outputs": [
      {
       "output_type": "display_data",
       "png": "[encoded data removed]"
      }
     ],
     "prompt_number": 10
    },
    {
     "cell_type": "markdown",
     "metadata": {},
     "source": [
      "In some cases the legend is going to be too big so is possible to remove it and instead return a list (retList) with the histogram information."
     ]
    },
    {
     "cell_type": "code",
     "collapsed": false,
     "input": [
      "copper.plot.histogram(frame['DemAge'], legend=False, retList=True)"
     ],
     "language": "python",
     "metadata": {},
     "outputs": [
      {
       "output_type": "pyout",
       "prompt_number": 8,
       "text": [
        "0         0.0 - 4.35: 3\n",
        "1        4.3 - 8.70: 35\n",
        "2        8.7 - 13.05: 0\n",
        "3      13.0 - 17.40: 53\n",
        "4      17.4 - 21.75: 11\n",
        "5      21.8 - 26.10: 61\n",
        "6     26.1 - 30.45: 145\n",
        "7     30.4 - 34.80: 197\n",
        "8     34.8 - 39.15: 456\n",
        "9     39.1 - 43.50: 433\n",
        "10    43.5 - 47.85: 517\n",
        "11    47.8 - 52.20: 706\n",
        "12    52.2 - 56.55: 524\n",
        "13    56.5 - 60.90: 519\n",
        "14    60.9 - 65.25: 638\n",
        "15    65.2 - 69.60: 612\n",
        "16    69.6 - 73.95: 627\n",
        "17    73.9 - 78.30: 810\n",
        "18    78.3 - 82.65: 530\n",
        "19    82.6 - 87.00: 402"
       ]
      },
      {
       "output_type": "display_data",
       "png": "[encoded data removed]"
      }
     ],
     "prompt_number": 8
    },
    {
     "cell_type": "markdown",
     "metadata": {},
     "source": [
      "That covers the very basics of copper but there is more! such as data transformation, imputation, metadata, machine learning, ...\n",
      "\n",
      "See the other tutorials to learn more."
     ]
    }
   ],
   "metadata": {}
  }
 ]
}