{
 "metadata": {
  "name": "Catalog"
 },
 "nbformat": 3,
 "nbformat_minor": 0,
 "worksheets": [
  {
   "cells": [
    {
     "cell_type": "code",
     "collapsed": false,
     "input": [
      "%load_ext autoreload\n",
      "%autoreload 2"
     ],
     "language": "python",
     "metadata": {},
     "outputs": [],
     "prompt_number": 40
    },
    {
     "cell_type": "code",
     "collapsed": false,
     "input": [
      "import copper"
     ],
     "language": "python",
     "metadata": {},
     "outputs": [],
     "prompt_number": 41
    },
    {
     "cell_type": "code",
     "collapsed": false,
     "input": [
      "copper.config.path = ''"
     ],
     "language": "python",
     "metadata": {},
     "outputs": [],
     "prompt_number": 42
    },
    {
     "cell_type": "code",
     "collapsed": false,
     "input": [
      "ds_train = copper.read_csv('training.csv')"
     ],
     "language": "python",
     "metadata": {},
     "outputs": [],
     "prompt_number": 43
    },
    {
     "cell_type": "code",
     "collapsed": false,
     "input": [
      "ds_train.frame.head()"
     ],
     "language": "python",
     "metadata": {},
     "outputs": [
      {
       "html": [
        "<div style=\"max-height:1000px;max-width:1500px;overflow:auto;\">\n",
        "<table border=\"1\" class=\"dataframe\">\n",
        "  <thead>\n",
        "    <tr style=\"text-align: right;\">\n",
        "      <th></th>\n",
        "      <th>CustomerID</th>\n",
        "      <th>NGIF</th>\n",
        "      <th>RAMN</th>\n",
        "      <th>LASG</th>\n",
        "      <th>LASD</th>\n",
        "      <th>RFA1</th>\n",
        "      <th>RFA2</th>\n",
        "      <th>Order</th>\n",
        "    </tr>\n",
        "  </thead>\n",
        "  <tbody>\n",
        "    <tr>\n",
        "      <td><strong>0</strong></td>\n",
        "      <td> 1</td>\n",
        "      <td>  2</td>\n",
        "      <td>  30</td>\n",
        "      <td> 20</td>\n",
        "      <td> 200503</td>\n",
        "      <td> 1</td>\n",
        "      <td> 6</td>\n",
        "      <td> 1</td>\n",
        "    </tr>\n",
        "    <tr>\n",
        "      <td><strong>1</strong></td>\n",
        "      <td> 2</td>\n",
        "      <td> 25</td>\n",
        "      <td> 207</td>\n",
        "      <td> 20</td>\n",
        "      <td> 200503</td>\n",
        "      <td> 1</td>\n",
        "      <td> 6</td>\n",
        "      <td> 0</td>\n",
        "    </tr>\n",
        "    <tr>\n",
        "      <td><strong>2</strong></td>\n",
        "      <td> 3</td>\n",
        "      <td>  5</td>\n",
        "      <td>  52</td>\n",
        "      <td> 15</td>\n",
        "      <td> 200503</td>\n",
        "      <td> 1</td>\n",
        "      <td> 6</td>\n",
        "      <td> 0</td>\n",
        "    </tr>\n",
        "    <tr>\n",
        "      <td><strong>3</strong></td>\n",
        "      <td> 4</td>\n",
        "      <td> 11</td>\n",
        "      <td> 105</td>\n",
        "      <td> 15</td>\n",
        "      <td> 200503</td>\n",
        "      <td> 1</td>\n",
        "      <td> 6</td>\n",
        "      <td> 0</td>\n",
        "    </tr>\n",
        "    <tr>\n",
        "      <td><strong>4</strong></td>\n",
        "      <td> 5</td>\n",
        "      <td>  2</td>\n",
        "      <td>  32</td>\n",
        "      <td> 17</td>\n",
        "      <td> 200503</td>\n",
        "      <td> 1</td>\n",
        "      <td> 6</td>\n",
        "      <td> 0</td>\n",
        "    </tr>\n",
        "  </tbody>\n",
        "</table>\n",
        "</div>"
       ],
       "output_type": "pyout",
       "prompt_number": 44,
       "text": [
        "   CustomerID  NGIF  RAMN  LASG    LASD  RFA1  RFA2  Order\n",
        "0           1     2    30    20  200503     1     6      1\n",
        "1           2    25   207    20  200503     1     6      0\n",
        "2           3     5    52    15  200503     1     6      0\n",
        "3           4    11   105    15  200503     1     6      0\n",
        "4           5     2    32    17  200503     1     6      0"
       ]
      }
     ],
     "prompt_number": 44
    },
    {
     "cell_type": "code",
     "collapsed": false,
     "input": [
      "ds_train"
     ],
     "language": "python",
     "metadata": {},
     "outputs": [
      {
       "output_type": "pyout",
       "prompt_number": 47,
       "text": [
        "<copper.core.set.DataSet at 0x61e3f50>"
       ]
      }
     ],
     "prompt_number": 47
    },
    {
     "cell_type": "code",
     "collapsed": false,
     "input": [
      "ds_train.type['RFA1'] = ds_train.NUMBER\n",
      "ds_train.type['RFA2'] = ds_train.NUMBER\n",
      "ds_train.type['Order'] = ds_train.NUMBER\n",
      "ds_train.role['CustomerID'] = ds_train.ID\n",
      "ds_train.role['Order'] = ds_train.TARGET"
     ],
     "language": "python",
     "metadata": {},
     "outputs": [],
     "prompt_number": 46
    },
    {
     "cell_type": "code",
     "collapsed": false,
     "input": [
      "ds_train.frame['LASD'].head()"
     ],
     "language": "python",
     "metadata": {},
     "outputs": [
      {
       "output_type": "pyout",
       "prompt_number": 33,
       "text": [
        "0    200503\n",
        "1    200503\n",
        "2    200503\n",
        "3    200503\n",
        "4    200503\n",
        "Name: LASD"
       ]
      }
     ],
     "prompt_number": 33
    },
    {
     "cell_type": "code",
     "collapsed": false,
     "input": [
      "fnc = lambda x: 12*(2007 - int(str(x)[0:4])) - int(str(x)[4:6]) + 2\n",
      "ds_train.transform('LASD', fnc)"
     ],
     "language": "python",
     "metadata": {},
     "outputs": [],
     "prompt_number": 34
    },
    {
     "cell_type": "code",
     "collapsed": false,
     "input": [
      "ds_train.frame['LASD'].head()"
     ],
     "language": "python",
     "metadata": {},
     "outputs": [
      {
       "output_type": "pyout",
       "prompt_number": 35,
       "text": [
        "0    23\n",
        "1    23\n",
        "2    23\n",
        "3    23\n",
        "4    23\n",
        "Name: LASD"
       ]
      }
     ],
     "prompt_number": 35
    },
    {
     "cell_type": "markdown",
     "metadata": {},
     "source": [
      "We do the same for the testing dataset"
     ]
    },
    {
     "cell_type": "code",
     "collapsed": false,
     "input": [
      "ds_test = copper.read_csv('testing.csv')\n",
      "ds_test.type['RFA1'] = ds_test.NUMBER\n",
      "ds_test.type['RFA2'] = ds_test.NUMBER\n",
      "ds_test.type['Order'] = ds_test.NUMBER\n",
      "ds_test.role['CustomerID'] = ds_test.ID\n",
      "ds_test.role['Order'] = ds_test.TARGET\n",
      "fnc = lambda x: 12*(2007 - int(str(x)[0:4])) - int(str(x)[4:6]) + 2\n",
      "ds_test.transform('LASD', fnc)"
     ],
     "language": "python",
     "metadata": {},
     "outputs": [],
     "prompt_number": 36
    },
    {
     "cell_type": "code",
     "collapsed": false,
     "input": [
      "ds_test.frame['LASD'].head()"
     ],
     "language": "python",
     "metadata": {},
     "outputs": [
      {
       "output_type": "pyout",
       "prompt_number": 37,
       "text": [
        "0    21\n",
        "1    17\n",
        "2    21\n",
        "3    15\n",
        "4    11\n",
        "Name: LASD"
       ]
      }
     ],
     "prompt_number": 37
    },
    {
     "cell_type": "code",
     "collapsed": false,
     "input": [],
     "language": "python",
     "metadata": {},
     "outputs": []
    }
   ],
   "metadata": {}
  }
 ]
}