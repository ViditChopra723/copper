{
 "metadata": {
  "name": "ml"
 },
 "nbformat": 3,
 "nbformat_minor": 0,
 "worksheets": [
  {
   "cells": [
    {
     "cell_type": "markdown",
     "metadata": {},
     "source": [
      "Summary: This example deals with custom transformation of a column and then uses two datasets one for training models and and one for testing.\n",
      "\n",
      "Information about the data:\n",
      "\n",
      "1. NGIF: number of orders in the 24 months\n",
      "2. RAMN: Total order amounts in dollars in the last 24 months\n",
      "3. LASG: Amount of last order\n",
      "4. LASD: Date of last order (you may need to convert it to number of months elapsed to 01/01/2007)\n",
      "5. RFA1: Frequency of order\n",
      "6. RFA2: Order amount category (as defined by the firm) of the last order\n",
      "7. Order: Actual response (1: response, 0: no response)"
     ]
    },
    {
     "cell_type": "code",
     "collapsed": false,
     "input": [
      "import copper\n",
      "copper.project.path = '../'"
     ],
     "language": "python",
     "metadata": {},
     "outputs": [],
     "prompt_number": 1
    },
    {
     "cell_type": "code",
     "collapsed": false,
     "input": [
      "ds_train = copper.Dataset()\n",
      "ds_train.load('training.csv')"
     ],
     "language": "python",
     "metadata": {},
     "outputs": [],
     "prompt_number": 2
    },
    {
     "cell_type": "code",
     "collapsed": false,
     "input": [
      "ds_train.head()"
     ],
     "language": "python",
     "metadata": {},
     "outputs": [
      {
       "html": [
        "<div style=\"max-height:1000px;max-width:1500px;overflow:auto;\">\n",
        "<table border=\"1\" class=\"dataframe\">\n",
        "  <thead>\n",
        "    <tr style=\"text-align: right;\">\n",
        "      <th></th>\n",
        "      <th>CustomerID</th>\n",
        "      <th>NGIF</th>\n",
        "      <th>RAMN</th>\n",
        "      <th>LASG</th>\n",
        "      <th>LASD</th>\n",
        "      <th>RFA1</th>\n",
        "      <th>RFA2</th>\n",
        "      <th>Order</th>\n",
        "    </tr>\n",
        "  </thead>\n",
        "  <tbody>\n",
        "    <tr>\n",
        "      <th>0</th>\n",
        "      <td> 1</td>\n",
        "      <td>  2</td>\n",
        "      <td>  30</td>\n",
        "      <td> 20</td>\n",
        "      <td> 200503</td>\n",
        "      <td> 1</td>\n",
        "      <td> 6</td>\n",
        "      <td> 1</td>\n",
        "    </tr>\n",
        "    <tr>\n",
        "      <th>1</th>\n",
        "      <td> 2</td>\n",
        "      <td> 25</td>\n",
        "      <td> 207</td>\n",
        "      <td> 20</td>\n",
        "      <td> 200503</td>\n",
        "      <td> 1</td>\n",
        "      <td> 6</td>\n",
        "      <td> 0</td>\n",
        "    </tr>\n",
        "    <tr>\n",
        "      <th>2</th>\n",
        "      <td> 3</td>\n",
        "      <td>  5</td>\n",
        "      <td>  52</td>\n",
        "      <td> 15</td>\n",
        "      <td> 200503</td>\n",
        "      <td> 1</td>\n",
        "      <td> 6</td>\n",
        "      <td> 0</td>\n",
        "    </tr>\n",
        "    <tr>\n",
        "      <th>3</th>\n",
        "      <td> 4</td>\n",
        "      <td> 11</td>\n",
        "      <td> 105</td>\n",
        "      <td> 15</td>\n",
        "      <td> 200503</td>\n",
        "      <td> 1</td>\n",
        "      <td> 6</td>\n",
        "      <td> 0</td>\n",
        "    </tr>\n",
        "    <tr>\n",
        "      <th>4</th>\n",
        "      <td> 5</td>\n",
        "      <td>  2</td>\n",
        "      <td>  32</td>\n",
        "      <td> 17</td>\n",
        "      <td> 200503</td>\n",
        "      <td> 1</td>\n",
        "      <td> 6</td>\n",
        "      <td> 0</td>\n",
        "    </tr>\n",
        "  </tbody>\n",
        "</table>\n",
        "</div>"
       ],
       "output_type": "pyout",
       "prompt_number": 3,
       "text": [
        "   CustomerID  NGIF  RAMN  LASG    LASD  RFA1  RFA2  Order\n",
        "0           1     2    30    20  200503     1     6      1\n",
        "1           2    25   207    20  200503     1     6      0\n",
        "2           3     5    52    15  200503     1     6      0\n",
        "3           4    11   105    15  200503     1     6      0\n",
        "4           5     2    32    17  200503     1     6      0"
       ]
      }
     ],
     "prompt_number": 3
    },
    {
     "cell_type": "code",
     "collapsed": false,
     "input": [
      "ds_train.metadata"
     ],
     "language": "python",
     "metadata": {},
     "outputs": [
      {
       "html": [
        "<div style=\"max-height:1000px;max-width:1500px;overflow:auto;\">\n",
        "<table border=\"1\" class=\"dataframe\">\n",
        "  <thead>\n",
        "    <tr style=\"text-align: right;\">\n",
        "      <th></th>\n",
        "      <th>Role</th>\n",
        "      <th>Type</th>\n",
        "      <th>dtype</th>\n",
        "    </tr>\n",
        "  </thead>\n",
        "  <tbody>\n",
        "    <tr>\n",
        "      <th>CustomerID</th>\n",
        "      <td> Input</td>\n",
        "      <td> Number</td>\n",
        "      <td>   int64</td>\n",
        "    </tr>\n",
        "    <tr>\n",
        "      <th>NGIF</th>\n",
        "      <td> Input</td>\n",
        "      <td> Number</td>\n",
        "      <td>   int64</td>\n",
        "    </tr>\n",
        "    <tr>\n",
        "      <th>RAMN</th>\n",
        "      <td> Input</td>\n",
        "      <td> Number</td>\n",
        "      <td> float64</td>\n",
        "    </tr>\n",
        "    <tr>\n",
        "      <th>LASG</th>\n",
        "      <td> Input</td>\n",
        "      <td> Number</td>\n",
        "      <td> float64</td>\n",
        "    </tr>\n",
        "    <tr>\n",
        "      <th>LASD</th>\n",
        "      <td> Input</td>\n",
        "      <td> Number</td>\n",
        "      <td>   int64</td>\n",
        "    </tr>\n",
        "    <tr>\n",
        "      <th>RFA1</th>\n",
        "      <td> Input</td>\n",
        "      <td> Number</td>\n",
        "      <td>   int64</td>\n",
        "    </tr>\n",
        "    <tr>\n",
        "      <th>RFA2</th>\n",
        "      <td> Input</td>\n",
        "      <td> Number</td>\n",
        "      <td>   int64</td>\n",
        "    </tr>\n",
        "    <tr>\n",
        "      <th>Order</th>\n",
        "      <td> Input</td>\n",
        "      <td> Number</td>\n",
        "      <td>   int64</td>\n",
        "    </tr>\n",
        "  </tbody>\n",
        "</table>\n",
        "</div>"
       ],
       "output_type": "pyout",
       "prompt_number": 4,
       "text": [
        "             Role    Type    dtype\n",
        "CustomerID  Input  Number    int64\n",
        "NGIF        Input  Number    int64\n",
        "RAMN        Input  Number  float64\n",
        "LASG        Input  Number  float64\n",
        "LASD        Input  Number    int64\n",
        "RFA1        Input  Number    int64\n",
        "RFA2        Input  Number    int64\n",
        "Order       Input  Number    int64"
       ]
      }
     ],
     "prompt_number": 4
    },
    {
     "cell_type": "markdown",
     "metadata": {},
     "source": [
      "On this case all columns are numbers but there are some things that need to be fixed:\n",
      "\n",
      "1. CustomerID role is ID not input - ID is maily the same as a Rejected column, has no importance for machine learning.\n",
      "2. Order role is target not input\n",
      "3. LASD column needs to be fixed"
     ]
    },
    {
     "cell_type": "code",
     "collapsed": false,
     "input": [
      "ds_train.role['CustomerID'] = ds_train.ID\n",
      "ds_train.role['Order'] = ds_train.TARGET"
     ],
     "language": "python",
     "metadata": {},
     "outputs": [],
     "prompt_number": 5
    },
    {
     "cell_type": "code",
     "collapsed": false,
     "input": [
      "ds_train.metadata"
     ],
     "language": "python",
     "metadata": {},
     "outputs": [
      {
       "html": [
        "<div style=\"max-height:1000px;max-width:1500px;overflow:auto;\">\n",
        "<table border=\"1\" class=\"dataframe\">\n",
        "  <thead>\n",
        "    <tr style=\"text-align: right;\">\n",
        "      <th></th>\n",
        "      <th>Role</th>\n",
        "      <th>Type</th>\n",
        "      <th>dtype</th>\n",
        "    </tr>\n",
        "  </thead>\n",
        "  <tbody>\n",
        "    <tr>\n",
        "      <th>CustomerID</th>\n",
        "      <td>     ID</td>\n",
        "      <td> Number</td>\n",
        "      <td>   int64</td>\n",
        "    </tr>\n",
        "    <tr>\n",
        "      <th>NGIF</th>\n",
        "      <td>  Input</td>\n",
        "      <td> Number</td>\n",
        "      <td>   int64</td>\n",
        "    </tr>\n",
        "    <tr>\n",
        "      <th>RAMN</th>\n",
        "      <td>  Input</td>\n",
        "      <td> Number</td>\n",
        "      <td> float64</td>\n",
        "    </tr>\n",
        "    <tr>\n",
        "      <th>LASG</th>\n",
        "      <td>  Input</td>\n",
        "      <td> Number</td>\n",
        "      <td> float64</td>\n",
        "    </tr>\n",
        "    <tr>\n",
        "      <th>LASD</th>\n",
        "      <td>  Input</td>\n",
        "      <td> Number</td>\n",
        "      <td>   int64</td>\n",
        "    </tr>\n",
        "    <tr>\n",
        "      <th>RFA1</th>\n",
        "      <td>  Input</td>\n",
        "      <td> Number</td>\n",
        "      <td>   int64</td>\n",
        "    </tr>\n",
        "    <tr>\n",
        "      <th>RFA2</th>\n",
        "      <td>  Input</td>\n",
        "      <td> Number</td>\n",
        "      <td>   int64</td>\n",
        "    </tr>\n",
        "    <tr>\n",
        "      <th>Order</th>\n",
        "      <td> Target</td>\n",
        "      <td> Number</td>\n",
        "      <td>   int64</td>\n",
        "    </tr>\n",
        "  </tbody>\n",
        "</table>\n",
        "</div>"
       ],
       "output_type": "pyout",
       "prompt_number": 6,
       "text": [
        "              Role    Type    dtype\n",
        "CustomerID      ID  Number    int64\n",
        "NGIF         Input  Number    int64\n",
        "RAMN         Input  Number  float64\n",
        "LASG         Input  Number  float64\n",
        "LASD         Input  Number    int64\n",
        "RFA1         Input  Number    int64\n",
        "RFA2         Input  Number    int64\n",
        "Order       Target  Number    int64"
       ]
      }
     ],
     "prompt_number": 6
    },
    {
     "cell_type": "markdown",
     "metadata": {},
     "source": [
      "Metadata is now OK. Now the LASD is a number but it actually represents a date with format YYYYMM. For that reason we need to transform it. One possible solution is convert it to number of months since last transaction using this formula: `12*(2007 - YEAR) - MONTH + 2` we can do this with the same API as pandas `apply`"
     ]
    },
    {
     "cell_type": "code",
     "collapsed": false,
     "input": [
      "fnc = lambda x: 12*(2007 - int(str(x)[0:4])) - int(str(x)[4:6]) + 2\n",
      "ds_train['LASD'] = ds_train['LASD'].apply(fnc)"
     ],
     "language": "python",
     "metadata": {},
     "outputs": [],
     "prompt_number": 7
    },
    {
     "cell_type": "code",
     "collapsed": false,
     "input": [
      "ds_train.frame[['LASD']].head()"
     ],
     "language": "python",
     "metadata": {},
     "outputs": [
      {
       "html": [
        "<div style=\"max-height:1000px;max-width:1500px;overflow:auto;\">\n",
        "<table border=\"1\" class=\"dataframe\">\n",
        "  <thead>\n",
        "    <tr style=\"text-align: right;\">\n",
        "      <th></th>\n",
        "      <th>LASD</th>\n",
        "    </tr>\n",
        "  </thead>\n",
        "  <tbody>\n",
        "    <tr>\n",
        "      <th>0</th>\n",
        "      <td> 23</td>\n",
        "    </tr>\n",
        "    <tr>\n",
        "      <th>1</th>\n",
        "      <td> 23</td>\n",
        "    </tr>\n",
        "    <tr>\n",
        "      <th>2</th>\n",
        "      <td> 23</td>\n",
        "    </tr>\n",
        "    <tr>\n",
        "      <th>3</th>\n",
        "      <td> 23</td>\n",
        "    </tr>\n",
        "    <tr>\n",
        "      <th>4</th>\n",
        "      <td> 23</td>\n",
        "    </tr>\n",
        "  </tbody>\n",
        "</table>\n",
        "</div>"
       ],
       "output_type": "pyout",
       "prompt_number": 8,
       "text": [
        "   LASD\n",
        "0    23\n",
        "1    23\n",
        "2    23\n",
        "3    23\n",
        "4    23"
       ]
      }
     ],
     "prompt_number": 8
    },
    {
     "cell_type": "markdown",
     "metadata": {},
     "source": [
      "Perfect, we have to do the same for the testing dataset:"
     ]
    },
    {
     "cell_type": "code",
     "collapsed": false,
     "input": [
      "ds_test = copper.Dataset()\n",
      "ds_test.load('testing.csv')\n",
      "ds_test.role['CustomerID'] = ds_test.ID\n",
      "ds_test.role['Order'] = ds_test.TARGET\n",
      "ds_test['LASD'] = ds_test['LASD'].apply(fnc)"
     ],
     "language": "python",
     "metadata": {},
     "outputs": [],
     "prompt_number": 9
    },
    {
     "cell_type": "heading",
     "level": 2,
     "metadata": {},
     "source": [
      "Machine Learning"
     ]
    },
    {
     "cell_type": "markdown",
     "metadata": {},
     "source": [
      "Create a new MachineLearning instance and set the corresponding data"
     ]
    },
    {
     "cell_type": "code",
     "collapsed": false,
     "input": [
      "ml = copper.MachineLearning()\n",
      "ml.set_train(ds_train)\n",
      "ml.set_test(ds_test)"
     ],
     "language": "python",
     "metadata": {},
     "outputs": [],
     "prompt_number": 10
    },
    {
     "cell_type": "markdown",
     "metadata": {},
     "source": [
      "Create a few models to fit and compare: SVM, Decision Tree, GaussianNB and GradientBoosting."
     ]
    },
    {
     "cell_type": "code",
     "collapsed": false,
     "input": [
      "from sklearn import svm\n",
      "svm_clf = svm.SVC(probability=True)"
     ],
     "language": "python",
     "metadata": {},
     "outputs": [],
     "prompt_number": 11
    },
    {
     "cell_type": "code",
     "collapsed": false,
     "input": [
      "from sklearn import tree\n",
      "tree_clf = tree.DecisionTreeClassifier(max_depth=6)"
     ],
     "language": "python",
     "metadata": {},
     "outputs": [],
     "prompt_number": 12
    },
    {
     "cell_type": "code",
     "collapsed": false,
     "input": [
      "from sklearn.naive_bayes import GaussianNB\n",
      "gnb_clf = GaussianNB()"
     ],
     "language": "python",
     "metadata": {},
     "outputs": [],
     "prompt_number": 13
    },
    {
     "cell_type": "code",
     "collapsed": false,
     "input": [
      "from sklearn.ensemble import GradientBoostingClassifier\n",
      "gr_bst_clf = GradientBoostingClassifier()"
     ],
     "language": "python",
     "metadata": {},
     "outputs": [],
     "prompt_number": 14
    },
    {
     "cell_type": "markdown",
     "metadata": {},
     "source": [
      "Add the models to the ML instance and fit all the models. \n",
      "\n",
      "NOTE: the second parameter is an identifier and has to be unique."
     ]
    },
    {
     "cell_type": "code",
     "collapsed": false,
     "input": [
      "ml.add_clf(svm_clf, 'SVM')\n",
      "ml.add_clf(tree_clf, 'Decision Tree')\n",
      "ml.add_clf(gnb_clf, 'GaussianNB')\n",
      "ml.add_clf(gr_bst_clf, 'Grad Boosting')"
     ],
     "language": "python",
     "metadata": {},
     "outputs": [],
     "prompt_number": 15
    },
    {
     "cell_type": "code",
     "collapsed": false,
     "input": [
      "ml.fit()"
     ],
     "language": "python",
     "metadata": {},
     "outputs": [],
     "prompt_number": 16
    },
    {
     "cell_type": "heading",
     "level": 3,
     "metadata": {},
     "source": [
      "Comparing models"
     ]
    },
    {
     "cell_type": "markdown",
     "metadata": {},
     "source": [
      "We can see the accuracy of the models and plot the ROC curve."
     ]
    },
    {
     "cell_type": "code",
     "collapsed": false,
     "input": [
      "ml.accuracy()"
     ],
     "language": "python",
     "metadata": {},
     "outputs": [
      {
       "output_type": "pyout",
       "prompt_number": 18,
       "text": [
        "Grad Boosting    0.7200\n",
        "Decision Tree    0.7135\n",
        "SVM              0.6995\n",
        "GaussianNB       0.6790\n",
        "Name: Accuracy"
       ]
      }
     ],
     "prompt_number": 18
    },
    {
     "cell_type": "code",
     "collapsed": false,
     "input": [
      "ml.roc()"
     ],
     "language": "python",
     "metadata": {},
     "outputs": [
      {
       "output_type": "display_data",
       "png": "[encoded data removed]"
      }
     ],
     "prompt_number": 20
    },
    {
     "cell_type": "markdown",
     "metadata": {},
     "source": [
      "Playing with the classifiers is necessary to get better results. There are other solutions such as bagging (see the respective tutorial for that)"
     ]
    },
    {
     "cell_type": "heading",
     "level": 3,
     "metadata": {},
     "source": [
      "Confusion matrix"
     ]
    },
    {
     "cell_type": "markdown",
     "metadata": {},
     "source": [
      "One of the easiest ways of compare classifiers is the confusion matrix."
     ]
    },
    {
     "cell_type": "code",
     "collapsed": false,
     "input": [
      "ml.cm()"
     ],
     "language": "python",
     "metadata": {},
     "outputs": [
      {
       "output_type": "pyout",
       "prompt_number": 21,
       "text": [
        "{'Decision Tree': array([[1365,   67],\n",
        "       [ 506,   62]]),\n",
        " 'GaussianNB': array([[1196,  236],\n",
        "       [ 406,  162]]),\n",
        " 'Grad Boosting': array([[1387,   45],\n",
        "       [ 515,   53]]),\n",
        " 'SVM': array([[1362,   70],\n",
        "       [ 531,   37]])}"
       ]
      }
     ],
     "prompt_number": 21
    },
    {
     "cell_type": "markdown",
     "metadata": {},
     "source": [
      "That does not tell use very clear information but we can see it on a table format."
     ]
    },
    {
     "cell_type": "code",
     "collapsed": false,
     "input": [
      "ml.cm_table()"
     ],
     "language": "python",
     "metadata": {},
     "outputs": [
      {
       "html": [
        "<div style=\"max-height:1000px;max-width:1500px;overflow:auto;\">\n",
        "<table border=\"1\" class=\"dataframe\">\n",
        "  <thead>\n",
        "    <tr style=\"text-align: right;\">\n",
        "      <th></th>\n",
        "      <th>Predicted 0's</th>\n",
        "      <th>Correct 0's</th>\n",
        "      <th>Rate 0's</th>\n",
        "      <th>Predicted 1's</th>\n",
        "      <th>Correct 1's</th>\n",
        "      <th>Rate 1's</th>\n",
        "    </tr>\n",
        "  </thead>\n",
        "  <tbody>\n",
        "    <tr>\n",
        "      <th>Grad Boosting</th>\n",
        "      <td> 1902</td>\n",
        "      <td> 1387</td>\n",
        "      <td> 0.7292324</td>\n",
        "      <td>  98</td>\n",
        "      <td>  53</td>\n",
        "      <td> 0.5408163</td>\n",
        "    </tr>\n",
        "    <tr>\n",
        "      <th>Decision Tree</th>\n",
        "      <td> 1871</td>\n",
        "      <td> 1365</td>\n",
        "      <td> 0.7295564</td>\n",
        "      <td> 129</td>\n",
        "      <td>  62</td>\n",
        "      <td> 0.4806202</td>\n",
        "    </tr>\n",
        "    <tr>\n",
        "      <th>GaussianNB</th>\n",
        "      <td> 1602</td>\n",
        "      <td> 1196</td>\n",
        "      <td> 0.7465668</td>\n",
        "      <td> 398</td>\n",
        "      <td> 162</td>\n",
        "      <td> 0.4070352</td>\n",
        "    </tr>\n",
        "    <tr>\n",
        "      <th>SVM</th>\n",
        "      <td> 1893</td>\n",
        "      <td> 1362</td>\n",
        "      <td> 0.7194929</td>\n",
        "      <td> 107</td>\n",
        "      <td>  37</td>\n",
        "      <td> 0.3457944</td>\n",
        "    </tr>\n",
        "  </tbody>\n",
        "</table>\n",
        "</div>"
       ],
       "output_type": "pyout",
       "prompt_number": 23,
       "text": [
        "              Predicted 0's Correct 0's   Rate 0's Predicted 1's Correct 1's  \\\n",
        "Grad Boosting          1902        1387  0.7292324            98          53   \n",
        "Decision Tree          1871        1365  0.7295564           129          62   \n",
        "GaussianNB             1602        1196  0.7465668           398         162   \n",
        "SVM                    1893        1362  0.7194929           107          37   \n",
        "\n",
        "                Rate 1's  \n",
        "Grad Boosting  0.5408163  \n",
        "Decision Tree  0.4806202  \n",
        "GaussianNB     0.4070352  \n",
        "SVM            0.3457944  "
       ]
      }
     ],
     "prompt_number": 23
    },
    {
     "cell_type": "markdown",
     "metadata": {},
     "source": [
      "In order to see even more clean info is possible to filter by target values: 0 and 1 on this case."
     ]
    },
    {
     "cell_type": "code",
     "collapsed": false,
     "input": [
      "ml.cm_table(1)"
     ],
     "language": "python",
     "metadata": {},
     "outputs": [
      {
       "html": [
        "<div style=\"max-height:1000px;max-width:1500px;overflow:auto;\">\n",
        "<table border=\"1\" class=\"dataframe\">\n",
        "  <thead>\n",
        "    <tr style=\"text-align: right;\">\n",
        "      <th></th>\n",
        "      <th>Predicted 1's</th>\n",
        "      <th>Correct 1's</th>\n",
        "      <th>Rate 1's</th>\n",
        "    </tr>\n",
        "  </thead>\n",
        "  <tbody>\n",
        "    <tr>\n",
        "      <th>Grad Boosting</th>\n",
        "      <td>  98</td>\n",
        "      <td>  53</td>\n",
        "      <td> 0.5408163</td>\n",
        "    </tr>\n",
        "    <tr>\n",
        "      <th>Decision Tree</th>\n",
        "      <td> 129</td>\n",
        "      <td>  62</td>\n",
        "      <td> 0.4806202</td>\n",
        "    </tr>\n",
        "    <tr>\n",
        "      <th>GaussianNB</th>\n",
        "      <td> 398</td>\n",
        "      <td> 162</td>\n",
        "      <td> 0.4070352</td>\n",
        "    </tr>\n",
        "    <tr>\n",
        "      <th>SVM</th>\n",
        "      <td> 107</td>\n",
        "      <td>  37</td>\n",
        "      <td> 0.3457944</td>\n",
        "    </tr>\n",
        "  </tbody>\n",
        "</table>\n",
        "</div>"
       ],
       "output_type": "pyout",
       "prompt_number": 24,
       "text": [
        "              Predicted 1's Correct 1's   Rate 1's\n",
        "Grad Boosting            98          53  0.5408163\n",
        "Decision Tree           129          62  0.4806202\n",
        "GaussianNB              398         162  0.4070352\n",
        "SVM                     107          37  0.3457944"
       ]
      }
     ],
     "prompt_number": 24
    },
    {
     "cell_type": "markdown",
     "metadata": {},
     "source": [
      "That is better, we can even see a pretty picture of the matrix of each model (e.g. SVM)."
     ]
    },
    {
     "cell_type": "code",
     "collapsed": false,
     "input": [
      "ml.plot_cm('SVM')"
     ],
     "language": "python",
     "metadata": {},
     "outputs": [
      {
       "output_type": "display_data",
       "png": "[encoded data removed]"
      }
     ],
     "prompt_number": 25
    },
    {
     "cell_type": "heading",
     "level": 3,
     "metadata": {},
     "source": [
      "Let's talk about money"
     ]
    },
    {
     "cell_type": "markdown",
     "metadata": {},
     "source": [
      "We can define the costs of each prediction:\n",
      "\n",
      "1. True Negatives: 0 - did not send a catalog but wasn't a customer so we are good\n",
      "2. False Positives: 4 - catalog send but customer didn't respond\n",
      "3. False Negatives: 12 - catalog not sent and was a customer (opportunity cost)\n",
      "4. True Positives: 16 - catalog send and customer respond"
     ]
    },
    {
     "cell_type": "code",
     "collapsed": false,
     "input": [
      "ml.costs = [[0, 4], [12, 16]]"
     ],
     "language": "python",
     "metadata": {},
     "outputs": [],
     "prompt_number": 26
    },
    {
     "cell_type": "markdown",
     "metadata": {},
     "source": [
      "With the costs defined we can take a look at the revenues and oportunity cost"
     ]
    },
    {
     "cell_type": "code",
     "collapsed": false,
     "input": [
      "ml.income()"
     ],
     "language": "python",
     "metadata": {},
     "outputs": [
      {
       "html": [
        "<div style=\"max-height:1000px;max-width:1500px;overflow:auto;\">\n",
        "<table border=\"1\" class=\"dataframe\">\n",
        "  <thead>\n",
        "    <tr style=\"text-align: right;\">\n",
        "      <th></th>\n",
        "      <th>Loss from False Positive</th>\n",
        "      <th>Revenue</th>\n",
        "      <th>Income</th>\n",
        "    </tr>\n",
        "  </thead>\n",
        "  <tbody>\n",
        "    <tr>\n",
        "      <th>GaussianNB</th>\n",
        "      <td> 944</td>\n",
        "      <td> 2592</td>\n",
        "      <td> 1648</td>\n",
        "    </tr>\n",
        "    <tr>\n",
        "      <th>Decision Tree</th>\n",
        "      <td> 268</td>\n",
        "      <td>  992</td>\n",
        "      <td>  724</td>\n",
        "    </tr>\n",
        "    <tr>\n",
        "      <th>Grad Boosting</th>\n",
        "      <td> 180</td>\n",
        "      <td>  848</td>\n",
        "      <td>  668</td>\n",
        "    </tr>\n",
        "    <tr>\n",
        "      <th>SVM</th>\n",
        "      <td> 280</td>\n",
        "      <td>  592</td>\n",
        "      <td>  312</td>\n",
        "    </tr>\n",
        "  </tbody>\n",
        "</table>\n",
        "</div>"
       ],
       "output_type": "pyout",
       "prompt_number": 27,
       "text": [
        "              Loss from False Positive Revenue Income\n",
        "GaussianNB                         944    2592   1648\n",
        "Decision Tree                      268     992    724\n",
        "Grad Boosting                      180     848    668\n",
        "SVM                                280     592    312"
       ]
      }
     ],
     "prompt_number": 27
    },
    {
     "cell_type": "code",
     "collapsed": false,
     "input": [
      "ml.oportunity_cost()"
     ],
     "language": "python",
     "metadata": {},
     "outputs": [
      {
       "output_type": "pyout",
       "prompt_number": 28,
       "text": [
        "SVM              6652\n",
        "Grad Boosting    6360\n",
        "Decision Tree    6340\n",
        "GaussianNB       5816\n",
        "Name: Oportuniy cost"
       ]
      }
     ],
     "prompt_number": 28
    },
    {
     "cell_type": "markdown",
     "metadata": {},
     "source": [
      "OK, that is good, we now that SVM generates more revenue, but to what we are comparing? maybe is better to send catalog to everybody.\n",
      "Is always useful to compare the fact of using a model and not using any model, or what I call being an idiot."
     ]
    },
    {
     "cell_type": "code",
     "collapsed": false,
     "input": [
      "ml.income_no_ml()"
     ],
     "language": "python",
     "metadata": {},
     "outputs": [
      {
       "output_type": "pyout",
       "prompt_number": 31,
       "text": [
        "Expense        17184\n",
        "Revenue         9088\n",
        "Net revenue    -8096\n",
        "Name: Revenue of not using ML"
       ]
      }
     ],
     "prompt_number": 31
    },
    {
     "cell_type": "markdown",
     "metadata": {},
     "source": [
      "Definetly is not better to send catalogs to every person. Is much better to do nothing, but is even better to do machine learning classify the customers and send only to the better customers since it generates revenue."
     ]
    }
   ],
   "metadata": {}
  }
 ]
}