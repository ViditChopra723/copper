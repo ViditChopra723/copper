{
 "metadata": {
  "name": "gdbn-mnist"
 },
 "nbformat": 3,
 "nbformat_minor": 0,
 "worksheets": [
  {
   "cells": [
    {
     "cell_type": "code",
     "collapsed": false,
     "input": [
      "import numpy as np\n",
      "import pandas as pd\n",
      "from copper.ml.gdbn import DBN\n",
      "from sklearn.metrics import accuracy_score"
     ],
     "language": "python",
     "metadata": {},
     "outputs": [
      {
       "output_type": "stream",
       "stream": "stdout",
       "text": [
        "gnumpy: failed to import cudamat. Using npmat instead. No GPU will be used.\n"
       ]
      }
     ],
     "prompt_number": 1
    },
    {
     "cell_type": "code",
     "collapsed": false,
     "input": [
      "import cPickle, gzip, numpy\n",
      "f = gzip.open('mnist.pkl.gz', 'rb')\n",
      "train_set, valid_set, test_set = cPickle.load(f)\n",
      "f.close()\n",
      "X_train, y_train = train_set[0], train_set[1]\n",
      "X_valid, y_valid = valid_set[0], valid_set[1]"
     ],
     "language": "python",
     "metadata": {},
     "outputs": [],
     "prompt_number": 2
    },
    {
     "cell_type": "code",
     "collapsed": false,
     "input": [
      "dbn = DBN(layer_sizes=[-1, 25, 25, 25, 25, 25, 25, 25, 25, 25, -1], minibatch_size=50, epochs_pretrain=10, epochs=1, verbose=2)"
     ],
     "language": "python",
     "metadata": {},
     "outputs": [],
     "prompt_number": 7
    },
    {
     "cell_type": "code",
     "collapsed": false,
     "input": [
      "dbn.fit(X_train, y_train)"
     ],
     "language": "python",
     "metadata": {},
     "outputs": [
      {
       "output_type": "stream",
       "stream": "stdout",
       "text": [
        "[DBN] layers [784, 25, 25, 25, 25, 25, 25, 25, 25, 25, 10]\n",
        "[DBN] Pre-train layer 1...\n",
        "  Epoch 1: err 42.7731749756"
       ]
      },
      {
       "output_type": "stream",
       "stream": "stdout",
       "text": [
        "\n",
        "  (0:00:06)\n",
        "  Epoch 2: err 40.0893023999"
       ]
      },
      {
       "output_type": "stream",
       "stream": "stdout",
       "text": [
        "\n",
        "  (0:00:07)\n",
        "  Epoch 3: err 39.7982304395"
       ]
      },
      {
       "output_type": "stream",
       "stream": "stdout",
       "text": [
        "\n",
        "  (0:00:07)\n",
        "  Epoch 4: err 39.6681398242"
       ]
      },
      {
       "output_type": "stream",
       "stream": "stdout",
       "text": [
        "\n",
        "  (0:00:10)\n",
        "  Epoch 5: err 39.7754033984"
       ]
      },
      {
       "output_type": "stream",
       "stream": "stdout",
       "text": [
        "\n",
        "  (0:00:10)\n",
        "  Epoch 6: err 39.7904734961"
       ]
      },
      {
       "output_type": "stream",
       "stream": "stdout",
       "text": [
        "\n",
        "  (0:00:11)\n",
        "  Epoch 7: err 39.7138505273"
       ]
      },
      {
       "output_type": "stream",
       "stream": "stdout",
       "text": [
        "\n",
        "  (0:00:10)\n",
        "  Epoch 8: err 39.7429136255"
       ]
      },
      {
       "output_type": "stream",
       "stream": "stdout",
       "text": [
        "\n",
        "  (0:00:11)\n",
        "  Epoch 9: err 39.6754637891"
       ]
      },
      {
       "output_type": "stream",
       "stream": "stdout",
       "text": [
        "\n",
        "  (0:00:10)\n",
        "  Epoch 10: err 39.4174854834"
       ]
      },
      {
       "output_type": "stream",
       "stream": "stdout",
       "text": [
        "\n",
        "  (0:00:09)\n",
        "[DBN] Pre-train layer 2...\n",
        "  Epoch 1: err 0.564594047718"
       ]
      },
      {
       "output_type": "stream",
       "stream": "stdout",
       "text": [
        "\n",
        "  (0:00:08)\n",
        "  Epoch 2: err 0.42499586998"
       ]
      },
      {
       "output_type": "stream",
       "stream": "stdout",
       "text": [
        "\n",
        "  (0:00:08)\n",
        "  Epoch 3: err 0.420933466988"
       ]
      },
      {
       "output_type": "stream",
       "stream": "stdout",
       "text": [
        "\n",
        "  (0:00:09)\n",
        "  Epoch 4: err 0.417713335609"
       ]
      },
      {
       "output_type": "stream",
       "stream": "stdout",
       "text": [
        "\n",
        "  (0:00:08)\n",
        "  Epoch 5: err 0.417869758835"
       ]
      },
      {
       "output_type": "stream",
       "stream": "stdout",
       "text": [
        "\n",
        "  (0:00:10)\n",
        "  Epoch 6: err 0.412659177837"
       ]
      },
      {
       "output_type": "stream",
       "stream": "stdout",
       "text": [
        "\n",
        "  (0:00:09)\n",
        "  Epoch 7: err 0.41426429575"
       ]
      },
      {
       "output_type": "stream",
       "stream": "stdout",
       "text": [
        "\n",
        "  (0:00:09)\n",
        "  Epoch 8: err 0.412973142681"
       ]
      },
      {
       "output_type": "stream",
       "stream": "stdout",
       "text": [
        "\n",
        "  (0:00:09)\n",
        "  Epoch 9: err 0.410658301258"
       ]
      },
      {
       "output_type": "stream",
       "stream": "stdout",
       "text": [
        "\n",
        "  (0:00:09)\n",
        "  Epoch 10: err 0.410783168468"
       ]
      },
      {
       "output_type": "stream",
       "stream": "stdout",
       "text": [
        "\n",
        "  (0:00:09)\n",
        "[DBN] Pre-train layer 3...\n",
        "  Epoch 1: err 0.782539724274"
       ]
      },
      {
       "output_type": "stream",
       "stream": "stdout",
       "text": [
        "\n",
        "  (0:00:10)\n",
        "  Epoch 2: err 0.561454992752"
       ]
      },
      {
       "output_type": "stream",
       "stream": "stdout",
       "text": [
        "\n",
        "  (0:00:10)\n",
        "  Epoch 3: err 0.551077058678"
       ]
      },
      {
       "output_type": "stream",
       "stream": "stdout",
       "text": [
        "\n",
        "  (0:00:05)\n",
        "  Epoch 4: err 0.541092357864"
       ]
      },
      {
       "output_type": "stream",
       "stream": "stdout",
       "text": [
        "\n",
        "  (0:00:05)\n",
        "  Epoch 5: err 0.539301400337"
       ]
      },
      {
       "output_type": "stream",
       "stream": "stdout",
       "text": [
        "\n",
        "  (0:00:06)\n",
        "  Epoch 6: err 0.542227279587"
       ]
      },
      {
       "output_type": "stream",
       "stream": "stdout",
       "text": [
        "\n",
        "  (0:00:07)\n",
        "  Epoch 7: err 0.536892622814"
       ]
      },
      {
       "output_type": "stream",
       "stream": "stdout",
       "text": [
        "\n",
        "  (0:00:08)\n",
        "  Epoch 8: err 0.53971718441"
       ]
      },
      {
       "output_type": "stream",
       "stream": "stdout",
       "text": [
        "\n",
        "  (0:00:08)\n",
        "  Epoch 9: err 0.538279552574"
       ]
      },
      {
       "output_type": "stream",
       "stream": "stdout",
       "text": [
        "\n",
        "  (0:00:09)\n",
        "  Epoch 10: err 0.536189886227"
       ]
      },
      {
       "output_type": "stream",
       "stream": "stdout",
       "text": [
        "\n",
        "  (0:00:10)\n",
        "[DBN] Pre-train layer 4...\n",
        "  Epoch 1: err 0.574552013969"
       ]
      },
      {
       "output_type": "stream",
       "stream": "stdout",
       "text": [
        "\n",
        "  (0:00:09)\n",
        "  Epoch 2: err 0.429623644638"
       ]
      },
      {
       "output_type": "stream",
       "stream": "stdout",
       "text": [
        "\n",
        "  (0:00:09)\n",
        "  Epoch 3: err 0.424916916847"
       ]
      },
      {
       "output_type": "stream",
       "stream": "stdout",
       "text": [
        "\n",
        "  (0:00:09)\n",
        "  Epoch 4: err 0.423164574261"
       ]
      },
      {
       "output_type": "stream",
       "stream": "stdout",
       "text": [
        "\n",
        "  (0:00:09)\n",
        "  Epoch 5: err 0.422181212063"
       ]
      },
      {
       "output_type": "stream",
       "stream": "stdout",
       "text": [
        "\n",
        "  (0:00:13)\n",
        "  Epoch 6: err 0.419291523972"
       ]
      },
      {
       "output_type": "stream",
       "stream": "stdout",
       "text": [
        "\n",
        "  (0:00:10)\n",
        "  Epoch 7: err 0.421178766422"
       ]
      },
      {
       "output_type": "stream",
       "stream": "stdout",
       "text": [
        "\n",
        "  (0:00:09)\n",
        "  Epoch 8: err 0.415155034008"
       ]
      },
      {
       "output_type": "stream",
       "stream": "stdout",
       "text": [
        "\n",
        "  (0:00:10)\n",
        "  Epoch 9: err 0.411696513767"
       ]
      },
      {
       "output_type": "stream",
       "stream": "stdout",
       "text": [
        "\n",
        "  (0:00:11)\n",
        "  Epoch 10: err 0.412922830105"
       ]
      },
      {
       "output_type": "stream",
       "stream": "stdout",
       "text": [
        "\n",
        "  (0:00:10)\n",
        "[DBN] Pre-train layer 5...\n",
        "  Epoch 1: err 0.662990727425"
       ]
      },
      {
       "output_type": "stream",
       "stream": "stdout",
       "text": [
        "\n",
        "  (0:00:10)\n",
        "  Epoch 2: err 0.480850988464"
       ]
      },
      {
       "output_type": "stream",
       "stream": "stdout",
       "text": [
        "\n",
        "  (0:00:11)\n",
        "  Epoch 3: err 0.461903001232"
       ]
      },
      {
       "output_type": "stream",
       "stream": "stdout",
       "text": [
        "\n",
        "  (0:00:11)\n",
        "  Epoch 4: err 0.454479528904"
       ]
      },
      {
       "output_type": "stream",
       "stream": "stdout",
       "text": [
        "\n",
        "  (0:00:12)\n",
        "  Epoch 5: err 0.447462526226"
       ]
      },
      {
       "output_type": "stream",
       "stream": "stdout",
       "text": [
        "\n",
        "  (0:00:11)\n",
        "  Epoch 6: err 0.446550805702"
       ]
      },
      {
       "output_type": "stream",
       "stream": "stdout",
       "text": [
        "\n",
        "  (0:00:10)\n",
        "  Epoch 7: err 0.450291215534"
       ]
      },
      {
       "output_type": "stream",
       "stream": "stdout",
       "text": [
        "\n",
        "  (0:00:10)\n",
        "  Epoch 8: err 0.447264556885"
       ]
      },
      {
       "output_type": "stream",
       "stream": "stdout",
       "text": [
        "\n",
        "  (0:00:10)\n",
        "  Epoch 9: err 0.445229889927"
       ]
      },
      {
       "output_type": "stream",
       "stream": "stdout",
       "text": [
        "\n",
        "  (0:00:10)\n",
        "  Epoch 10: err 0.446071004963"
       ]
      },
      {
       "output_type": "stream",
       "stream": "stdout",
       "text": [
        "\n",
        "  (0:00:11)\n",
        "[DBN] Pre-train layer 6...\n",
        "  Epoch 1: err 0.490948967667"
       ]
      },
      {
       "output_type": "stream",
       "stream": "stdout",
       "text": [
        "\n",
        "  (0:00:10)\n",
        "  Epoch 2: err 0.357368675404"
       ]
      },
      {
       "output_type": "stream",
       "stream": "stdout",
       "text": [
        "\n",
        "  (0:00:11)\n",
        "  Epoch 3: err 0.35028377739"
       ]
      },
      {
       "output_type": "stream",
       "stream": "stdout",
       "text": [
        "\n",
        "  (0:00:12)\n",
        "  Epoch 4: err 0.351762122421"
       ]
      },
      {
       "output_type": "stream",
       "stream": "stdout",
       "text": [
        "\n",
        "  (0:00:12)\n",
        "  Epoch 5: err 0.348866314373"
       ]
      },
      {
       "output_type": "stream",
       "stream": "stdout",
       "text": [
        "\n",
        "  (0:00:10)\n",
        "  Epoch 6: err 0.3476624617"
       ]
      },
      {
       "output_type": "stream",
       "stream": "stdout",
       "text": [
        "\n",
        "  (0:00:15)\n",
        "  Epoch 7: err 0.345553219109"
       ]
      },
      {
       "output_type": "stream",
       "stream": "stdout",
       "text": [
        "\n",
        "  (0:00:11)\n",
        "  Epoch 8: err 0.344891065731"
       ]
      },
      {
       "output_type": "stream",
       "stream": "stdout",
       "text": [
        "\n",
        "  (0:00:11)\n",
        "  Epoch 9: err 0.345215664482"
       ]
      },
      {
       "output_type": "stream",
       "stream": "stdout",
       "text": [
        "\n",
        "  (0:00:13)\n",
        "  Epoch 10: err 0.345437562122"
       ]
      },
      {
       "output_type": "stream",
       "stream": "stdout",
       "text": [
        "\n",
        "  (0:00:12)\n",
        "[DBN] Pre-train layer 7...\n",
        "  Epoch 1: err 0.540519523182"
       ]
      },
      {
       "output_type": "stream",
       "stream": "stdout",
       "text": [
        "\n",
        "  (0:00:12)\n",
        "  Epoch 2: err 0.378724025307"
       ]
      },
      {
       "output_type": "stream",
       "stream": "stdout",
       "text": [
        "\n",
        "  (0:00:12)\n",
        "  Epoch 3: err 0.361830016098"
       ]
      },
      {
       "output_type": "stream",
       "stream": "stdout",
       "text": [
        "\n",
        "  (0:00:13)\n",
        "  Epoch 4: err 0.350019960918"
       ]
      },
      {
       "output_type": "stream",
       "stream": "stdout",
       "text": [
        "\n",
        "  (0:00:13)\n",
        "  Epoch 5: err 0.344197964668"
       ]
      },
      {
       "output_type": "stream",
       "stream": "stdout",
       "text": [
        "\n",
        "  (0:00:11)\n",
        "  Epoch 6: err 0.342782883511"
       ]
      },
      {
       "output_type": "stream",
       "stream": "stdout",
       "text": [
        "\n",
        "  (0:00:11)\n",
        "  Epoch 7: err 0.339917819862"
       ]
      },
      {
       "output_type": "stream",
       "stream": "stdout",
       "text": [
        "\n",
        "  (0:00:13)\n",
        "  Epoch 8: err 0.338786740608"
       ]
      },
      {
       "output_type": "stream",
       "stream": "stdout",
       "text": [
        "\n",
        "  (0:00:11)\n",
        "  Epoch 9: err 0.33986771883"
       ]
      },
      {
       "output_type": "stream",
       "stream": "stdout",
       "text": [
        "\n",
        "  (0:00:11)\n",
        "  Epoch 10: err 0.335448113956"
       ]
      },
      {
       "output_type": "stream",
       "stream": "stdout",
       "text": [
        "\n",
        "  (0:00:18)\n",
        "[DBN] Pre-train layer 8...\n",
        "  Epoch 1: err 0.430200610209"
       ]
      },
      {
       "output_type": "stream",
       "stream": "stdout",
       "text": [
        "\n",
        "  (0:00:15)\n",
        "  Epoch 2: err 0.272202297306"
       ]
      },
      {
       "output_type": "stream",
       "stream": "stdout",
       "text": [
        "\n",
        "  (0:00:12)\n",
        "  Epoch 3: err 0.261718553572"
       ]
      },
      {
       "output_type": "stream",
       "stream": "stdout",
       "text": [
        "\n",
        "  (0:00:13)\n",
        "  Epoch 4: err 0.258954271698"
       ]
      },
      {
       "output_type": "stream",
       "stream": "stdout",
       "text": [
        "\n",
        "  (0:00:12)\n",
        "  Epoch 5: err 0.255955440588"
       ]
      },
      {
       "output_type": "stream",
       "stream": "stdout",
       "text": [
        "\n",
        "  (0:00:15)\n",
        "  Epoch 6: err 0.252390086384"
       ]
      },
      {
       "output_type": "stream",
       "stream": "stdout",
       "text": [
        "\n",
        "  (0:00:13)\n",
        "  Epoch 7: err 0.254716023874"
       ]
      },
      {
       "output_type": "stream",
       "stream": "stdout",
       "text": [
        "\n",
        "  (0:00:12)\n",
        "  Epoch 8: err 0.254410709705"
       ]
      },
      {
       "output_type": "stream",
       "stream": "stdout",
       "text": [
        "\n",
        "  (0:00:17)\n",
        "  Epoch 9: err 0.25166263525"
       ]
      },
      {
       "output_type": "stream",
       "stream": "stdout",
       "text": [
        "\n",
        "  (0:00:11)\n",
        "  Epoch 10: err 0.246342969666"
       ]
      },
      {
       "output_type": "stream",
       "stream": "stdout",
       "text": [
        "\n",
        "  (0:00:08)\n",
        "[DBN] Pre-train layer 9...\n",
        "  Epoch 1: err 0.421405968761"
       ]
      },
      {
       "output_type": "stream",
       "stream": "stdout",
       "text": [
        "\n",
        "  (0:00:10)\n",
        "  Epoch 2: err 0.245221748247"
       ]
      },
      {
       "output_type": "stream",
       "stream": "stdout",
       "text": [
        "\n",
        "  (0:00:09)\n",
        "  Epoch 3: err 0.236272596121"
       ]
      },
      {
       "output_type": "stream",
       "stream": "stdout",
       "text": [
        "\n",
        "  (0:00:09)\n",
        "  Epoch 4: err 0.230372924156"
       ]
      },
      {
       "output_type": "stream",
       "stream": "stdout",
       "text": [
        "\n",
        "  (0:00:09)\n",
        "  Epoch 5: err 0.225123530531"
       ]
      },
      {
       "output_type": "stream",
       "stream": "stdout",
       "text": [
        "\n",
        "  (0:00:09)\n",
        "  Epoch 6: err 0.22077395175"
       ]
      },
      {
       "output_type": "stream",
       "stream": "stdout",
       "text": [
        "\n",
        "  (0:00:09)\n",
        "  Epoch 7: err 0.220900590916"
       ]
      },
      {
       "output_type": "stream",
       "stream": "stdout",
       "text": [
        "\n",
        "  (0:00:10)\n",
        "  Epoch 8: err 0.220886504049"
       ]
      },
      {
       "output_type": "stream",
       "stream": "stdout",
       "text": [
        "\n",
        "  (0:00:09)\n",
        "  Epoch 9: err 0.216504039154"
       ]
      },
      {
       "output_type": "stream",
       "stream": "stdout",
       "text": [
        "\n",
        "  (0:00:10)\n",
        "  Epoch 10: err 0.218730626307"
       ]
      },
      {
       "output_type": "stream",
       "stream": "stdout",
       "text": [
        "\n",
        "  (0:00:09)\n",
        "[DBN] Pre-train layer 10...\n",
        "  Epoch 1: err 0.402226821804"
       ]
      },
      {
       "output_type": "stream",
       "stream": "stdout",
       "text": [
        "\n",
        "  (0:00:10)\n",
        "  Epoch 2: err 0.223367679853"
       ]
      },
      {
       "output_type": "stream",
       "stream": "stdout",
       "text": [
        "\n",
        "  (0:00:10)\n",
        "  Epoch 3: err 0.209412128124"
       ]
      },
      {
       "output_type": "stream",
       "stream": "stdout",
       "text": [
        "\n",
        "  (0:00:09)\n",
        "  Epoch 4: err 0.199655535569"
       ]
      },
      {
       "output_type": "stream",
       "stream": "stdout",
       "text": [
        "\n",
        "  (0:00:09)\n",
        "  Epoch 5: err 0.200933816767"
       ]
      },
      {
       "output_type": "stream",
       "stream": "stdout",
       "text": [
        "\n",
        "  (0:00:09)\n",
        "  Epoch 6: err 0.200655613756"
       ]
      },
      {
       "output_type": "stream",
       "stream": "stdout",
       "text": [
        "\n",
        "  (0:00:09)\n",
        "  Epoch 7: err 0.202783771667"
       ]
      },
      {
       "output_type": "stream",
       "stream": "stdout",
       "text": [
        "\n",
        "  (0:00:09)\n",
        "  Epoch 8: err 0.201429413834"
       ]
      },
      {
       "output_type": "stream",
       "stream": "stdout",
       "text": [
        "\n",
        "  (0:00:09)\n",
        "  Epoch 9: err 0.183424027014"
       ]
      },
      {
       "output_type": "stream",
       "stream": "stdout",
       "text": [
        "\n",
        "  (0:00:11)\n",
        "  Epoch 10: err 0.177892048535"
       ]
      },
      {
       "output_type": "stream",
       "stream": "stderr",
       "text": [
        "1%\r"
       ]
      },
      {
       "output_type": "stream",
       "stream": "stderr",
       "text": [
        "2%\r"
       ]
      },
      {
       "output_type": "stream",
       "stream": "stderr",
       "text": [
        "3%\r"
       ]
      },
      {
       "output_type": "stream",
       "stream": "stderr",
       "text": [
        "4%\r"
       ]
      },
      {
       "output_type": "stream",
       "stream": "stderr",
       "text": [
        "5%\r"
       ]
      },
      {
       "output_type": "stream",
       "stream": "stderr",
       "text": [
        "6%\r"
       ]
      },
      {
       "output_type": "stream",
       "stream": "stderr",
       "text": [
        "7%\r"
       ]
      },
      {
       "output_type": "stream",
       "stream": "stderr",
       "text": [
        "8%\r"
       ]
      },
      {
       "output_type": "stream",
       "stream": "stderr",
       "text": [
        "9%\r"
       ]
      },
      {
       "output_type": "stream",
       "stream": "stderr",
       "text": [
        "10%\r"
       ]
      },
      {
       "output_type": "stream",
       "stream": "stderr",
       "text": [
        "11%\r"
       ]
      },
      {
       "output_type": "stream",
       "stream": "stderr",
       "text": [
        "12%\r"
       ]
      },
      {
       "output_type": "stream",
       "stream": "stderr",
       "text": [
        "13%\r"
       ]
      },
      {
       "output_type": "stream",
       "stream": "stderr",
       "text": [
        "14%\r"
       ]
      },
      {
       "output_type": "stream",
       "stream": "stderr",
       "text": [
        "15%\r"
       ]
      },
      {
       "output_type": "stream",
       "stream": "stderr",
       "text": [
        "16%\r"
       ]
      },
      {
       "output_type": "stream",
       "stream": "stderr",
       "text": [
        "17%\r"
       ]
      },
      {
       "output_type": "stream",
       "stream": "stderr",
       "text": [
        "18%\r"
       ]
      },
      {
       "output_type": "stream",
       "stream": "stderr",
       "text": [
        "19%\r"
       ]
      },
      {
       "output_type": "stream",
       "stream": "stderr",
       "text": [
        "20%\r"
       ]
      },
      {
       "output_type": "stream",
       "stream": "stderr",
       "text": [
        "21%\r"
       ]
      },
      {
       "output_type": "stream",
       "stream": "stderr",
       "text": [
        "22%\r"
       ]
      },
      {
       "output_type": "stream",
       "stream": "stderr",
       "text": [
        "23%\r"
       ]
      },
      {
       "output_type": "stream",
       "stream": "stderr",
       "text": [
        "24%\r"
       ]
      },
      {
       "output_type": "stream",
       "stream": "stderr",
       "text": [
        "25%\r"
       ]
      },
      {
       "output_type": "stream",
       "stream": "stderr",
       "text": [
        "26%\r"
       ]
      },
      {
       "output_type": "stream",
       "stream": "stderr",
       "text": [
        "27%\r"
       ]
      },
      {
       "output_type": "stream",
       "stream": "stderr",
       "text": [
        "28%\r"
       ]
      },
      {
       "output_type": "stream",
       "stream": "stderr",
       "text": [
        "29%\r"
       ]
      },
      {
       "output_type": "stream",
       "stream": "stderr",
       "text": [
        "30%\r"
       ]
      },
      {
       "output_type": "stream",
       "stream": "stderr",
       "text": [
        "31%\r"
       ]
      },
      {
       "output_type": "stream",
       "stream": "stderr",
       "text": [
        "32%\r"
       ]
      },
      {
       "output_type": "stream",
       "stream": "stderr",
       "text": [
        "33%\r"
       ]
      },
      {
       "output_type": "stream",
       "stream": "stderr",
       "text": [
        "34%\r"
       ]
      },
      {
       "output_type": "stream",
       "stream": "stderr",
       "text": [
        "35%\r"
       ]
      },
      {
       "output_type": "stream",
       "stream": "stderr",
       "text": [
        "36%\r"
       ]
      },
      {
       "output_type": "stream",
       "stream": "stderr",
       "text": [
        "37%\r"
       ]
      },
      {
       "output_type": "stream",
       "stream": "stderr",
       "text": [
        "38%\r"
       ]
      },
      {
       "output_type": "stream",
       "stream": "stderr",
       "text": [
        "39%\r"
       ]
      },
      {
       "output_type": "stream",
       "stream": "stderr",
       "text": [
        "40%\r"
       ]
      },
      {
       "output_type": "stream",
       "stream": "stderr",
       "text": [
        "41%\r"
       ]
      },
      {
       "output_type": "stream",
       "stream": "stderr",
       "text": [
        "42%\r"
       ]
      },
      {
       "output_type": "stream",
       "stream": "stderr",
       "text": [
        "43%\r"
       ]
      },
      {
       "output_type": "stream",
       "stream": "stderr",
       "text": [
        "44%\r"
       ]
      },
      {
       "output_type": "stream",
       "stream": "stderr",
       "text": [
        "45%\r"
       ]
      },
      {
       "output_type": "stream",
       "stream": "stderr",
       "text": [
        "46%\r"
       ]
      },
      {
       "output_type": "stream",
       "stream": "stderr",
       "text": [
        "47%\r"
       ]
      },
      {
       "output_type": "stream",
       "stream": "stderr",
       "text": [
        "48%\r"
       ]
      },
      {
       "output_type": "stream",
       "stream": "stderr",
       "text": [
        "49%\r"
       ]
      },
      {
       "output_type": "stream",
       "stream": "stderr",
       "text": [
        "50%\r"
       ]
      },
      {
       "output_type": "stream",
       "stream": "stderr",
       "text": [
        "51%\r"
       ]
      },
      {
       "output_type": "stream",
       "stream": "stderr",
       "text": [
        "52%\r"
       ]
      },
      {
       "output_type": "stream",
       "stream": "stderr",
       "text": [
        "53%\r"
       ]
      },
      {
       "output_type": "stream",
       "stream": "stderr",
       "text": [
        "54%\r"
       ]
      },
      {
       "output_type": "stream",
       "stream": "stderr",
       "text": [
        "55%\r"
       ]
      },
      {
       "output_type": "stream",
       "stream": "stderr",
       "text": [
        "56%\r"
       ]
      },
      {
       "output_type": "stream",
       "stream": "stderr",
       "text": [
        "57%\r"
       ]
      },
      {
       "output_type": "stream",
       "stream": "stderr",
       "text": [
        "58%\r"
       ]
      },
      {
       "output_type": "stream",
       "stream": "stderr",
       "text": [
        "59%\r"
       ]
      },
      {
       "output_type": "stream",
       "stream": "stderr",
       "text": [
        "60%\r"
       ]
      },
      {
       "output_type": "stream",
       "stream": "stderr",
       "text": [
        "61%\r"
       ]
      },
      {
       "output_type": "stream",
       "stream": "stderr",
       "text": [
        "62%\r"
       ]
      },
      {
       "output_type": "stream",
       "stream": "stderr",
       "text": [
        "63%\r"
       ]
      },
      {
       "output_type": "stream",
       "stream": "stderr",
       "text": [
        "64%\r"
       ]
      },
      {
       "output_type": "stream",
       "stream": "stderr",
       "text": [
        "65%\r"
       ]
      },
      {
       "output_type": "stream",
       "stream": "stderr",
       "text": [
        "66%\r"
       ]
      },
      {
       "output_type": "stream",
       "stream": "stderr",
       "text": [
        "67%\r"
       ]
      },
      {
       "output_type": "stream",
       "stream": "stderr",
       "text": [
        "68%\r"
       ]
      },
      {
       "output_type": "stream",
       "stream": "stderr",
       "text": [
        "69%\r"
       ]
      },
      {
       "output_type": "stream",
       "stream": "stderr",
       "text": [
        "70%\r"
       ]
      },
      {
       "output_type": "stream",
       "stream": "stderr",
       "text": [
        "71%\r"
       ]
      },
      {
       "output_type": "stream",
       "stream": "stderr",
       "text": [
        "72%\r"
       ]
      },
      {
       "output_type": "stream",
       "stream": "stderr",
       "text": [
        "73%\r"
       ]
      },
      {
       "output_type": "stream",
       "stream": "stderr",
       "text": [
        "74%\r"
       ]
      },
      {
       "output_type": "stream",
       "stream": "stderr",
       "text": [
        "75%\r"
       ]
      },
      {
       "output_type": "stream",
       "stream": "stderr",
       "text": [
        "76%\r"
       ]
      },
      {
       "output_type": "stream",
       "stream": "stderr",
       "text": [
        "77%\r"
       ]
      },
      {
       "output_type": "stream",
       "stream": "stderr",
       "text": [
        "78%\r"
       ]
      },
      {
       "output_type": "stream",
       "stream": "stderr",
       "text": [
        "79%\r"
       ]
      },
      {
       "output_type": "stream",
       "stream": "stderr",
       "text": [
        "80%\r"
       ]
      },
      {
       "output_type": "stream",
       "stream": "stderr",
       "text": [
        "81%\r"
       ]
      },
      {
       "output_type": "stream",
       "stream": "stderr",
       "text": [
        "82%\r"
       ]
      },
      {
       "output_type": "stream",
       "stream": "stderr",
       "text": [
        "83%\r"
       ]
      },
      {
       "output_type": "stream",
       "stream": "stderr",
       "text": [
        "84%\r"
       ]
      },
      {
       "output_type": "stream",
       "stream": "stderr",
       "text": [
        "85%\r"
       ]
      },
      {
       "output_type": "stream",
       "stream": "stderr",
       "text": [
        "86%\r"
       ]
      },
      {
       "output_type": "stream",
       "stream": "stderr",
       "text": [
        "87%\r"
       ]
      },
      {
       "output_type": "stream",
       "stream": "stderr",
       "text": [
        "88%\r"
       ]
      },
      {
       "output_type": "stream",
       "stream": "stderr",
       "text": [
        "89%\r"
       ]
      },
      {
       "output_type": "stream",
       "stream": "stderr",
       "text": [
        "90%\r"
       ]
      },
      {
       "output_type": "stream",
       "stream": "stderr",
       "text": [
        "91%\r"
       ]
      },
      {
       "output_type": "stream",
       "stream": "stderr",
       "text": [
        "92%\r"
       ]
      },
      {
       "output_type": "stream",
       "stream": "stderr",
       "text": [
        "93%\r"
       ]
      },
      {
       "output_type": "stream",
       "stream": "stderr",
       "text": [
        "94%\r"
       ]
      },
      {
       "output_type": "stream",
       "stream": "stderr",
       "text": [
        "95%\r"
       ]
      },
      {
       "output_type": "stream",
       "stream": "stderr",
       "text": [
        "96%\r"
       ]
      },
      {
       "output_type": "stream",
       "stream": "stderr",
       "text": [
        "97%\r"
       ]
      },
      {
       "output_type": "stream",
       "stream": "stderr",
       "text": [
        "98%\r"
       ]
      },
      {
       "output_type": "stream",
       "stream": "stderr",
       "text": [
        "99%\r"
       ]
      },
      {
       "output_type": "stream",
       "stream": "stderr",
       "text": [
        "100%\r"
       ]
      },
      {
       "output_type": "stream",
       "stream": "stderr",
       "text": [
        "100%\n"
       ]
      },
      {
       "output_type": "stream",
       "stream": "stdout",
       "text": [
        "\n",
        "  (0:00:09)\n",
        "[DBN] Fine-tune...\n",
        "Epoch 1:"
       ]
      },
      {
       "output_type": "stream",
       "stream": "stdout",
       "text": [
        "\n",
        "  loss 2.12579677475\n",
        "  err  0.79482\n",
        "  (0:00:23)\n"
       ]
      }
     ],
     "prompt_number": 8
    },
    {
     "cell_type": "code",
     "collapsed": false,
     "input": [
      "(dbn.predict(X_train) == y_train).mean()  # p10-f1"
     ],
     "language": "python",
     "metadata": {},
     "outputs": [],
     "prompt_number": "*"
    },
    {
     "cell_type": "code",
     "collapsed": false,
     "input": [
      "dbn = DBN(layer_sizes=[-1, 25, 25, 25, 25, 25, 25, 25, 25, 25, -1], minibatch_size=50, epochs_pretrain=10, epochs=1, verbose=2)"
     ],
     "language": "python",
     "metadata": {},
     "outputs": []
    },
    {
     "cell_type": "code",
     "collapsed": false,
     "input": [
      "dbn.fit(X_train, y_train)"
     ],
     "language": "python",
     "metadata": {},
     "outputs": []
    },
    {
     "cell_type": "code",
     "collapsed": false,
     "input": [
      "(dbn.predict(X_train) == y_train).mean()"
     ],
     "language": "python",
     "metadata": {},
     "outputs": []
    }
   ],
   "metadata": {}
  }
 ]
}