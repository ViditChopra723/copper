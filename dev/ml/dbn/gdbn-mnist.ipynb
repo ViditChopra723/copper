{
 "metadata": {
  "name": "gdbn-mnist"
 },
 "nbformat": 3,
 "nbformat_minor": 0,
 "worksheets": [
  {
   "cells": [
    {
     "cell_type": "code",
     "collapsed": false,
     "input": [
      "from sklearn.ensemble import RandomForestClassifier"
     ],
     "language": "python",
     "metadata": {},
     "outputs": [],
     "prompt_number": 1
    },
    {
     "cell_type": "code",
     "collapsed": false,
     "input": [
      "from copper.ml.gdbn.dbn import DBN"
     ],
     "language": "python",
     "metadata": {},
     "outputs": [
      {
       "output_type": "stream",
       "stream": "stdout",
       "text": [
        "gnumpy: failed to import cudamat. Using npmat instead. No GPU will be used.\n"
       ]
      }
     ],
     "prompt_number": 2
    },
    {
     "cell_type": "code",
     "collapsed": false,
     "input": [
      "import cPickle, gzip, numpy\n",
      "f = gzip.open('mnist.pkl.gz', 'rb')\n",
      "train_set, valid_set, test_set = cPickle.load(f)\n",
      "f.close()\n",
      "X_train, y_train = train_set[0], train_set[1]\n",
      "X_valid, y_valid = valid_set[0], valid_set[1]"
     ],
     "language": "python",
     "metadata": {},
     "outputs": [],
     "prompt_number": 3
    },
    {
     "cell_type": "code",
     "collapsed": false,
     "input": [
      "dbn = DBN(layer_sizes=[-1, 25, 25, 25, 25, 25, 25, 25, 25, 25, -1], minibatch_size=50, verbose=2)"
     ],
     "language": "python",
     "metadata": {},
     "outputs": [],
     "prompt_number": 4
    },
    {
     "cell_type": "code",
     "collapsed": false,
     "input": [
      "dbn.fit(X_train, y_train)"
     ],
     "language": "python",
     "metadata": {},
     "outputs": [
      {
       "output_type": "stream",
       "stream": "stderr",
       "text": [
        "1%\r"
       ]
      },
      {
       "output_type": "stream",
       "stream": "stderr",
       "text": [
        "2%\r"
       ]
      },
      {
       "output_type": "stream",
       "stream": "stderr",
       "text": [
        "3%\r"
       ]
      },
      {
       "output_type": "stream",
       "stream": "stderr",
       "text": [
        "4%\r"
       ]
      },
      {
       "output_type": "stream",
       "stream": "stderr",
       "text": [
        "5%\r"
       ]
      },
      {
       "output_type": "stream",
       "stream": "stderr",
       "text": [
        "6%\r"
       ]
      },
      {
       "output_type": "stream",
       "stream": "stderr",
       "text": [
        "7%\r"
       ]
      },
      {
       "output_type": "stream",
       "stream": "stderr",
       "text": [
        "8%\r"
       ]
      },
      {
       "output_type": "stream",
       "stream": "stderr",
       "text": [
        "9%\r"
       ]
      },
      {
       "output_type": "stream",
       "stream": "stderr",
       "text": [
        "10%\r"
       ]
      },
      {
       "output_type": "stream",
       "stream": "stderr",
       "text": [
        "11%\r"
       ]
      },
      {
       "output_type": "stream",
       "stream": "stderr",
       "text": [
        "12%\r"
       ]
      },
      {
       "output_type": "stream",
       "stream": "stderr",
       "text": [
        "13%\r"
       ]
      },
      {
       "output_type": "stream",
       "stream": "stderr",
       "text": [
        "14%\r"
       ]
      },
      {
       "output_type": "stream",
       "stream": "stderr",
       "text": [
        "15%\r"
       ]
      },
      {
       "output_type": "stream",
       "stream": "stderr",
       "text": [
        "16%\r"
       ]
      },
      {
       "output_type": "stream",
       "stream": "stderr",
       "text": [
        "17%\r"
       ]
      },
      {
       "output_type": "stream",
       "stream": "stderr",
       "text": [
        "18%\r"
       ]
      },
      {
       "output_type": "stream",
       "stream": "stderr",
       "text": [
        "19%\r"
       ]
      },
      {
       "output_type": "stream",
       "stream": "stderr",
       "text": [
        "20%\r"
       ]
      },
      {
       "output_type": "stream",
       "stream": "stderr",
       "text": [
        "21%\r"
       ]
      },
      {
       "output_type": "stream",
       "stream": "stderr",
       "text": [
        "22%\r"
       ]
      },
      {
       "output_type": "stream",
       "stream": "stderr",
       "text": [
        "23%\r"
       ]
      },
      {
       "output_type": "stream",
       "stream": "stderr",
       "text": [
        "24%\r"
       ]
      },
      {
       "output_type": "stream",
       "stream": "stderr",
       "text": [
        "25%\r"
       ]
      },
      {
       "output_type": "stream",
       "stream": "stderr",
       "text": [
        "26%\r"
       ]
      },
      {
       "output_type": "stream",
       "stream": "stderr",
       "text": [
        "27%\r"
       ]
      },
      {
       "output_type": "stream",
       "stream": "stderr",
       "text": [
        "28%\r"
       ]
      },
      {
       "output_type": "stream",
       "stream": "stderr",
       "text": [
        "29%\r"
       ]
      },
      {
       "output_type": "stream",
       "stream": "stderr",
       "text": [
        "30%\r"
       ]
      },
      {
       "output_type": "stream",
       "stream": "stderr",
       "text": [
        "31%\r"
       ]
      },
      {
       "output_type": "stream",
       "stream": "stderr",
       "text": [
        "32%\r"
       ]
      },
      {
       "output_type": "stream",
       "stream": "stderr",
       "text": [
        "33%\r"
       ]
      },
      {
       "output_type": "stream",
       "stream": "stderr",
       "text": [
        "34%\r"
       ]
      },
      {
       "output_type": "stream",
       "stream": "stderr",
       "text": [
        "35%\r"
       ]
      },
      {
       "output_type": "stream",
       "stream": "stderr",
       "text": [
        "36%\r"
       ]
      },
      {
       "output_type": "stream",
       "stream": "stderr",
       "text": [
        "37%\r"
       ]
      },
      {
       "output_type": "stream",
       "stream": "stderr",
       "text": [
        "38%\r"
       ]
      },
      {
       "output_type": "stream",
       "stream": "stderr",
       "text": [
        "39%\r"
       ]
      },
      {
       "output_type": "stream",
       "stream": "stderr",
       "text": [
        "40%\r"
       ]
      },
      {
       "output_type": "stream",
       "stream": "stderr",
       "text": [
        "41%\r"
       ]
      },
      {
       "output_type": "stream",
       "stream": "stderr",
       "text": [
        "42%\r"
       ]
      },
      {
       "output_type": "stream",
       "stream": "stderr",
       "text": [
        "43%\r"
       ]
      },
      {
       "output_type": "stream",
       "stream": "stderr",
       "text": [
        "44%\r"
       ]
      },
      {
       "output_type": "stream",
       "stream": "stderr",
       "text": [
        "45%\r"
       ]
      },
      {
       "output_type": "stream",
       "stream": "stderr",
       "text": [
        "46%\r"
       ]
      },
      {
       "output_type": "stream",
       "stream": "stderr",
       "text": [
        "47%\r"
       ]
      },
      {
       "output_type": "stream",
       "stream": "stderr",
       "text": [
        "48%\r"
       ]
      },
      {
       "output_type": "stream",
       "stream": "stderr",
       "text": [
        "49%\r"
       ]
      },
      {
       "output_type": "stream",
       "stream": "stderr",
       "text": [
        "50%\r"
       ]
      },
      {
       "output_type": "stream",
       "stream": "stderr",
       "text": [
        "51%\r"
       ]
      },
      {
       "output_type": "stream",
       "stream": "stderr",
       "text": [
        "52%\r"
       ]
      },
      {
       "output_type": "stream",
       "stream": "stderr",
       "text": [
        "53%\r"
       ]
      },
      {
       "output_type": "stream",
       "stream": "stderr",
       "text": [
        "54%\r"
       ]
      },
      {
       "output_type": "stream",
       "stream": "stderr",
       "text": [
        "55%\r"
       ]
      },
      {
       "output_type": "stream",
       "stream": "stderr",
       "text": [
        "56%\r"
       ]
      },
      {
       "output_type": "stream",
       "stream": "stderr",
       "text": [
        "57%\r"
       ]
      },
      {
       "output_type": "stream",
       "stream": "stderr",
       "text": [
        "58%\r"
       ]
      },
      {
       "output_type": "stream",
       "stream": "stderr",
       "text": [
        "59%\r"
       ]
      },
      {
       "output_type": "stream",
       "stream": "stderr",
       "text": [
        "60%\r"
       ]
      },
      {
       "output_type": "stream",
       "stream": "stderr",
       "text": [
        "61%\r"
       ]
      },
      {
       "output_type": "stream",
       "stream": "stderr",
       "text": [
        "62%\r"
       ]
      },
      {
       "output_type": "stream",
       "stream": "stderr",
       "text": [
        "63%\r"
       ]
      },
      {
       "output_type": "stream",
       "stream": "stderr",
       "text": [
        "64%\r"
       ]
      },
      {
       "output_type": "stream",
       "stream": "stderr",
       "text": [
        "65%\r"
       ]
      },
      {
       "output_type": "stream",
       "stream": "stderr",
       "text": [
        "66%\r"
       ]
      },
      {
       "output_type": "stream",
       "stream": "stderr",
       "text": [
        "67%\r"
       ]
      },
      {
       "output_type": "stream",
       "stream": "stderr",
       "text": [
        "68%\r"
       ]
      },
      {
       "output_type": "stream",
       "stream": "stderr",
       "text": [
        "69%\r"
       ]
      },
      {
       "output_type": "stream",
       "stream": "stderr",
       "text": [
        "70%\r"
       ]
      },
      {
       "output_type": "stream",
       "stream": "stderr",
       "text": [
        "71%\r"
       ]
      },
      {
       "output_type": "stream",
       "stream": "stderr",
       "text": [
        "72%\r"
       ]
      },
      {
       "output_type": "stream",
       "stream": "stderr",
       "text": [
        "73%\r"
       ]
      },
      {
       "output_type": "stream",
       "stream": "stderr",
       "text": [
        "74%\r"
       ]
      },
      {
       "output_type": "stream",
       "stream": "stderr",
       "text": [
        "75%\r"
       ]
      },
      {
       "output_type": "stream",
       "stream": "stderr",
       "text": [
        "76%\r"
       ]
      },
      {
       "output_type": "stream",
       "stream": "stderr",
       "text": [
        "77%\r"
       ]
      },
      {
       "output_type": "stream",
       "stream": "stderr",
       "text": [
        "78%\r"
       ]
      },
      {
       "output_type": "stream",
       "stream": "stderr",
       "text": [
        "79%\r"
       ]
      },
      {
       "output_type": "stream",
       "stream": "stderr",
       "text": [
        "80%\r"
       ]
      },
      {
       "output_type": "stream",
       "stream": "stderr",
       "text": [
        "81%\r"
       ]
      },
      {
       "output_type": "stream",
       "stream": "stderr",
       "text": [
        "82%\r"
       ]
      },
      {
       "output_type": "stream",
       "stream": "stderr",
       "text": [
        "83%\r"
       ]
      },
      {
       "output_type": "stream",
       "stream": "stderr",
       "text": [
        "84%\r"
       ]
      },
      {
       "output_type": "stream",
       "stream": "stderr",
       "text": [
        "85%\r"
       ]
      },
      {
       "output_type": "stream",
       "stream": "stderr",
       "text": [
        "86%\r"
       ]
      },
      {
       "output_type": "stream",
       "stream": "stderr",
       "text": [
        "87%\r"
       ]
      },
      {
       "output_type": "stream",
       "stream": "stderr",
       "text": [
        "88%\r"
       ]
      },
      {
       "output_type": "stream",
       "stream": "stderr",
       "text": [
        "89%\r"
       ]
      },
      {
       "output_type": "stream",
       "stream": "stderr",
       "text": [
        "90%\r"
       ]
      },
      {
       "output_type": "stream",
       "stream": "stderr",
       "text": [
        "91%\r"
       ]
      },
      {
       "output_type": "stream",
       "stream": "stderr",
       "text": [
        "92%\r"
       ]
      },
      {
       "output_type": "stream",
       "stream": "stderr",
       "text": [
        "93%\r"
       ]
      },
      {
       "output_type": "stream",
       "stream": "stderr",
       "text": [
        "94%\r"
       ]
      },
      {
       "output_type": "stream",
       "stream": "stderr",
       "text": [
        "95%\r"
       ]
      },
      {
       "output_type": "stream",
       "stream": "stderr",
       "text": [
        "96%\r"
       ]
      },
      {
       "output_type": "stream",
       "stream": "stderr",
       "text": [
        "97%\r"
       ]
      },
      {
       "output_type": "stream",
       "stream": "stderr",
       "text": [
        "98%\r"
       ]
      },
      {
       "output_type": "stream",
       "stream": "stderr",
       "text": [
        "99%\r"
       ]
      },
      {
       "output_type": "stream",
       "stream": "stderr",
       "text": [
        "100%\r"
       ]
      },
      {
       "output_type": "stream",
       "stream": "stderr",
       "text": [
        "100%\n"
       ]
      },
      {
       "output_type": "stream",
       "stream": "stdout",
       "text": [
        "[DBN] layers [784, 25, 25, 25, 25, 25, 25, 25, 25, 25, 10]\n",
        "[DBN] Fine-tune...\n",
        "Epoch 1:"
       ]
      },
      {
       "output_type": "stream",
       "stream": "stderr",
       "text": [
        "1%\r"
       ]
      },
      {
       "output_type": "stream",
       "stream": "stderr",
       "text": [
        "2%\r"
       ]
      },
      {
       "output_type": "stream",
       "stream": "stderr",
       "text": [
        "3%\r"
       ]
      },
      {
       "output_type": "stream",
       "stream": "stderr",
       "text": [
        "4%\r"
       ]
      },
      {
       "output_type": "stream",
       "stream": "stderr",
       "text": [
        "5%\r"
       ]
      },
      {
       "output_type": "stream",
       "stream": "stderr",
       "text": [
        "6%\r"
       ]
      },
      {
       "output_type": "stream",
       "stream": "stderr",
       "text": [
        "7%\r"
       ]
      },
      {
       "output_type": "stream",
       "stream": "stderr",
       "text": [
        "8%\r"
       ]
      },
      {
       "output_type": "stream",
       "stream": "stderr",
       "text": [
        "9%\r"
       ]
      },
      {
       "output_type": "stream",
       "stream": "stderr",
       "text": [
        "10%\r"
       ]
      },
      {
       "output_type": "stream",
       "stream": "stderr",
       "text": [
        "11%\r"
       ]
      },
      {
       "output_type": "stream",
       "stream": "stderr",
       "text": [
        "12%\r"
       ]
      },
      {
       "output_type": "stream",
       "stream": "stderr",
       "text": [
        "13%\r"
       ]
      },
      {
       "output_type": "stream",
       "stream": "stderr",
       "text": [
        "14%\r"
       ]
      },
      {
       "output_type": "stream",
       "stream": "stderr",
       "text": [
        "15%\r"
       ]
      },
      {
       "output_type": "stream",
       "stream": "stderr",
       "text": [
        "16%\r"
       ]
      },
      {
       "output_type": "stream",
       "stream": "stderr",
       "text": [
        "17%\r"
       ]
      },
      {
       "output_type": "stream",
       "stream": "stderr",
       "text": [
        "18%\r"
       ]
      },
      {
       "output_type": "stream",
       "stream": "stderr",
       "text": [
        "19%\r"
       ]
      },
      {
       "output_type": "stream",
       "stream": "stderr",
       "text": [
        "20%\r"
       ]
      },
      {
       "output_type": "stream",
       "stream": "stderr",
       "text": [
        "21%\r"
       ]
      },
      {
       "output_type": "stream",
       "stream": "stderr",
       "text": [
        "22%\r"
       ]
      },
      {
       "output_type": "stream",
       "stream": "stderr",
       "text": [
        "23%\r"
       ]
      },
      {
       "output_type": "stream",
       "stream": "stderr",
       "text": [
        "24%\r"
       ]
      },
      {
       "output_type": "stream",
       "stream": "stderr",
       "text": [
        "25%\r"
       ]
      },
      {
       "output_type": "stream",
       "stream": "stderr",
       "text": [
        "26%\r"
       ]
      },
      {
       "output_type": "stream",
       "stream": "stderr",
       "text": [
        "27%\r"
       ]
      },
      {
       "output_type": "stream",
       "stream": "stderr",
       "text": [
        "28%\r"
       ]
      },
      {
       "output_type": "stream",
       "stream": "stderr",
       "text": [
        "29%\r"
       ]
      },
      {
       "output_type": "stream",
       "stream": "stderr",
       "text": [
        "30%\r"
       ]
      },
      {
       "output_type": "stream",
       "stream": "stderr",
       "text": [
        "31%\r"
       ]
      },
      {
       "output_type": "stream",
       "stream": "stderr",
       "text": [
        "32%\r"
       ]
      },
      {
       "output_type": "stream",
       "stream": "stderr",
       "text": [
        "33%\r"
       ]
      },
      {
       "output_type": "stream",
       "stream": "stderr",
       "text": [
        "34%\r"
       ]
      },
      {
       "output_type": "stream",
       "stream": "stderr",
       "text": [
        "35%\r"
       ]
      },
      {
       "output_type": "stream",
       "stream": "stderr",
       "text": [
        "36%\r"
       ]
      },
      {
       "output_type": "stream",
       "stream": "stderr",
       "text": [
        "37%\r"
       ]
      },
      {
       "output_type": "stream",
       "stream": "stderr",
       "text": [
        "38%\r"
       ]
      },
      {
       "output_type": "stream",
       "stream": "stderr",
       "text": [
        "39%\r"
       ]
      },
      {
       "output_type": "stream",
       "stream": "stderr",
       "text": [
        "40%\r"
       ]
      },
      {
       "output_type": "stream",
       "stream": "stderr",
       "text": [
        "41%\r"
       ]
      },
      {
       "output_type": "stream",
       "stream": "stderr",
       "text": [
        "42%\r"
       ]
      },
      {
       "output_type": "stream",
       "stream": "stderr",
       "text": [
        "43%\r"
       ]
      },
      {
       "output_type": "stream",
       "stream": "stderr",
       "text": [
        "44%\r"
       ]
      },
      {
       "output_type": "stream",
       "stream": "stderr",
       "text": [
        "45%\r"
       ]
      },
      {
       "output_type": "stream",
       "stream": "stderr",
       "text": [
        "46%\r"
       ]
      },
      {
       "output_type": "stream",
       "stream": "stderr",
       "text": [
        "47%\r"
       ]
      },
      {
       "output_type": "stream",
       "stream": "stderr",
       "text": [
        "48%\r"
       ]
      },
      {
       "output_type": "stream",
       "stream": "stderr",
       "text": [
        "49%\r"
       ]
      },
      {
       "output_type": "stream",
       "stream": "stderr",
       "text": [
        "50%\r"
       ]
      },
      {
       "output_type": "stream",
       "stream": "stderr",
       "text": [
        "51%\r"
       ]
      },
      {
       "output_type": "stream",
       "stream": "stderr",
       "text": [
        "52%\r"
       ]
      },
      {
       "output_type": "stream",
       "stream": "stderr",
       "text": [
        "53%\r"
       ]
      },
      {
       "output_type": "stream",
       "stream": "stderr",
       "text": [
        "54%\r"
       ]
      },
      {
       "output_type": "stream",
       "stream": "stderr",
       "text": [
        "55%\r"
       ]
      },
      {
       "output_type": "stream",
       "stream": "stderr",
       "text": [
        "56%\r"
       ]
      },
      {
       "output_type": "stream",
       "stream": "stderr",
       "text": [
        "57%\r"
       ]
      },
      {
       "output_type": "stream",
       "stream": "stderr",
       "text": [
        "58%\r"
       ]
      },
      {
       "output_type": "stream",
       "stream": "stderr",
       "text": [
        "59%\r"
       ]
      },
      {
       "output_type": "stream",
       "stream": "stderr",
       "text": [
        "60%\r"
       ]
      },
      {
       "output_type": "stream",
       "stream": "stderr",
       "text": [
        "61%\r"
       ]
      },
      {
       "output_type": "stream",
       "stream": "stderr",
       "text": [
        "62%\r"
       ]
      },
      {
       "output_type": "stream",
       "stream": "stderr",
       "text": [
        "63%\r"
       ]
      },
      {
       "output_type": "stream",
       "stream": "stderr",
       "text": [
        "64%\r"
       ]
      },
      {
       "output_type": "stream",
       "stream": "stderr",
       "text": [
        "65%\r"
       ]
      },
      {
       "output_type": "stream",
       "stream": "stderr",
       "text": [
        "66%\r"
       ]
      },
      {
       "output_type": "stream",
       "stream": "stderr",
       "text": [
        "67%\r"
       ]
      },
      {
       "output_type": "stream",
       "stream": "stderr",
       "text": [
        "68%\r"
       ]
      },
      {
       "output_type": "stream",
       "stream": "stderr",
       "text": [
        "69%\r"
       ]
      },
      {
       "output_type": "stream",
       "stream": "stderr",
       "text": [
        "70%\r"
       ]
      },
      {
       "output_type": "stream",
       "stream": "stderr",
       "text": [
        "71%\r"
       ]
      },
      {
       "output_type": "stream",
       "stream": "stderr",
       "text": [
        "72%\r"
       ]
      },
      {
       "output_type": "stream",
       "stream": "stderr",
       "text": [
        "73%\r"
       ]
      },
      {
       "output_type": "stream",
       "stream": "stderr",
       "text": [
        "74%\r"
       ]
      },
      {
       "output_type": "stream",
       "stream": "stderr",
       "text": [
        "75%\r"
       ]
      },
      {
       "output_type": "stream",
       "stream": "stderr",
       "text": [
        "76%\r"
       ]
      },
      {
       "output_type": "stream",
       "stream": "stderr",
       "text": [
        "77%\r"
       ]
      },
      {
       "output_type": "stream",
       "stream": "stderr",
       "text": [
        "78%\r"
       ]
      },
      {
       "output_type": "stream",
       "stream": "stderr",
       "text": [
        "79%\r"
       ]
      },
      {
       "output_type": "stream",
       "stream": "stderr",
       "text": [
        "80%\r"
       ]
      },
      {
       "output_type": "stream",
       "stream": "stderr",
       "text": [
        "81%\r"
       ]
      },
      {
       "output_type": "stream",
       "stream": "stderr",
       "text": [
        "82%\r"
       ]
      },
      {
       "output_type": "stream",
       "stream": "stderr",
       "text": [
        "83%\r"
       ]
      },
      {
       "output_type": "stream",
       "stream": "stderr",
       "text": [
        "84%\r"
       ]
      },
      {
       "output_type": "stream",
       "stream": "stderr",
       "text": [
        "85%\r"
       ]
      },
      {
       "output_type": "stream",
       "stream": "stderr",
       "text": [
        "86%\r"
       ]
      },
      {
       "output_type": "stream",
       "stream": "stderr",
       "text": [
        "87%\r"
       ]
      },
      {
       "output_type": "stream",
       "stream": "stderr",
       "text": [
        "88%\r"
       ]
      },
      {
       "output_type": "stream",
       "stream": "stderr",
       "text": [
        "89%\r"
       ]
      },
      {
       "output_type": "stream",
       "stream": "stderr",
       "text": [
        "90%\r"
       ]
      },
      {
       "output_type": "stream",
       "stream": "stderr",
       "text": [
        "91%\r"
       ]
      },
      {
       "output_type": "stream",
       "stream": "stderr",
       "text": [
        "92%\r"
       ]
      },
      {
       "output_type": "stream",
       "stream": "stderr",
       "text": [
        "93%\r"
       ]
      },
      {
       "output_type": "stream",
       "stream": "stderr",
       "text": [
        "94%\r"
       ]
      },
      {
       "output_type": "stream",
       "stream": "stderr",
       "text": [
        "95%\r"
       ]
      },
      {
       "output_type": "stream",
       "stream": "stderr",
       "text": [
        "96%\r"
       ]
      },
      {
       "output_type": "stream",
       "stream": "stderr",
       "text": [
        "97%\r"
       ]
      },
      {
       "output_type": "stream",
       "stream": "stderr",
       "text": [
        "98%\r"
       ]
      },
      {
       "output_type": "stream",
       "stream": "stderr",
       "text": [
        "99%\r"
       ]
      },
      {
       "output_type": "stream",
       "stream": "stderr",
       "text": [
        "100%\r"
       ]
      },
      {
       "output_type": "stream",
       "stream": "stderr",
       "text": [
        "100%\n"
       ]
      },
      {
       "output_type": "stream",
       "stream": "stdout",
       "text": [
        "\n",
        "  loss 2.31070194611\n",
        "  err  0.8941\n",
        "  (0:00:52)\n",
        "Epoch 2:"
       ]
      },
      {
       "output_type": "stream",
       "stream": "stderr",
       "text": [
        "1%\r"
       ]
      },
      {
       "output_type": "stream",
       "stream": "stderr",
       "text": [
        "2%\r"
       ]
      },
      {
       "output_type": "stream",
       "stream": "stderr",
       "text": [
        "3%\r"
       ]
      },
      {
       "output_type": "stream",
       "stream": "stderr",
       "text": [
        "4%\r"
       ]
      },
      {
       "output_type": "stream",
       "stream": "stderr",
       "text": [
        "5%\r"
       ]
      },
      {
       "output_type": "stream",
       "stream": "stderr",
       "text": [
        "6%\r"
       ]
      },
      {
       "output_type": "stream",
       "stream": "stderr",
       "text": [
        "7%\r"
       ]
      },
      {
       "output_type": "stream",
       "stream": "stderr",
       "text": [
        "8%\r"
       ]
      },
      {
       "output_type": "stream",
       "stream": "stderr",
       "text": [
        "9%\r"
       ]
      },
      {
       "output_type": "stream",
       "stream": "stderr",
       "text": [
        "10%\r"
       ]
      },
      {
       "output_type": "stream",
       "stream": "stderr",
       "text": [
        "11%\r"
       ]
      },
      {
       "output_type": "stream",
       "stream": "stderr",
       "text": [
        "12%\r"
       ]
      },
      {
       "output_type": "stream",
       "stream": "stderr",
       "text": [
        "13%\r"
       ]
      },
      {
       "output_type": "stream",
       "stream": "stderr",
       "text": [
        "14%\r"
       ]
      },
      {
       "output_type": "stream",
       "stream": "stderr",
       "text": [
        "15%\r"
       ]
      },
      {
       "output_type": "stream",
       "stream": "stderr",
       "text": [
        "16%\r"
       ]
      },
      {
       "output_type": "stream",
       "stream": "stderr",
       "text": [
        "17%\r"
       ]
      },
      {
       "output_type": "stream",
       "stream": "stderr",
       "text": [
        "18%\r"
       ]
      },
      {
       "output_type": "stream",
       "stream": "stderr",
       "text": [
        "19%\r"
       ]
      },
      {
       "output_type": "stream",
       "stream": "stderr",
       "text": [
        "20%\r"
       ]
      },
      {
       "output_type": "stream",
       "stream": "stderr",
       "text": [
        "21%\r"
       ]
      },
      {
       "output_type": "stream",
       "stream": "stderr",
       "text": [
        "22%\r"
       ]
      },
      {
       "output_type": "stream",
       "stream": "stderr",
       "text": [
        "23%\r"
       ]
      },
      {
       "output_type": "stream",
       "stream": "stderr",
       "text": [
        "24%\r"
       ]
      },
      {
       "output_type": "stream",
       "stream": "stderr",
       "text": [
        "25%\r"
       ]
      },
      {
       "output_type": "stream",
       "stream": "stderr",
       "text": [
        "26%\r"
       ]
      },
      {
       "output_type": "stream",
       "stream": "stderr",
       "text": [
        "27%\r"
       ]
      },
      {
       "output_type": "stream",
       "stream": "stderr",
       "text": [
        "28%\r"
       ]
      },
      {
       "output_type": "stream",
       "stream": "stderr",
       "text": [
        "29%\r"
       ]
      },
      {
       "output_type": "stream",
       "stream": "stderr",
       "text": [
        "30%\r"
       ]
      },
      {
       "output_type": "stream",
       "stream": "stderr",
       "text": [
        "31%\r"
       ]
      },
      {
       "output_type": "stream",
       "stream": "stderr",
       "text": [
        "32%\r"
       ]
      },
      {
       "output_type": "stream",
       "stream": "stderr",
       "text": [
        "33%\r"
       ]
      },
      {
       "output_type": "stream",
       "stream": "stderr",
       "text": [
        "34%\r"
       ]
      },
      {
       "output_type": "stream",
       "stream": "stderr",
       "text": [
        "35%\r"
       ]
      },
      {
       "output_type": "stream",
       "stream": "stderr",
       "text": [
        "36%\r"
       ]
      },
      {
       "output_type": "stream",
       "stream": "stderr",
       "text": [
        "37%\r"
       ]
      },
      {
       "output_type": "stream",
       "stream": "stderr",
       "text": [
        "38%\r"
       ]
      },
      {
       "output_type": "stream",
       "stream": "stderr",
       "text": [
        "39%\r"
       ]
      },
      {
       "output_type": "stream",
       "stream": "stderr",
       "text": [
        "40%\r"
       ]
      },
      {
       "output_type": "stream",
       "stream": "stderr",
       "text": [
        "41%\r"
       ]
      },
      {
       "output_type": "stream",
       "stream": "stderr",
       "text": [
        "42%\r"
       ]
      },
      {
       "output_type": "stream",
       "stream": "stderr",
       "text": [
        "43%\r"
       ]
      },
      {
       "output_type": "stream",
       "stream": "stderr",
       "text": [
        "44%\r"
       ]
      },
      {
       "output_type": "stream",
       "stream": "stderr",
       "text": [
        "45%\r"
       ]
      },
      {
       "output_type": "stream",
       "stream": "stderr",
       "text": [
        "46%\r"
       ]
      },
      {
       "output_type": "stream",
       "stream": "stderr",
       "text": [
        "47%\r"
       ]
      },
      {
       "output_type": "stream",
       "stream": "stderr",
       "text": [
        "48%\r"
       ]
      },
      {
       "output_type": "stream",
       "stream": "stderr",
       "text": [
        "49%\r"
       ]
      },
      {
       "output_type": "stream",
       "stream": "stderr",
       "text": [
        "50%\r"
       ]
      },
      {
       "output_type": "stream",
       "stream": "stderr",
       "text": [
        "51%\r"
       ]
      },
      {
       "output_type": "stream",
       "stream": "stderr",
       "text": [
        "52%\r"
       ]
      },
      {
       "output_type": "stream",
       "stream": "stderr",
       "text": [
        "53%\r"
       ]
      },
      {
       "output_type": "stream",
       "stream": "stderr",
       "text": [
        "54%\r"
       ]
      },
      {
       "output_type": "stream",
       "stream": "stderr",
       "text": [
        "55%\r"
       ]
      },
      {
       "output_type": "stream",
       "stream": "stderr",
       "text": [
        "56%\r"
       ]
      },
      {
       "output_type": "stream",
       "stream": "stderr",
       "text": [
        "57%\r"
       ]
      },
      {
       "output_type": "stream",
       "stream": "stderr",
       "text": [
        "58%\r"
       ]
      },
      {
       "output_type": "stream",
       "stream": "stderr",
       "text": [
        "59%\r"
       ]
      },
      {
       "output_type": "stream",
       "stream": "stderr",
       "text": [
        "60%\r"
       ]
      },
      {
       "output_type": "stream",
       "stream": "stderr",
       "text": [
        "61%\r"
       ]
      },
      {
       "output_type": "stream",
       "stream": "stderr",
       "text": [
        "62%\r"
       ]
      },
      {
       "output_type": "stream",
       "stream": "stderr",
       "text": [
        "63%\r"
       ]
      },
      {
       "output_type": "stream",
       "stream": "stderr",
       "text": [
        "64%\r"
       ]
      },
      {
       "output_type": "stream",
       "stream": "stderr",
       "text": [
        "65%\r"
       ]
      },
      {
       "output_type": "stream",
       "stream": "stderr",
       "text": [
        "66%\r"
       ]
      },
      {
       "output_type": "stream",
       "stream": "stderr",
       "text": [
        "67%\r"
       ]
      },
      {
       "output_type": "stream",
       "stream": "stderr",
       "text": [
        "68%\r"
       ]
      },
      {
       "output_type": "stream",
       "stream": "stderr",
       "text": [
        "69%\r"
       ]
      },
      {
       "output_type": "stream",
       "stream": "stderr",
       "text": [
        "70%\r"
       ]
      },
      {
       "output_type": "stream",
       "stream": "stderr",
       "text": [
        "71%\r"
       ]
      },
      {
       "output_type": "stream",
       "stream": "stderr",
       "text": [
        "72%\r"
       ]
      },
      {
       "output_type": "stream",
       "stream": "stderr",
       "text": [
        "73%\r"
       ]
      },
      {
       "output_type": "stream",
       "stream": "stderr",
       "text": [
        "74%\r"
       ]
      },
      {
       "output_type": "stream",
       "stream": "stderr",
       "text": [
        "75%\r"
       ]
      },
      {
       "output_type": "stream",
       "stream": "stderr",
       "text": [
        "76%\r"
       ]
      },
      {
       "output_type": "stream",
       "stream": "stderr",
       "text": [
        "77%\r"
       ]
      },
      {
       "output_type": "stream",
       "stream": "stderr",
       "text": [
        "78%\r"
       ]
      },
      {
       "output_type": "stream",
       "stream": "stderr",
       "text": [
        "79%\r"
       ]
      },
      {
       "output_type": "stream",
       "stream": "stderr",
       "text": [
        "80%\r"
       ]
      },
      {
       "output_type": "stream",
       "stream": "stderr",
       "text": [
        "81%\r"
       ]
      },
      {
       "output_type": "stream",
       "stream": "stderr",
       "text": [
        "82%\r"
       ]
      },
      {
       "output_type": "stream",
       "stream": "stderr",
       "text": [
        "83%\r"
       ]
      },
      {
       "output_type": "stream",
       "stream": "stderr",
       "text": [
        "84%\r"
       ]
      },
      {
       "output_type": "stream",
       "stream": "stderr",
       "text": [
        "85%\r"
       ]
      },
      {
       "output_type": "stream",
       "stream": "stderr",
       "text": [
        "86%\r"
       ]
      },
      {
       "output_type": "stream",
       "stream": "stderr",
       "text": [
        "87%\r"
       ]
      },
      {
       "output_type": "stream",
       "stream": "stderr",
       "text": [
        "88%\r"
       ]
      },
      {
       "output_type": "stream",
       "stream": "stderr",
       "text": [
        "89%\r"
       ]
      },
      {
       "output_type": "stream",
       "stream": "stderr",
       "text": [
        "90%\r"
       ]
      },
      {
       "output_type": "stream",
       "stream": "stderr",
       "text": [
        "91%\r"
       ]
      },
      {
       "output_type": "stream",
       "stream": "stderr",
       "text": [
        "92%\r"
       ]
      },
      {
       "output_type": "stream",
       "stream": "stderr",
       "text": [
        "93%\r"
       ]
      },
      {
       "output_type": "stream",
       "stream": "stderr",
       "text": [
        "94%\r"
       ]
      },
      {
       "output_type": "stream",
       "stream": "stderr",
       "text": [
        "95%\r"
       ]
      },
      {
       "output_type": "stream",
       "stream": "stderr",
       "text": [
        "96%\r"
       ]
      },
      {
       "output_type": "stream",
       "stream": "stderr",
       "text": [
        "97%\r"
       ]
      },
      {
       "output_type": "stream",
       "stream": "stderr",
       "text": [
        "98%\r"
       ]
      },
      {
       "output_type": "stream",
       "stream": "stderr",
       "text": [
        "99%\r"
       ]
      },
      {
       "output_type": "stream",
       "stream": "stderr",
       "text": [
        "100%\r"
       ]
      },
      {
       "output_type": "stream",
       "stream": "stderr",
       "text": [
        "100%\n"
       ]
      },
      {
       "output_type": "stream",
       "stream": "stdout",
       "text": [
        "\n",
        "  loss 2.30594064423\n",
        "  err  0.89178\n",
        "  (0:00:34)\n",
        "Epoch 3:"
       ]
      },
      {
       "output_type": "stream",
       "stream": "stderr",
       "text": [
        "1%\r"
       ]
      },
      {
       "output_type": "stream",
       "stream": "stderr",
       "text": [
        "2%\r"
       ]
      },
      {
       "output_type": "stream",
       "stream": "stderr",
       "text": [
        "3%\r"
       ]
      },
      {
       "output_type": "stream",
       "stream": "stderr",
       "text": [
        "4%\r"
       ]
      },
      {
       "output_type": "stream",
       "stream": "stderr",
       "text": [
        "5%\r"
       ]
      },
      {
       "output_type": "stream",
       "stream": "stderr",
       "text": [
        "6%\r"
       ]
      },
      {
       "output_type": "stream",
       "stream": "stderr",
       "text": [
        "7%\r"
       ]
      },
      {
       "output_type": "stream",
       "stream": "stderr",
       "text": [
        "8%\r"
       ]
      },
      {
       "output_type": "stream",
       "stream": "stderr",
       "text": [
        "9%\r"
       ]
      },
      {
       "output_type": "stream",
       "stream": "stderr",
       "text": [
        "10%\r"
       ]
      },
      {
       "output_type": "stream",
       "stream": "stderr",
       "text": [
        "11%\r"
       ]
      },
      {
       "output_type": "stream",
       "stream": "stderr",
       "text": [
        "12%\r"
       ]
      },
      {
       "output_type": "stream",
       "stream": "stderr",
       "text": [
        "13%\r"
       ]
      },
      {
       "output_type": "stream",
       "stream": "stderr",
       "text": [
        "14%\r"
       ]
      },
      {
       "output_type": "stream",
       "stream": "stderr",
       "text": [
        "15%\r"
       ]
      },
      {
       "output_type": "stream",
       "stream": "stderr",
       "text": [
        "16%\r"
       ]
      },
      {
       "output_type": "stream",
       "stream": "stderr",
       "text": [
        "17%\r"
       ]
      },
      {
       "output_type": "stream",
       "stream": "stderr",
       "text": [
        "18%\r"
       ]
      },
      {
       "output_type": "stream",
       "stream": "stderr",
       "text": [
        "19%\r"
       ]
      },
      {
       "output_type": "stream",
       "stream": "stderr",
       "text": [
        "20%\r"
       ]
      },
      {
       "output_type": "stream",
       "stream": "stderr",
       "text": [
        "21%\r"
       ]
      },
      {
       "output_type": "stream",
       "stream": "stderr",
       "text": [
        "22%\r"
       ]
      },
      {
       "output_type": "stream",
       "stream": "stderr",
       "text": [
        "23%\r"
       ]
      },
      {
       "output_type": "stream",
       "stream": "stderr",
       "text": [
        "24%\r"
       ]
      },
      {
       "output_type": "stream",
       "stream": "stderr",
       "text": [
        "25%\r"
       ]
      },
      {
       "output_type": "stream",
       "stream": "stderr",
       "text": [
        "26%\r"
       ]
      },
      {
       "output_type": "stream",
       "stream": "stderr",
       "text": [
        "27%\r"
       ]
      },
      {
       "output_type": "stream",
       "stream": "stderr",
       "text": [
        "28%\r"
       ]
      },
      {
       "output_type": "stream",
       "stream": "stderr",
       "text": [
        "29%\r"
       ]
      },
      {
       "output_type": "stream",
       "stream": "stderr",
       "text": [
        "30%\r"
       ]
      },
      {
       "output_type": "stream",
       "stream": "stderr",
       "text": [
        "31%\r"
       ]
      },
      {
       "output_type": "stream",
       "stream": "stderr",
       "text": [
        "32%\r"
       ]
      },
      {
       "output_type": "stream",
       "stream": "stderr",
       "text": [
        "33%\r"
       ]
      },
      {
       "output_type": "stream",
       "stream": "stderr",
       "text": [
        "34%\r"
       ]
      },
      {
       "output_type": "stream",
       "stream": "stderr",
       "text": [
        "35%\r"
       ]
      },
      {
       "output_type": "stream",
       "stream": "stderr",
       "text": [
        "36%\r"
       ]
      },
      {
       "output_type": "stream",
       "stream": "stderr",
       "text": [
        "37%\r"
       ]
      },
      {
       "output_type": "stream",
       "stream": "stderr",
       "text": [
        "38%\r"
       ]
      },
      {
       "output_type": "stream",
       "stream": "stderr",
       "text": [
        "39%\r"
       ]
      },
      {
       "output_type": "stream",
       "stream": "stderr",
       "text": [
        "40%\r"
       ]
      },
      {
       "output_type": "stream",
       "stream": "stderr",
       "text": [
        "41%\r"
       ]
      },
      {
       "output_type": "stream",
       "stream": "stderr",
       "text": [
        "42%\r"
       ]
      },
      {
       "output_type": "stream",
       "stream": "stderr",
       "text": [
        "43%\r"
       ]
      },
      {
       "output_type": "stream",
       "stream": "stderr",
       "text": [
        "44%\r"
       ]
      },
      {
       "output_type": "stream",
       "stream": "stderr",
       "text": [
        "45%\r"
       ]
      },
      {
       "output_type": "stream",
       "stream": "stderr",
       "text": [
        "46%\r"
       ]
      },
      {
       "output_type": "stream",
       "stream": "stderr",
       "text": [
        "47%\r"
       ]
      },
      {
       "output_type": "stream",
       "stream": "stderr",
       "text": [
        "48%\r"
       ]
      },
      {
       "output_type": "stream",
       "stream": "stderr",
       "text": [
        "49%\r"
       ]
      },
      {
       "output_type": "stream",
       "stream": "stderr",
       "text": [
        "50%\r"
       ]
      },
      {
       "output_type": "stream",
       "stream": "stderr",
       "text": [
        "51%\r"
       ]
      },
      {
       "output_type": "stream",
       "stream": "stderr",
       "text": [
        "52%\r"
       ]
      },
      {
       "output_type": "stream",
       "stream": "stderr",
       "text": [
        "53%\r"
       ]
      },
      {
       "output_type": "stream",
       "stream": "stderr",
       "text": [
        "54%\r"
       ]
      },
      {
       "output_type": "stream",
       "stream": "stderr",
       "text": [
        "55%\r"
       ]
      },
      {
       "output_type": "stream",
       "stream": "stderr",
       "text": [
        "56%\r"
       ]
      },
      {
       "output_type": "stream",
       "stream": "stderr",
       "text": [
        "57%\r"
       ]
      },
      {
       "output_type": "stream",
       "stream": "stderr",
       "text": [
        "58%\r"
       ]
      },
      {
       "output_type": "stream",
       "stream": "stderr",
       "text": [
        "59%\r"
       ]
      },
      {
       "output_type": "stream",
       "stream": "stderr",
       "text": [
        "60%\r"
       ]
      },
      {
       "output_type": "stream",
       "stream": "stderr",
       "text": [
        "61%\r"
       ]
      },
      {
       "output_type": "stream",
       "stream": "stderr",
       "text": [
        "62%\r"
       ]
      },
      {
       "output_type": "stream",
       "stream": "stderr",
       "text": [
        "63%\r"
       ]
      },
      {
       "output_type": "stream",
       "stream": "stderr",
       "text": [
        "64%\r"
       ]
      },
      {
       "output_type": "stream",
       "stream": "stderr",
       "text": [
        "65%\r"
       ]
      },
      {
       "output_type": "stream",
       "stream": "stderr",
       "text": [
        "66%\r"
       ]
      },
      {
       "output_type": "stream",
       "stream": "stderr",
       "text": [
        "67%\r"
       ]
      },
      {
       "output_type": "stream",
       "stream": "stderr",
       "text": [
        "68%\r"
       ]
      },
      {
       "output_type": "stream",
       "stream": "stderr",
       "text": [
        "69%\r"
       ]
      },
      {
       "output_type": "stream",
       "stream": "stderr",
       "text": [
        "70%\r"
       ]
      },
      {
       "output_type": "stream",
       "stream": "stderr",
       "text": [
        "71%\r"
       ]
      },
      {
       "output_type": "stream",
       "stream": "stderr",
       "text": [
        "72%\r"
       ]
      },
      {
       "output_type": "stream",
       "stream": "stderr",
       "text": [
        "73%\r"
       ]
      },
      {
       "output_type": "stream",
       "stream": "stderr",
       "text": [
        "74%\r"
       ]
      },
      {
       "output_type": "stream",
       "stream": "stderr",
       "text": [
        "75%\r"
       ]
      },
      {
       "output_type": "stream",
       "stream": "stderr",
       "text": [
        "76%\r"
       ]
      },
      {
       "output_type": "stream",
       "stream": "stderr",
       "text": [
        "77%\r"
       ]
      },
      {
       "output_type": "stream",
       "stream": "stderr",
       "text": [
        "78%\r"
       ]
      },
      {
       "output_type": "stream",
       "stream": "stderr",
       "text": [
        "79%\r"
       ]
      },
      {
       "output_type": "stream",
       "stream": "stderr",
       "text": [
        "80%\r"
       ]
      },
      {
       "output_type": "stream",
       "stream": "stderr",
       "text": [
        "81%\r"
       ]
      },
      {
       "output_type": "stream",
       "stream": "stderr",
       "text": [
        "82%\r"
       ]
      },
      {
       "output_type": "stream",
       "stream": "stderr",
       "text": [
        "83%\r"
       ]
      },
      {
       "output_type": "stream",
       "stream": "stderr",
       "text": [
        "84%\r"
       ]
      },
      {
       "output_type": "stream",
       "stream": "stderr",
       "text": [
        "85%\r"
       ]
      },
      {
       "output_type": "stream",
       "stream": "stderr",
       "text": [
        "86%\r"
       ]
      },
      {
       "output_type": "stream",
       "stream": "stderr",
       "text": [
        "87%\r"
       ]
      },
      {
       "output_type": "stream",
       "stream": "stderr",
       "text": [
        "88%\r"
       ]
      },
      {
       "output_type": "stream",
       "stream": "stderr",
       "text": [
        "89%\r"
       ]
      },
      {
       "output_type": "stream",
       "stream": "stderr",
       "text": [
        "90%\r"
       ]
      },
      {
       "output_type": "stream",
       "stream": "stderr",
       "text": [
        "91%\r"
       ]
      },
      {
       "output_type": "stream",
       "stream": "stderr",
       "text": [
        "92%\r"
       ]
      },
      {
       "output_type": "stream",
       "stream": "stderr",
       "text": [
        "93%\r"
       ]
      },
      {
       "output_type": "stream",
       "stream": "stderr",
       "text": [
        "94%\r"
       ]
      },
      {
       "output_type": "stream",
       "stream": "stderr",
       "text": [
        "95%\r"
       ]
      },
      {
       "output_type": "stream",
       "stream": "stderr",
       "text": [
        "96%\r"
       ]
      },
      {
       "output_type": "stream",
       "stream": "stderr",
       "text": [
        "97%\r"
       ]
      },
      {
       "output_type": "stream",
       "stream": "stderr",
       "text": [
        "98%\r"
       ]
      },
      {
       "output_type": "stream",
       "stream": "stderr",
       "text": [
        "99%\r"
       ]
      },
      {
       "output_type": "stream",
       "stream": "stderr",
       "text": [
        "100%\r"
       ]
      },
      {
       "output_type": "stream",
       "stream": "stderr",
       "text": [
        "100%\n"
       ]
      },
      {
       "output_type": "stream",
       "stream": "stdout",
       "text": [
        "\n",
        "  loss 2.3062498291\n",
        "  err  0.895\n",
        "  (0:00:33)\n",
        "Epoch 4:"
       ]
      },
      {
       "output_type": "stream",
       "stream": "stderr",
       "text": [
        "1%\r"
       ]
      },
      {
       "output_type": "stream",
       "stream": "stderr",
       "text": [
        "2%\r"
       ]
      },
      {
       "output_type": "stream",
       "stream": "stderr",
       "text": [
        "3%\r"
       ]
      },
      {
       "output_type": "stream",
       "stream": "stderr",
       "text": [
        "4%\r"
       ]
      },
      {
       "output_type": "stream",
       "stream": "stderr",
       "text": [
        "5%\r"
       ]
      },
      {
       "output_type": "stream",
       "stream": "stderr",
       "text": [
        "6%\r"
       ]
      },
      {
       "output_type": "stream",
       "stream": "stderr",
       "text": [
        "7%\r"
       ]
      },
      {
       "output_type": "stream",
       "stream": "stderr",
       "text": [
        "8%\r"
       ]
      },
      {
       "output_type": "stream",
       "stream": "stderr",
       "text": [
        "9%\r"
       ]
      },
      {
       "output_type": "stream",
       "stream": "stderr",
       "text": [
        "10%\r"
       ]
      },
      {
       "output_type": "stream",
       "stream": "stderr",
       "text": [
        "11%\r"
       ]
      },
      {
       "output_type": "stream",
       "stream": "stderr",
       "text": [
        "12%\r"
       ]
      },
      {
       "output_type": "stream",
       "stream": "stderr",
       "text": [
        "13%\r"
       ]
      },
      {
       "output_type": "stream",
       "stream": "stderr",
       "text": [
        "14%\r"
       ]
      },
      {
       "output_type": "stream",
       "stream": "stderr",
       "text": [
        "15%\r"
       ]
      },
      {
       "output_type": "stream",
       "stream": "stderr",
       "text": [
        "16%\r"
       ]
      },
      {
       "output_type": "stream",
       "stream": "stderr",
       "text": [
        "17%\r"
       ]
      },
      {
       "output_type": "stream",
       "stream": "stderr",
       "text": [
        "18%\r"
       ]
      },
      {
       "output_type": "stream",
       "stream": "stderr",
       "text": [
        "19%\r"
       ]
      },
      {
       "output_type": "stream",
       "stream": "stderr",
       "text": [
        "20%\r"
       ]
      },
      {
       "output_type": "stream",
       "stream": "stderr",
       "text": [
        "21%\r"
       ]
      },
      {
       "output_type": "stream",
       "stream": "stderr",
       "text": [
        "22%\r"
       ]
      },
      {
       "output_type": "stream",
       "stream": "stderr",
       "text": [
        "23%\r"
       ]
      },
      {
       "output_type": "stream",
       "stream": "stderr",
       "text": [
        "24%\r"
       ]
      },
      {
       "output_type": "stream",
       "stream": "stderr",
       "text": [
        "25%\r"
       ]
      },
      {
       "output_type": "stream",
       "stream": "stderr",
       "text": [
        "26%\r"
       ]
      },
      {
       "output_type": "stream",
       "stream": "stderr",
       "text": [
        "27%\r"
       ]
      },
      {
       "output_type": "stream",
       "stream": "stderr",
       "text": [
        "28%\r"
       ]
      },
      {
       "output_type": "stream",
       "stream": "stderr",
       "text": [
        "29%\r"
       ]
      },
      {
       "output_type": "stream",
       "stream": "stderr",
       "text": [
        "30%\r"
       ]
      },
      {
       "output_type": "stream",
       "stream": "stderr",
       "text": [
        "31%\r"
       ]
      },
      {
       "output_type": "stream",
       "stream": "stderr",
       "text": [
        "32%\r"
       ]
      },
      {
       "output_type": "stream",
       "stream": "stderr",
       "text": [
        "33%\r"
       ]
      },
      {
       "output_type": "stream",
       "stream": "stderr",
       "text": [
        "34%\r"
       ]
      },
      {
       "output_type": "stream",
       "stream": "stderr",
       "text": [
        "35%\r"
       ]
      },
      {
       "output_type": "stream",
       "stream": "stderr",
       "text": [
        "36%\r"
       ]
      },
      {
       "output_type": "stream",
       "stream": "stderr",
       "text": [
        "37%\r"
       ]
      },
      {
       "output_type": "stream",
       "stream": "stderr",
       "text": [
        "38%\r"
       ]
      },
      {
       "output_type": "stream",
       "stream": "stderr",
       "text": [
        "39%\r"
       ]
      },
      {
       "output_type": "stream",
       "stream": "stderr",
       "text": [
        "40%\r"
       ]
      },
      {
       "output_type": "stream",
       "stream": "stderr",
       "text": [
        "41%\r"
       ]
      },
      {
       "output_type": "stream",
       "stream": "stderr",
       "text": [
        "42%\r"
       ]
      },
      {
       "output_type": "stream",
       "stream": "stderr",
       "text": [
        "43%\r"
       ]
      },
      {
       "output_type": "stream",
       "stream": "stderr",
       "text": [
        "44%\r"
       ]
      },
      {
       "output_type": "stream",
       "stream": "stderr",
       "text": [
        "45%\r"
       ]
      },
      {
       "output_type": "stream",
       "stream": "stderr",
       "text": [
        "46%\r"
       ]
      },
      {
       "output_type": "stream",
       "stream": "stderr",
       "text": [
        "47%\r"
       ]
      },
      {
       "output_type": "stream",
       "stream": "stderr",
       "text": [
        "48%\r"
       ]
      },
      {
       "output_type": "stream",
       "stream": "stderr",
       "text": [
        "49%\r"
       ]
      },
      {
       "output_type": "stream",
       "stream": "stderr",
       "text": [
        "50%\r"
       ]
      },
      {
       "output_type": "stream",
       "stream": "stderr",
       "text": [
        "51%\r"
       ]
      },
      {
       "output_type": "stream",
       "stream": "stderr",
       "text": [
        "52%\r"
       ]
      },
      {
       "output_type": "stream",
       "stream": "stderr",
       "text": [
        "53%\r"
       ]
      },
      {
       "output_type": "stream",
       "stream": "stderr",
       "text": [
        "54%\r"
       ]
      },
      {
       "output_type": "stream",
       "stream": "stderr",
       "text": [
        "55%\r"
       ]
      },
      {
       "output_type": "stream",
       "stream": "stderr",
       "text": [
        "56%\r"
       ]
      },
      {
       "output_type": "stream",
       "stream": "stderr",
       "text": [
        "57%\r"
       ]
      },
      {
       "output_type": "stream",
       "stream": "stderr",
       "text": [
        "58%\r"
       ]
      },
      {
       "output_type": "stream",
       "stream": "stderr",
       "text": [
        "59%\r"
       ]
      },
      {
       "output_type": "stream",
       "stream": "stderr",
       "text": [
        "60%\r"
       ]
      },
      {
       "output_type": "stream",
       "stream": "stderr",
       "text": [
        "61%\r"
       ]
      },
      {
       "output_type": "stream",
       "stream": "stderr",
       "text": [
        "62%\r"
       ]
      },
      {
       "output_type": "stream",
       "stream": "stderr",
       "text": [
        "63%\r"
       ]
      },
      {
       "output_type": "stream",
       "stream": "stderr",
       "text": [
        "64%\r"
       ]
      },
      {
       "output_type": "stream",
       "stream": "stderr",
       "text": [
        "65%\r"
       ]
      },
      {
       "output_type": "stream",
       "stream": "stderr",
       "text": [
        "66%\r"
       ]
      },
      {
       "output_type": "stream",
       "stream": "stderr",
       "text": [
        "67%\r"
       ]
      },
      {
       "output_type": "stream",
       "stream": "stderr",
       "text": [
        "68%\r"
       ]
      },
      {
       "output_type": "stream",
       "stream": "stderr",
       "text": [
        "69%\r"
       ]
      },
      {
       "output_type": "stream",
       "stream": "stderr",
       "text": [
        "70%\r"
       ]
      },
      {
       "output_type": "stream",
       "stream": "stderr",
       "text": [
        "71%\r"
       ]
      },
      {
       "output_type": "stream",
       "stream": "stderr",
       "text": [
        "72%\r"
       ]
      },
      {
       "output_type": "stream",
       "stream": "stderr",
       "text": [
        "73%\r"
       ]
      },
      {
       "output_type": "stream",
       "stream": "stderr",
       "text": [
        "74%\r"
       ]
      },
      {
       "output_type": "stream",
       "stream": "stderr",
       "text": [
        "75%\r"
       ]
      },
      {
       "output_type": "stream",
       "stream": "stderr",
       "text": [
        "76%\r"
       ]
      },
      {
       "output_type": "stream",
       "stream": "stderr",
       "text": [
        "77%\r"
       ]
      },
      {
       "output_type": "stream",
       "stream": "stderr",
       "text": [
        "78%\r"
       ]
      },
      {
       "output_type": "stream",
       "stream": "stderr",
       "text": [
        "79%\r"
       ]
      },
      {
       "output_type": "stream",
       "stream": "stderr",
       "text": [
        "80%\r"
       ]
      },
      {
       "output_type": "stream",
       "stream": "stderr",
       "text": [
        "81%\r"
       ]
      },
      {
       "output_type": "stream",
       "stream": "stderr",
       "text": [
        "82%\r"
       ]
      },
      {
       "output_type": "stream",
       "stream": "stderr",
       "text": [
        "83%\r"
       ]
      },
      {
       "output_type": "stream",
       "stream": "stderr",
       "text": [
        "84%\r"
       ]
      },
      {
       "output_type": "stream",
       "stream": "stderr",
       "text": [
        "85%\r"
       ]
      },
      {
       "output_type": "stream",
       "stream": "stderr",
       "text": [
        "86%\r"
       ]
      },
      {
       "output_type": "stream",
       "stream": "stderr",
       "text": [
        "87%\r"
       ]
      },
      {
       "output_type": "stream",
       "stream": "stderr",
       "text": [
        "88%\r"
       ]
      },
      {
       "output_type": "stream",
       "stream": "stderr",
       "text": [
        "89%\r"
       ]
      },
      {
       "output_type": "stream",
       "stream": "stderr",
       "text": [
        "90%\r"
       ]
      },
      {
       "output_type": "stream",
       "stream": "stderr",
       "text": [
        "91%\r"
       ]
      },
      {
       "output_type": "stream",
       "stream": "stderr",
       "text": [
        "92%\r"
       ]
      },
      {
       "output_type": "stream",
       "stream": "stderr",
       "text": [
        "93%\r"
       ]
      },
      {
       "output_type": "stream",
       "stream": "stderr",
       "text": [
        "94%\r"
       ]
      },
      {
       "output_type": "stream",
       "stream": "stderr",
       "text": [
        "95%\r"
       ]
      },
      {
       "output_type": "stream",
       "stream": "stderr",
       "text": [
        "96%\r"
       ]
      },
      {
       "output_type": "stream",
       "stream": "stderr",
       "text": [
        "97%\r"
       ]
      },
      {
       "output_type": "stream",
       "stream": "stderr",
       "text": [
        "98%\r"
       ]
      },
      {
       "output_type": "stream",
       "stream": "stderr",
       "text": [
        "99%\r"
       ]
      },
      {
       "output_type": "stream",
       "stream": "stderr",
       "text": [
        "100%\r"
       ]
      },
      {
       "output_type": "stream",
       "stream": "stderr",
       "text": [
        "100%\n"
       ]
      },
      {
       "output_type": "stream",
       "stream": "stdout",
       "text": [
        "\n",
        "  loss 2.30537368027\n",
        "  err  0.89166\n",
        "  (0:00:33)\n",
        "Epoch 5:"
       ]
      },
      {
       "output_type": "stream",
       "stream": "stderr",
       "text": [
        "1%\r"
       ]
      },
      {
       "output_type": "stream",
       "stream": "stderr",
       "text": [
        "2%\r"
       ]
      },
      {
       "output_type": "stream",
       "stream": "stderr",
       "text": [
        "3%\r"
       ]
      },
      {
       "output_type": "stream",
       "stream": "stderr",
       "text": [
        "4%\r"
       ]
      },
      {
       "output_type": "stream",
       "stream": "stderr",
       "text": [
        "5%\r"
       ]
      },
      {
       "output_type": "stream",
       "stream": "stderr",
       "text": [
        "6%\r"
       ]
      },
      {
       "output_type": "stream",
       "stream": "stderr",
       "text": [
        "7%\r"
       ]
      },
      {
       "output_type": "stream",
       "stream": "stderr",
       "text": [
        "8%\r"
       ]
      },
      {
       "output_type": "stream",
       "stream": "stderr",
       "text": [
        "9%\r"
       ]
      },
      {
       "output_type": "stream",
       "stream": "stderr",
       "text": [
        "10%\r"
       ]
      },
      {
       "output_type": "stream",
       "stream": "stderr",
       "text": [
        "11%\r"
       ]
      },
      {
       "output_type": "stream",
       "stream": "stderr",
       "text": [
        "12%\r"
       ]
      },
      {
       "output_type": "stream",
       "stream": "stderr",
       "text": [
        "13%\r"
       ]
      },
      {
       "output_type": "stream",
       "stream": "stderr",
       "text": [
        "14%\r"
       ]
      },
      {
       "output_type": "stream",
       "stream": "stderr",
       "text": [
        "15%\r"
       ]
      },
      {
       "output_type": "stream",
       "stream": "stderr",
       "text": [
        "16%\r"
       ]
      },
      {
       "output_type": "stream",
       "stream": "stderr",
       "text": [
        "17%\r"
       ]
      },
      {
       "output_type": "stream",
       "stream": "stderr",
       "text": [
        "18%\r"
       ]
      },
      {
       "output_type": "stream",
       "stream": "stderr",
       "text": [
        "19%\r"
       ]
      },
      {
       "output_type": "stream",
       "stream": "stderr",
       "text": [
        "20%\r"
       ]
      },
      {
       "output_type": "stream",
       "stream": "stderr",
       "text": [
        "21%\r"
       ]
      },
      {
       "output_type": "stream",
       "stream": "stderr",
       "text": [
        "22%\r"
       ]
      },
      {
       "output_type": "stream",
       "stream": "stderr",
       "text": [
        "23%\r"
       ]
      },
      {
       "output_type": "stream",
       "stream": "stderr",
       "text": [
        "24%\r"
       ]
      },
      {
       "output_type": "stream",
       "stream": "stderr",
       "text": [
        "25%\r"
       ]
      },
      {
       "output_type": "stream",
       "stream": "stderr",
       "text": [
        "26%\r"
       ]
      },
      {
       "output_type": "stream",
       "stream": "stderr",
       "text": [
        "27%\r"
       ]
      },
      {
       "output_type": "stream",
       "stream": "stderr",
       "text": [
        "28%\r"
       ]
      },
      {
       "output_type": "stream",
       "stream": "stderr",
       "text": [
        "29%\r"
       ]
      },
      {
       "output_type": "stream",
       "stream": "stderr",
       "text": [
        "30%\r"
       ]
      },
      {
       "output_type": "stream",
       "stream": "stderr",
       "text": [
        "31%\r"
       ]
      },
      {
       "output_type": "stream",
       "stream": "stderr",
       "text": [
        "32%\r"
       ]
      },
      {
       "output_type": "stream",
       "stream": "stderr",
       "text": [
        "33%\r"
       ]
      },
      {
       "output_type": "stream",
       "stream": "stderr",
       "text": [
        "34%\r"
       ]
      },
      {
       "output_type": "stream",
       "stream": "stderr",
       "text": [
        "35%\r"
       ]
      },
      {
       "output_type": "stream",
       "stream": "stderr",
       "text": [
        "36%\r"
       ]
      },
      {
       "output_type": "stream",
       "stream": "stderr",
       "text": [
        "37%\r"
       ]
      },
      {
       "output_type": "stream",
       "stream": "stderr",
       "text": [
        "38%\r"
       ]
      },
      {
       "output_type": "stream",
       "stream": "stderr",
       "text": [
        "39%\r"
       ]
      },
      {
       "output_type": "stream",
       "stream": "stderr",
       "text": [
        "40%\r"
       ]
      },
      {
       "output_type": "stream",
       "stream": "stderr",
       "text": [
        "41%\r"
       ]
      },
      {
       "output_type": "stream",
       "stream": "stderr",
       "text": [
        "42%\r"
       ]
      },
      {
       "output_type": "stream",
       "stream": "stderr",
       "text": [
        "43%\r"
       ]
      },
      {
       "output_type": "stream",
       "stream": "stderr",
       "text": [
        "44%\r"
       ]
      },
      {
       "output_type": "stream",
       "stream": "stderr",
       "text": [
        "45%\r"
       ]
      },
      {
       "output_type": "stream",
       "stream": "stderr",
       "text": [
        "46%\r"
       ]
      },
      {
       "output_type": "stream",
       "stream": "stderr",
       "text": [
        "47%\r"
       ]
      },
      {
       "output_type": "stream",
       "stream": "stderr",
       "text": [
        "48%\r"
       ]
      },
      {
       "output_type": "stream",
       "stream": "stderr",
       "text": [
        "49%\r"
       ]
      },
      {
       "output_type": "stream",
       "stream": "stderr",
       "text": [
        "50%\r"
       ]
      },
      {
       "output_type": "stream",
       "stream": "stderr",
       "text": [
        "51%\r"
       ]
      },
      {
       "output_type": "stream",
       "stream": "stderr",
       "text": [
        "52%\r"
       ]
      },
      {
       "output_type": "stream",
       "stream": "stderr",
       "text": [
        "53%\r"
       ]
      },
      {
       "output_type": "stream",
       "stream": "stderr",
       "text": [
        "54%\r"
       ]
      },
      {
       "output_type": "stream",
       "stream": "stderr",
       "text": [
        "55%\r"
       ]
      },
      {
       "output_type": "stream",
       "stream": "stderr",
       "text": [
        "56%\r"
       ]
      },
      {
       "output_type": "stream",
       "stream": "stderr",
       "text": [
        "57%\r"
       ]
      },
      {
       "output_type": "stream",
       "stream": "stderr",
       "text": [
        "58%\r"
       ]
      },
      {
       "output_type": "stream",
       "stream": "stderr",
       "text": [
        "59%\r"
       ]
      },
      {
       "output_type": "stream",
       "stream": "stderr",
       "text": [
        "60%\r"
       ]
      },
      {
       "output_type": "stream",
       "stream": "stderr",
       "text": [
        "61%\r"
       ]
      },
      {
       "output_type": "stream",
       "stream": "stderr",
       "text": [
        "62%\r"
       ]
      },
      {
       "output_type": "stream",
       "stream": "stderr",
       "text": [
        "63%\r"
       ]
      },
      {
       "output_type": "stream",
       "stream": "stderr",
       "text": [
        "64%\r"
       ]
      },
      {
       "output_type": "stream",
       "stream": "stderr",
       "text": [
        "65%\r"
       ]
      },
      {
       "output_type": "stream",
       "stream": "stderr",
       "text": [
        "66%\r"
       ]
      },
      {
       "output_type": "stream",
       "stream": "stderr",
       "text": [
        "67%\r"
       ]
      },
      {
       "output_type": "stream",
       "stream": "stderr",
       "text": [
        "68%\r"
       ]
      },
      {
       "output_type": "stream",
       "stream": "stderr",
       "text": [
        "69%\r"
       ]
      },
      {
       "output_type": "stream",
       "stream": "stderr",
       "text": [
        "70%\r"
       ]
      },
      {
       "output_type": "stream",
       "stream": "stderr",
       "text": [
        "71%\r"
       ]
      },
      {
       "output_type": "stream",
       "stream": "stderr",
       "text": [
        "72%\r"
       ]
      },
      {
       "output_type": "stream",
       "stream": "stderr",
       "text": [
        "73%\r"
       ]
      },
      {
       "output_type": "stream",
       "stream": "stderr",
       "text": [
        "74%\r"
       ]
      },
      {
       "output_type": "stream",
       "stream": "stderr",
       "text": [
        "75%\r"
       ]
      },
      {
       "output_type": "stream",
       "stream": "stderr",
       "text": [
        "76%\r"
       ]
      },
      {
       "output_type": "stream",
       "stream": "stderr",
       "text": [
        "77%\r"
       ]
      },
      {
       "output_type": "stream",
       "stream": "stderr",
       "text": [
        "78%\r"
       ]
      },
      {
       "output_type": "stream",
       "stream": "stderr",
       "text": [
        "79%\r"
       ]
      },
      {
       "output_type": "stream",
       "stream": "stderr",
       "text": [
        "80%\r"
       ]
      },
      {
       "output_type": "stream",
       "stream": "stderr",
       "text": [
        "81%\r"
       ]
      },
      {
       "output_type": "stream",
       "stream": "stderr",
       "text": [
        "82%\r"
       ]
      },
      {
       "output_type": "stream",
       "stream": "stderr",
       "text": [
        "83%\r"
       ]
      },
      {
       "output_type": "stream",
       "stream": "stderr",
       "text": [
        "84%\r"
       ]
      },
      {
       "output_type": "stream",
       "stream": "stderr",
       "text": [
        "85%\r"
       ]
      },
      {
       "output_type": "stream",
       "stream": "stderr",
       "text": [
        "86%\r"
       ]
      },
      {
       "output_type": "stream",
       "stream": "stderr",
       "text": [
        "87%\r"
       ]
      },
      {
       "output_type": "stream",
       "stream": "stderr",
       "text": [
        "88%\r"
       ]
      },
      {
       "output_type": "stream",
       "stream": "stderr",
       "text": [
        "89%\r"
       ]
      },
      {
       "output_type": "stream",
       "stream": "stderr",
       "text": [
        "90%\r"
       ]
      },
      {
       "output_type": "stream",
       "stream": "stderr",
       "text": [
        "91%\r"
       ]
      },
      {
       "output_type": "stream",
       "stream": "stderr",
       "text": [
        "92%\r"
       ]
      },
      {
       "output_type": "stream",
       "stream": "stderr",
       "text": [
        "93%\r"
       ]
      },
      {
       "output_type": "stream",
       "stream": "stderr",
       "text": [
        "94%\r"
       ]
      },
      {
       "output_type": "stream",
       "stream": "stderr",
       "text": [
        "95%\r"
       ]
      },
      {
       "output_type": "stream",
       "stream": "stderr",
       "text": [
        "96%\r"
       ]
      },
      {
       "output_type": "stream",
       "stream": "stderr",
       "text": [
        "97%\r"
       ]
      },
      {
       "output_type": "stream",
       "stream": "stderr",
       "text": [
        "98%\r"
       ]
      },
      {
       "output_type": "stream",
       "stream": "stderr",
       "text": [
        "99%\r"
       ]
      },
      {
       "output_type": "stream",
       "stream": "stderr",
       "text": [
        "100%\r"
       ]
      },
      {
       "output_type": "stream",
       "stream": "stderr",
       "text": [
        "100%\n"
       ]
      },
      {
       "output_type": "stream",
       "stream": "stdout",
       "text": [
        "\n",
        "  loss 2.30631334595\n",
        "  err  0.89502\n",
        "  (0:00:33)\n",
        "Epoch 6:"
       ]
      },
      {
       "output_type": "stream",
       "stream": "stderr",
       "text": [
        "1%\r"
       ]
      },
      {
       "output_type": "stream",
       "stream": "stderr",
       "text": [
        "2%\r"
       ]
      },
      {
       "output_type": "stream",
       "stream": "stderr",
       "text": [
        "3%\r"
       ]
      },
      {
       "output_type": "stream",
       "stream": "stderr",
       "text": [
        "4%\r"
       ]
      },
      {
       "output_type": "stream",
       "stream": "stderr",
       "text": [
        "5%\r"
       ]
      },
      {
       "output_type": "stream",
       "stream": "stderr",
       "text": [
        "6%\r"
       ]
      },
      {
       "output_type": "stream",
       "stream": "stderr",
       "text": [
        "7%\r"
       ]
      },
      {
       "output_type": "stream",
       "stream": "stderr",
       "text": [
        "8%\r"
       ]
      },
      {
       "output_type": "stream",
       "stream": "stderr",
       "text": [
        "9%\r"
       ]
      },
      {
       "output_type": "stream",
       "stream": "stderr",
       "text": [
        "10%\r"
       ]
      },
      {
       "output_type": "stream",
       "stream": "stderr",
       "text": [
        "11%\r"
       ]
      },
      {
       "output_type": "stream",
       "stream": "stderr",
       "text": [
        "12%\r"
       ]
      },
      {
       "output_type": "stream",
       "stream": "stderr",
       "text": [
        "13%\r"
       ]
      },
      {
       "output_type": "stream",
       "stream": "stderr",
       "text": [
        "14%\r"
       ]
      },
      {
       "output_type": "stream",
       "stream": "stderr",
       "text": [
        "15%\r"
       ]
      },
      {
       "output_type": "stream",
       "stream": "stderr",
       "text": [
        "16%\r"
       ]
      },
      {
       "output_type": "stream",
       "stream": "stderr",
       "text": [
        "17%\r"
       ]
      },
      {
       "output_type": "stream",
       "stream": "stderr",
       "text": [
        "18%\r"
       ]
      },
      {
       "output_type": "stream",
       "stream": "stderr",
       "text": [
        "19%\r"
       ]
      },
      {
       "output_type": "stream",
       "stream": "stderr",
       "text": [
        "20%\r"
       ]
      },
      {
       "output_type": "stream",
       "stream": "stderr",
       "text": [
        "21%\r"
       ]
      },
      {
       "output_type": "stream",
       "stream": "stderr",
       "text": [
        "22%\r"
       ]
      },
      {
       "output_type": "stream",
       "stream": "stderr",
       "text": [
        "23%\r"
       ]
      },
      {
       "output_type": "stream",
       "stream": "stderr",
       "text": [
        "24%\r"
       ]
      },
      {
       "output_type": "stream",
       "stream": "stderr",
       "text": [
        "25%\r"
       ]
      },
      {
       "output_type": "stream",
       "stream": "stderr",
       "text": [
        "26%\r"
       ]
      },
      {
       "output_type": "stream",
       "stream": "stderr",
       "text": [
        "27%\r"
       ]
      },
      {
       "output_type": "stream",
       "stream": "stderr",
       "text": [
        "28%\r"
       ]
      },
      {
       "output_type": "stream",
       "stream": "stderr",
       "text": [
        "29%\r"
       ]
      },
      {
       "output_type": "stream",
       "stream": "stderr",
       "text": [
        "30%\r"
       ]
      },
      {
       "output_type": "stream",
       "stream": "stderr",
       "text": [
        "31%\r"
       ]
      },
      {
       "output_type": "stream",
       "stream": "stderr",
       "text": [
        "32%\r"
       ]
      },
      {
       "output_type": "stream",
       "stream": "stderr",
       "text": [
        "33%\r"
       ]
      },
      {
       "output_type": "stream",
       "stream": "stderr",
       "text": [
        "34%\r"
       ]
      },
      {
       "output_type": "stream",
       "stream": "stderr",
       "text": [
        "35%\r"
       ]
      },
      {
       "output_type": "stream",
       "stream": "stderr",
       "text": [
        "36%\r"
       ]
      },
      {
       "output_type": "stream",
       "stream": "stderr",
       "text": [
        "37%\r"
       ]
      },
      {
       "output_type": "stream",
       "stream": "stderr",
       "text": [
        "38%\r"
       ]
      },
      {
       "output_type": "stream",
       "stream": "stderr",
       "text": [
        "39%\r"
       ]
      },
      {
       "output_type": "stream",
       "stream": "stderr",
       "text": [
        "40%\r"
       ]
      },
      {
       "output_type": "stream",
       "stream": "stderr",
       "text": [
        "41%\r"
       ]
      },
      {
       "output_type": "stream",
       "stream": "stderr",
       "text": [
        "42%\r"
       ]
      },
      {
       "output_type": "stream",
       "stream": "stderr",
       "text": [
        "43%\r"
       ]
      },
      {
       "output_type": "stream",
       "stream": "stderr",
       "text": [
        "44%\r"
       ]
      },
      {
       "output_type": "stream",
       "stream": "stderr",
       "text": [
        "45%\r"
       ]
      },
      {
       "output_type": "stream",
       "stream": "stderr",
       "text": [
        "46%\r"
       ]
      },
      {
       "output_type": "stream",
       "stream": "stderr",
       "text": [
        "47%\r"
       ]
      },
      {
       "output_type": "stream",
       "stream": "stderr",
       "text": [
        "48%\r"
       ]
      },
      {
       "output_type": "stream",
       "stream": "stderr",
       "text": [
        "49%\r"
       ]
      },
      {
       "output_type": "stream",
       "stream": "stderr",
       "text": [
        "50%\r"
       ]
      },
      {
       "output_type": "stream",
       "stream": "stderr",
       "text": [
        "51%\r"
       ]
      },
      {
       "output_type": "stream",
       "stream": "stderr",
       "text": [
        "52%\r"
       ]
      },
      {
       "output_type": "stream",
       "stream": "stderr",
       "text": [
        "53%\r"
       ]
      },
      {
       "output_type": "stream",
       "stream": "stderr",
       "text": [
        "54%\r"
       ]
      },
      {
       "output_type": "stream",
       "stream": "stderr",
       "text": [
        "55%\r"
       ]
      },
      {
       "output_type": "stream",
       "stream": "stderr",
       "text": [
        "56%\r"
       ]
      },
      {
       "output_type": "stream",
       "stream": "stderr",
       "text": [
        "57%\r"
       ]
      },
      {
       "output_type": "stream",
       "stream": "stderr",
       "text": [
        "58%\r"
       ]
      },
      {
       "output_type": "stream",
       "stream": "stderr",
       "text": [
        "59%\r"
       ]
      },
      {
       "output_type": "stream",
       "stream": "stderr",
       "text": [
        "60%\r"
       ]
      },
      {
       "output_type": "stream",
       "stream": "stderr",
       "text": [
        "61%\r"
       ]
      },
      {
       "output_type": "stream",
       "stream": "stderr",
       "text": [
        "62%\r"
       ]
      },
      {
       "output_type": "stream",
       "stream": "stderr",
       "text": [
        "63%\r"
       ]
      },
      {
       "output_type": "stream",
       "stream": "stderr",
       "text": [
        "64%\r"
       ]
      },
      {
       "output_type": "stream",
       "stream": "stderr",
       "text": [
        "65%\r"
       ]
      },
      {
       "output_type": "stream",
       "stream": "stderr",
       "text": [
        "66%\r"
       ]
      },
      {
       "output_type": "stream",
       "stream": "stderr",
       "text": [
        "67%\r"
       ]
      },
      {
       "output_type": "stream",
       "stream": "stderr",
       "text": [
        "68%\r"
       ]
      },
      {
       "output_type": "stream",
       "stream": "stderr",
       "text": [
        "69%\r"
       ]
      },
      {
       "output_type": "stream",
       "stream": "stderr",
       "text": [
        "70%\r"
       ]
      },
      {
       "output_type": "stream",
       "stream": "stderr",
       "text": [
        "71%\r"
       ]
      },
      {
       "output_type": "stream",
       "stream": "stderr",
       "text": [
        "72%\r"
       ]
      },
      {
       "output_type": "stream",
       "stream": "stderr",
       "text": [
        "73%\r"
       ]
      },
      {
       "output_type": "stream",
       "stream": "stderr",
       "text": [
        "74%\r"
       ]
      },
      {
       "output_type": "stream",
       "stream": "stderr",
       "text": [
        "75%\r"
       ]
      },
      {
       "output_type": "stream",
       "stream": "stderr",
       "text": [
        "76%\r"
       ]
      },
      {
       "output_type": "stream",
       "stream": "stderr",
       "text": [
        "77%\r"
       ]
      },
      {
       "output_type": "stream",
       "stream": "stderr",
       "text": [
        "78%\r"
       ]
      },
      {
       "output_type": "stream",
       "stream": "stderr",
       "text": [
        "79%\r"
       ]
      },
      {
       "output_type": "stream",
       "stream": "stderr",
       "text": [
        "80%\r"
       ]
      },
      {
       "output_type": "stream",
       "stream": "stderr",
       "text": [
        "81%\r"
       ]
      },
      {
       "output_type": "stream",
       "stream": "stderr",
       "text": [
        "82%\r"
       ]
      },
      {
       "output_type": "stream",
       "stream": "stderr",
       "text": [
        "83%\r"
       ]
      },
      {
       "output_type": "stream",
       "stream": "stderr",
       "text": [
        "84%\r"
       ]
      },
      {
       "output_type": "stream",
       "stream": "stderr",
       "text": [
        "85%\r"
       ]
      },
      {
       "output_type": "stream",
       "stream": "stderr",
       "text": [
        "86%\r"
       ]
      },
      {
       "output_type": "stream",
       "stream": "stderr",
       "text": [
        "87%\r"
       ]
      },
      {
       "output_type": "stream",
       "stream": "stderr",
       "text": [
        "88%\r"
       ]
      },
      {
       "output_type": "stream",
       "stream": "stderr",
       "text": [
        "89%\r"
       ]
      },
      {
       "output_type": "stream",
       "stream": "stderr",
       "text": [
        "90%\r"
       ]
      },
      {
       "output_type": "stream",
       "stream": "stderr",
       "text": [
        "91%\r"
       ]
      },
      {
       "output_type": "stream",
       "stream": "stderr",
       "text": [
        "92%\r"
       ]
      },
      {
       "output_type": "stream",
       "stream": "stderr",
       "text": [
        "93%\r"
       ]
      },
      {
       "output_type": "stream",
       "stream": "stderr",
       "text": [
        "94%\r"
       ]
      },
      {
       "output_type": "stream",
       "stream": "stderr",
       "text": [
        "95%\r"
       ]
      },
      {
       "output_type": "stream",
       "stream": "stderr",
       "text": [
        "96%\r"
       ]
      },
      {
       "output_type": "stream",
       "stream": "stderr",
       "text": [
        "97%\r"
       ]
      },
      {
       "output_type": "stream",
       "stream": "stderr",
       "text": [
        "98%\r"
       ]
      },
      {
       "output_type": "stream",
       "stream": "stderr",
       "text": [
        "99%\r"
       ]
      },
      {
       "output_type": "stream",
       "stream": "stderr",
       "text": [
        "100%\r"
       ]
      },
      {
       "output_type": "stream",
       "stream": "stderr",
       "text": [
        "100%\n"
       ]
      },
      {
       "output_type": "stream",
       "stream": "stdout",
       "text": [
        "\n",
        "  loss 2.30579794205\n",
        "  err  0.892\n",
        "  (0:00:33)\n",
        "Epoch 7:"
       ]
      },
      {
       "output_type": "stream",
       "stream": "stderr",
       "text": [
        "1%\r"
       ]
      },
      {
       "output_type": "stream",
       "stream": "stderr",
       "text": [
        "2%\r"
       ]
      },
      {
       "output_type": "stream",
       "stream": "stderr",
       "text": [
        "3%\r"
       ]
      },
      {
       "output_type": "stream",
       "stream": "stderr",
       "text": [
        "4%\r"
       ]
      },
      {
       "output_type": "stream",
       "stream": "stderr",
       "text": [
        "5%\r"
       ]
      },
      {
       "output_type": "stream",
       "stream": "stderr",
       "text": [
        "6%\r"
       ]
      },
      {
       "output_type": "stream",
       "stream": "stderr",
       "text": [
        "7%\r"
       ]
      },
      {
       "output_type": "stream",
       "stream": "stderr",
       "text": [
        "8%\r"
       ]
      },
      {
       "output_type": "stream",
       "stream": "stderr",
       "text": [
        "9%\r"
       ]
      },
      {
       "output_type": "stream",
       "stream": "stderr",
       "text": [
        "10%\r"
       ]
      },
      {
       "output_type": "stream",
       "stream": "stderr",
       "text": [
        "11%\r"
       ]
      },
      {
       "output_type": "stream",
       "stream": "stderr",
       "text": [
        "12%\r"
       ]
      },
      {
       "output_type": "stream",
       "stream": "stderr",
       "text": [
        "13%\r"
       ]
      },
      {
       "output_type": "stream",
       "stream": "stderr",
       "text": [
        "14%\r"
       ]
      },
      {
       "output_type": "stream",
       "stream": "stderr",
       "text": [
        "15%\r"
       ]
      },
      {
       "output_type": "stream",
       "stream": "stderr",
       "text": [
        "16%\r"
       ]
      },
      {
       "output_type": "stream",
       "stream": "stderr",
       "text": [
        "17%\r"
       ]
      },
      {
       "output_type": "stream",
       "stream": "stderr",
       "text": [
        "18%\r"
       ]
      },
      {
       "output_type": "stream",
       "stream": "stderr",
       "text": [
        "19%\r"
       ]
      },
      {
       "output_type": "stream",
       "stream": "stderr",
       "text": [
        "20%\r"
       ]
      },
      {
       "output_type": "stream",
       "stream": "stderr",
       "text": [
        "21%\r"
       ]
      },
      {
       "output_type": "stream",
       "stream": "stderr",
       "text": [
        "22%\r"
       ]
      },
      {
       "output_type": "stream",
       "stream": "stderr",
       "text": [
        "23%\r"
       ]
      },
      {
       "output_type": "stream",
       "stream": "stderr",
       "text": [
        "24%\r"
       ]
      },
      {
       "output_type": "stream",
       "stream": "stderr",
       "text": [
        "25%\r"
       ]
      },
      {
       "output_type": "stream",
       "stream": "stderr",
       "text": [
        "26%\r"
       ]
      },
      {
       "output_type": "stream",
       "stream": "stderr",
       "text": [
        "27%\r"
       ]
      },
      {
       "output_type": "stream",
       "stream": "stderr",
       "text": [
        "28%\r"
       ]
      },
      {
       "output_type": "stream",
       "stream": "stderr",
       "text": [
        "29%\r"
       ]
      },
      {
       "output_type": "stream",
       "stream": "stderr",
       "text": [
        "30%\r"
       ]
      },
      {
       "output_type": "stream",
       "stream": "stderr",
       "text": [
        "31%\r"
       ]
      },
      {
       "output_type": "stream",
       "stream": "stderr",
       "text": [
        "32%\r"
       ]
      },
      {
       "output_type": "stream",
       "stream": "stderr",
       "text": [
        "33%\r"
       ]
      },
      {
       "output_type": "stream",
       "stream": "stderr",
       "text": [
        "34%\r"
       ]
      },
      {
       "output_type": "stream",
       "stream": "stderr",
       "text": [
        "35%\r"
       ]
      },
      {
       "output_type": "stream",
       "stream": "stderr",
       "text": [
        "36%\r"
       ]
      },
      {
       "output_type": "stream",
       "stream": "stderr",
       "text": [
        "37%\r"
       ]
      },
      {
       "output_type": "stream",
       "stream": "stderr",
       "text": [
        "38%\r"
       ]
      },
      {
       "output_type": "stream",
       "stream": "stderr",
       "text": [
        "39%\r"
       ]
      },
      {
       "output_type": "stream",
       "stream": "stderr",
       "text": [
        "40%\r"
       ]
      },
      {
       "output_type": "stream",
       "stream": "stderr",
       "text": [
        "41%\r"
       ]
      },
      {
       "output_type": "stream",
       "stream": "stderr",
       "text": [
        "42%\r"
       ]
      },
      {
       "output_type": "stream",
       "stream": "stderr",
       "text": [
        "43%\r"
       ]
      },
      {
       "output_type": "stream",
       "stream": "stderr",
       "text": [
        "44%\r"
       ]
      },
      {
       "output_type": "stream",
       "stream": "stderr",
       "text": [
        "45%\r"
       ]
      },
      {
       "output_type": "stream",
       "stream": "stderr",
       "text": [
        "46%\r"
       ]
      },
      {
       "output_type": "stream",
       "stream": "stderr",
       "text": [
        "47%\r"
       ]
      },
      {
       "output_type": "stream",
       "stream": "stderr",
       "text": [
        "48%\r"
       ]
      },
      {
       "output_type": "stream",
       "stream": "stderr",
       "text": [
        "49%\r"
       ]
      },
      {
       "output_type": "stream",
       "stream": "stderr",
       "text": [
        "50%\r"
       ]
      },
      {
       "output_type": "stream",
       "stream": "stderr",
       "text": [
        "51%\r"
       ]
      },
      {
       "output_type": "stream",
       "stream": "stderr",
       "text": [
        "52%\r"
       ]
      },
      {
       "output_type": "stream",
       "stream": "stderr",
       "text": [
        "53%\r"
       ]
      },
      {
       "output_type": "stream",
       "stream": "stderr",
       "text": [
        "54%\r"
       ]
      },
      {
       "output_type": "stream",
       "stream": "stderr",
       "text": [
        "55%\r"
       ]
      },
      {
       "output_type": "stream",
       "stream": "stderr",
       "text": [
        "56%\r"
       ]
      },
      {
       "output_type": "stream",
       "stream": "stderr",
       "text": [
        "57%\r"
       ]
      },
      {
       "output_type": "stream",
       "stream": "stderr",
       "text": [
        "58%\r"
       ]
      },
      {
       "output_type": "stream",
       "stream": "stderr",
       "text": [
        "59%\r"
       ]
      },
      {
       "output_type": "stream",
       "stream": "stderr",
       "text": [
        "60%\r"
       ]
      },
      {
       "output_type": "stream",
       "stream": "stderr",
       "text": [
        "61%\r"
       ]
      },
      {
       "output_type": "stream",
       "stream": "stderr",
       "text": [
        "62%\r"
       ]
      },
      {
       "output_type": "stream",
       "stream": "stderr",
       "text": [
        "63%\r"
       ]
      },
      {
       "output_type": "stream",
       "stream": "stderr",
       "text": [
        "64%\r"
       ]
      },
      {
       "output_type": "stream",
       "stream": "stderr",
       "text": [
        "65%\r"
       ]
      },
      {
       "output_type": "stream",
       "stream": "stderr",
       "text": [
        "66%\r"
       ]
      },
      {
       "output_type": "stream",
       "stream": "stderr",
       "text": [
        "67%\r"
       ]
      },
      {
       "output_type": "stream",
       "stream": "stderr",
       "text": [
        "68%\r"
       ]
      },
      {
       "output_type": "stream",
       "stream": "stderr",
       "text": [
        "69%\r"
       ]
      },
      {
       "output_type": "stream",
       "stream": "stderr",
       "text": [
        "70%\r"
       ]
      },
      {
       "output_type": "stream",
       "stream": "stderr",
       "text": [
        "71%\r"
       ]
      },
      {
       "output_type": "stream",
       "stream": "stderr",
       "text": [
        "72%\r"
       ]
      },
      {
       "output_type": "stream",
       "stream": "stderr",
       "text": [
        "73%\r"
       ]
      },
      {
       "output_type": "stream",
       "stream": "stderr",
       "text": [
        "74%\r"
       ]
      },
      {
       "output_type": "stream",
       "stream": "stderr",
       "text": [
        "75%\r"
       ]
      },
      {
       "output_type": "stream",
       "stream": "stderr",
       "text": [
        "76%\r"
       ]
      },
      {
       "output_type": "stream",
       "stream": "stderr",
       "text": [
        "77%\r"
       ]
      },
      {
       "output_type": "stream",
       "stream": "stderr",
       "text": [
        "78%\r"
       ]
      },
      {
       "output_type": "stream",
       "stream": "stderr",
       "text": [
        "79%\r"
       ]
      },
      {
       "output_type": "stream",
       "stream": "stderr",
       "text": [
        "80%\r"
       ]
      },
      {
       "output_type": "stream",
       "stream": "stderr",
       "text": [
        "81%\r"
       ]
      },
      {
       "output_type": "stream",
       "stream": "stderr",
       "text": [
        "82%\r"
       ]
      },
      {
       "output_type": "stream",
       "stream": "stderr",
       "text": [
        "83%\r"
       ]
      },
      {
       "output_type": "stream",
       "stream": "stderr",
       "text": [
        "84%\r"
       ]
      },
      {
       "output_type": "stream",
       "stream": "stderr",
       "text": [
        "85%\r"
       ]
      },
      {
       "output_type": "stream",
       "stream": "stderr",
       "text": [
        "86%\r"
       ]
      },
      {
       "output_type": "stream",
       "stream": "stderr",
       "text": [
        "87%\r"
       ]
      },
      {
       "output_type": "stream",
       "stream": "stderr",
       "text": [
        "88%\r"
       ]
      },
      {
       "output_type": "stream",
       "stream": "stderr",
       "text": [
        "89%\r"
       ]
      },
      {
       "output_type": "stream",
       "stream": "stderr",
       "text": [
        "90%\r"
       ]
      },
      {
       "output_type": "stream",
       "stream": "stderr",
       "text": [
        "91%\r"
       ]
      },
      {
       "output_type": "stream",
       "stream": "stderr",
       "text": [
        "92%\r"
       ]
      },
      {
       "output_type": "stream",
       "stream": "stderr",
       "text": [
        "93%\r"
       ]
      },
      {
       "output_type": "stream",
       "stream": "stderr",
       "text": [
        "94%\r"
       ]
      },
      {
       "output_type": "stream",
       "stream": "stderr",
       "text": [
        "95%\r"
       ]
      },
      {
       "output_type": "stream",
       "stream": "stderr",
       "text": [
        "96%\r"
       ]
      },
      {
       "output_type": "stream",
       "stream": "stderr",
       "text": [
        "97%\r"
       ]
      },
      {
       "output_type": "stream",
       "stream": "stderr",
       "text": [
        "98%\r"
       ]
      },
      {
       "output_type": "stream",
       "stream": "stderr",
       "text": [
        "99%\r"
       ]
      },
      {
       "output_type": "stream",
       "stream": "stderr",
       "text": [
        "100%\r"
       ]
      },
      {
       "output_type": "stream",
       "stream": "stderr",
       "text": [
        "100%\n"
       ]
      },
      {
       "output_type": "stream",
       "stream": "stdout",
       "text": [
        "\n",
        "  loss 2.30566597076\n",
        "  err  0.89278\n",
        "  (0:00:33)\n",
        "Epoch 8:"
       ]
      },
      {
       "output_type": "stream",
       "stream": "stderr",
       "text": [
        "1%\r"
       ]
      },
      {
       "output_type": "stream",
       "stream": "stderr",
       "text": [
        "2%\r"
       ]
      },
      {
       "output_type": "stream",
       "stream": "stderr",
       "text": [
        "3%\r"
       ]
      },
      {
       "output_type": "stream",
       "stream": "stderr",
       "text": [
        "4%\r"
       ]
      },
      {
       "output_type": "stream",
       "stream": "stderr",
       "text": [
        "5%\r"
       ]
      },
      {
       "output_type": "stream",
       "stream": "stderr",
       "text": [
        "6%\r"
       ]
      },
      {
       "output_type": "stream",
       "stream": "stderr",
       "text": [
        "7%\r"
       ]
      },
      {
       "output_type": "stream",
       "stream": "stderr",
       "text": [
        "8%\r"
       ]
      },
      {
       "output_type": "stream",
       "stream": "stderr",
       "text": [
        "9%\r"
       ]
      },
      {
       "output_type": "stream",
       "stream": "stderr",
       "text": [
        "10%\r"
       ]
      },
      {
       "output_type": "stream",
       "stream": "stderr",
       "text": [
        "11%\r"
       ]
      },
      {
       "output_type": "stream",
       "stream": "stderr",
       "text": [
        "12%\r"
       ]
      },
      {
       "output_type": "stream",
       "stream": "stderr",
       "text": [
        "13%\r"
       ]
      },
      {
       "output_type": "stream",
       "stream": "stderr",
       "text": [
        "14%\r"
       ]
      },
      {
       "output_type": "stream",
       "stream": "stderr",
       "text": [
        "15%\r"
       ]
      },
      {
       "output_type": "stream",
       "stream": "stderr",
       "text": [
        "16%\r"
       ]
      },
      {
       "output_type": "stream",
       "stream": "stderr",
       "text": [
        "17%\r"
       ]
      },
      {
       "output_type": "stream",
       "stream": "stderr",
       "text": [
        "18%\r"
       ]
      },
      {
       "output_type": "stream",
       "stream": "stderr",
       "text": [
        "19%\r"
       ]
      },
      {
       "output_type": "stream",
       "stream": "stderr",
       "text": [
        "20%\r"
       ]
      },
      {
       "output_type": "stream",
       "stream": "stderr",
       "text": [
        "21%\r"
       ]
      },
      {
       "output_type": "stream",
       "stream": "stderr",
       "text": [
        "22%\r"
       ]
      },
      {
       "output_type": "stream",
       "stream": "stderr",
       "text": [
        "23%\r"
       ]
      },
      {
       "output_type": "stream",
       "stream": "stderr",
       "text": [
        "24%\r"
       ]
      },
      {
       "output_type": "stream",
       "stream": "stderr",
       "text": [
        "25%\r"
       ]
      },
      {
       "output_type": "stream",
       "stream": "stderr",
       "text": [
        "26%\r"
       ]
      },
      {
       "output_type": "stream",
       "stream": "stderr",
       "text": [
        "27%\r"
       ]
      },
      {
       "output_type": "stream",
       "stream": "stderr",
       "text": [
        "28%\r"
       ]
      },
      {
       "output_type": "stream",
       "stream": "stderr",
       "text": [
        "29%\r"
       ]
      },
      {
       "output_type": "stream",
       "stream": "stderr",
       "text": [
        "30%\r"
       ]
      },
      {
       "output_type": "stream",
       "stream": "stderr",
       "text": [
        "31%\r"
       ]
      },
      {
       "output_type": "stream",
       "stream": "stderr",
       "text": [
        "32%\r"
       ]
      },
      {
       "output_type": "stream",
       "stream": "stderr",
       "text": [
        "33%\r"
       ]
      },
      {
       "output_type": "stream",
       "stream": "stderr",
       "text": [
        "34%\r"
       ]
      },
      {
       "output_type": "stream",
       "stream": "stderr",
       "text": [
        "35%\r"
       ]
      },
      {
       "output_type": "stream",
       "stream": "stderr",
       "text": [
        "36%\r"
       ]
      },
      {
       "output_type": "stream",
       "stream": "stderr",
       "text": [
        "37%\r"
       ]
      },
      {
       "output_type": "stream",
       "stream": "stderr",
       "text": [
        "38%\r"
       ]
      },
      {
       "output_type": "stream",
       "stream": "stderr",
       "text": [
        "39%\r"
       ]
      },
      {
       "output_type": "stream",
       "stream": "stderr",
       "text": [
        "40%\r"
       ]
      },
      {
       "output_type": "stream",
       "stream": "stderr",
       "text": [
        "41%\r"
       ]
      },
      {
       "output_type": "stream",
       "stream": "stderr",
       "text": [
        "42%\r"
       ]
      },
      {
       "output_type": "stream",
       "stream": "stderr",
       "text": [
        "43%\r"
       ]
      },
      {
       "output_type": "stream",
       "stream": "stderr",
       "text": [
        "44%\r"
       ]
      },
      {
       "output_type": "stream",
       "stream": "stderr",
       "text": [
        "45%\r"
       ]
      },
      {
       "output_type": "stream",
       "stream": "stderr",
       "text": [
        "46%\r"
       ]
      },
      {
       "output_type": "stream",
       "stream": "stderr",
       "text": [
        "47%\r"
       ]
      },
      {
       "output_type": "stream",
       "stream": "stderr",
       "text": [
        "48%\r"
       ]
      },
      {
       "output_type": "stream",
       "stream": "stderr",
       "text": [
        "49%\r"
       ]
      },
      {
       "output_type": "stream",
       "stream": "stderr",
       "text": [
        "50%\r"
       ]
      },
      {
       "output_type": "stream",
       "stream": "stderr",
       "text": [
        "51%\r"
       ]
      },
      {
       "output_type": "stream",
       "stream": "stderr",
       "text": [
        "52%\r"
       ]
      },
      {
       "output_type": "stream",
       "stream": "stderr",
       "text": [
        "53%\r"
       ]
      },
      {
       "output_type": "stream",
       "stream": "stderr",
       "text": [
        "54%\r"
       ]
      },
      {
       "output_type": "stream",
       "stream": "stderr",
       "text": [
        "55%\r"
       ]
      },
      {
       "output_type": "stream",
       "stream": "stderr",
       "text": [
        "56%\r"
       ]
      },
      {
       "output_type": "stream",
       "stream": "stderr",
       "text": [
        "57%\r"
       ]
      },
      {
       "output_type": "stream",
       "stream": "stderr",
       "text": [
        "58%\r"
       ]
      },
      {
       "output_type": "stream",
       "stream": "stderr",
       "text": [
        "59%\r"
       ]
      },
      {
       "output_type": "stream",
       "stream": "stderr",
       "text": [
        "60%\r"
       ]
      },
      {
       "output_type": "stream",
       "stream": "stderr",
       "text": [
        "61%\r"
       ]
      },
      {
       "output_type": "stream",
       "stream": "stderr",
       "text": [
        "62%\r"
       ]
      },
      {
       "output_type": "stream",
       "stream": "stderr",
       "text": [
        "63%\r"
       ]
      },
      {
       "output_type": "stream",
       "stream": "stderr",
       "text": [
        "64%\r"
       ]
      },
      {
       "output_type": "stream",
       "stream": "stderr",
       "text": [
        "65%\r"
       ]
      },
      {
       "output_type": "stream",
       "stream": "stderr",
       "text": [
        "66%\r"
       ]
      },
      {
       "output_type": "stream",
       "stream": "stderr",
       "text": [
        "67%\r"
       ]
      },
      {
       "output_type": "stream",
       "stream": "stderr",
       "text": [
        "68%\r"
       ]
      },
      {
       "output_type": "stream",
       "stream": "stderr",
       "text": [
        "69%\r"
       ]
      },
      {
       "output_type": "stream",
       "stream": "stderr",
       "text": [
        "70%\r"
       ]
      },
      {
       "output_type": "stream",
       "stream": "stderr",
       "text": [
        "71%\r"
       ]
      },
      {
       "output_type": "stream",
       "stream": "stderr",
       "text": [
        "72%\r"
       ]
      },
      {
       "output_type": "stream",
       "stream": "stderr",
       "text": [
        "73%\r"
       ]
      },
      {
       "output_type": "stream",
       "stream": "stderr",
       "text": [
        "74%\r"
       ]
      },
      {
       "output_type": "stream",
       "stream": "stderr",
       "text": [
        "75%\r"
       ]
      },
      {
       "output_type": "stream",
       "stream": "stderr",
       "text": [
        "76%\r"
       ]
      },
      {
       "output_type": "stream",
       "stream": "stderr",
       "text": [
        "77%\r"
       ]
      },
      {
       "output_type": "stream",
       "stream": "stderr",
       "text": [
        "78%\r"
       ]
      },
      {
       "output_type": "stream",
       "stream": "stderr",
       "text": [
        "79%\r"
       ]
      },
      {
       "output_type": "stream",
       "stream": "stderr",
       "text": [
        "80%\r"
       ]
      },
      {
       "output_type": "stream",
       "stream": "stderr",
       "text": [
        "81%\r"
       ]
      },
      {
       "output_type": "stream",
       "stream": "stderr",
       "text": [
        "82%\r"
       ]
      },
      {
       "output_type": "stream",
       "stream": "stderr",
       "text": [
        "83%\r"
       ]
      },
      {
       "output_type": "stream",
       "stream": "stderr",
       "text": [
        "84%\r"
       ]
      },
      {
       "output_type": "stream",
       "stream": "stderr",
       "text": [
        "85%\r"
       ]
      },
      {
       "output_type": "stream",
       "stream": "stderr",
       "text": [
        "86%\r"
       ]
      },
      {
       "output_type": "stream",
       "stream": "stderr",
       "text": [
        "87%\r"
       ]
      },
      {
       "output_type": "stream",
       "stream": "stderr",
       "text": [
        "88%\r"
       ]
      },
      {
       "output_type": "stream",
       "stream": "stderr",
       "text": [
        "89%\r"
       ]
      },
      {
       "output_type": "stream",
       "stream": "stderr",
       "text": [
        "90%\r"
       ]
      },
      {
       "output_type": "stream",
       "stream": "stderr",
       "text": [
        "91%\r"
       ]
      },
      {
       "output_type": "stream",
       "stream": "stderr",
       "text": [
        "92%\r"
       ]
      },
      {
       "output_type": "stream",
       "stream": "stderr",
       "text": [
        "93%\r"
       ]
      },
      {
       "output_type": "stream",
       "stream": "stderr",
       "text": [
        "94%\r"
       ]
      },
      {
       "output_type": "stream",
       "stream": "stderr",
       "text": [
        "95%\r"
       ]
      },
      {
       "output_type": "stream",
       "stream": "stderr",
       "text": [
        "96%\r"
       ]
      },
      {
       "output_type": "stream",
       "stream": "stderr",
       "text": [
        "97%\r"
       ]
      },
      {
       "output_type": "stream",
       "stream": "stderr",
       "text": [
        "98%\r"
       ]
      },
      {
       "output_type": "stream",
       "stream": "stderr",
       "text": [
        "99%\r"
       ]
      },
      {
       "output_type": "stream",
       "stream": "stderr",
       "text": [
        "100%\r"
       ]
      },
      {
       "output_type": "stream",
       "stream": "stderr",
       "text": [
        "100%\n"
       ]
      },
      {
       "output_type": "stream",
       "stream": "stdout",
       "text": [
        "\n",
        "  loss 2.30599953354\n",
        "  err  0.89362\n",
        "  (0:00:33)\n",
        "Epoch 9:"
       ]
      },
      {
       "output_type": "stream",
       "stream": "stderr",
       "text": [
        "1%\r"
       ]
      },
      {
       "output_type": "stream",
       "stream": "stderr",
       "text": [
        "2%\r"
       ]
      },
      {
       "output_type": "stream",
       "stream": "stderr",
       "text": [
        "3%\r"
       ]
      },
      {
       "output_type": "stream",
       "stream": "stderr",
       "text": [
        "4%\r"
       ]
      },
      {
       "output_type": "stream",
       "stream": "stderr",
       "text": [
        "5%\r"
       ]
      },
      {
       "output_type": "stream",
       "stream": "stderr",
       "text": [
        "6%\r"
       ]
      },
      {
       "output_type": "stream",
       "stream": "stderr",
       "text": [
        "7%\r"
       ]
      },
      {
       "output_type": "stream",
       "stream": "stderr",
       "text": [
        "8%\r"
       ]
      },
      {
       "output_type": "stream",
       "stream": "stderr",
       "text": [
        "9%\r"
       ]
      },
      {
       "output_type": "stream",
       "stream": "stderr",
       "text": [
        "10%\r"
       ]
      },
      {
       "output_type": "stream",
       "stream": "stderr",
       "text": [
        "11%\r"
       ]
      },
      {
       "output_type": "stream",
       "stream": "stderr",
       "text": [
        "12%\r"
       ]
      },
      {
       "output_type": "stream",
       "stream": "stderr",
       "text": [
        "13%\r"
       ]
      },
      {
       "output_type": "stream",
       "stream": "stderr",
       "text": [
        "14%\r"
       ]
      },
      {
       "output_type": "stream",
       "stream": "stderr",
       "text": [
        "15%\r"
       ]
      },
      {
       "output_type": "stream",
       "stream": "stderr",
       "text": [
        "16%\r"
       ]
      },
      {
       "output_type": "stream",
       "stream": "stderr",
       "text": [
        "17%\r"
       ]
      },
      {
       "output_type": "stream",
       "stream": "stderr",
       "text": [
        "18%\r"
       ]
      },
      {
       "output_type": "stream",
       "stream": "stderr",
       "text": [
        "19%\r"
       ]
      },
      {
       "output_type": "stream",
       "stream": "stderr",
       "text": [
        "20%\r"
       ]
      },
      {
       "output_type": "stream",
       "stream": "stderr",
       "text": [
        "21%\r"
       ]
      },
      {
       "output_type": "stream",
       "stream": "stderr",
       "text": [
        "22%\r"
       ]
      },
      {
       "output_type": "stream",
       "stream": "stderr",
       "text": [
        "23%\r"
       ]
      },
      {
       "output_type": "stream",
       "stream": "stderr",
       "text": [
        "24%\r"
       ]
      },
      {
       "output_type": "stream",
       "stream": "stderr",
       "text": [
        "25%\r"
       ]
      },
      {
       "output_type": "stream",
       "stream": "stderr",
       "text": [
        "26%\r"
       ]
      },
      {
       "output_type": "stream",
       "stream": "stderr",
       "text": [
        "27%\r"
       ]
      },
      {
       "output_type": "stream",
       "stream": "stderr",
       "text": [
        "28%\r"
       ]
      },
      {
       "output_type": "stream",
       "stream": "stderr",
       "text": [
        "29%\r"
       ]
      },
      {
       "output_type": "stream",
       "stream": "stderr",
       "text": [
        "30%\r"
       ]
      },
      {
       "output_type": "stream",
       "stream": "stderr",
       "text": [
        "31%\r"
       ]
      },
      {
       "output_type": "stream",
       "stream": "stderr",
       "text": [
        "32%\r"
       ]
      },
      {
       "output_type": "stream",
       "stream": "stderr",
       "text": [
        "33%\r"
       ]
      },
      {
       "output_type": "stream",
       "stream": "stderr",
       "text": [
        "34%\r"
       ]
      },
      {
       "output_type": "stream",
       "stream": "stderr",
       "text": [
        "35%\r"
       ]
      },
      {
       "output_type": "stream",
       "stream": "stderr",
       "text": [
        "36%\r"
       ]
      },
      {
       "output_type": "stream",
       "stream": "stderr",
       "text": [
        "37%\r"
       ]
      },
      {
       "output_type": "stream",
       "stream": "stderr",
       "text": [
        "38%\r"
       ]
      },
      {
       "output_type": "stream",
       "stream": "stderr",
       "text": [
        "39%\r"
       ]
      },
      {
       "output_type": "stream",
       "stream": "stderr",
       "text": [
        "40%\r"
       ]
      },
      {
       "output_type": "stream",
       "stream": "stderr",
       "text": [
        "41%\r"
       ]
      },
      {
       "output_type": "stream",
       "stream": "stderr",
       "text": [
        "42%\r"
       ]
      },
      {
       "output_type": "stream",
       "stream": "stderr",
       "text": [
        "43%\r"
       ]
      },
      {
       "output_type": "stream",
       "stream": "stderr",
       "text": [
        "44%\r"
       ]
      },
      {
       "output_type": "stream",
       "stream": "stderr",
       "text": [
        "45%\r"
       ]
      },
      {
       "output_type": "stream",
       "stream": "stderr",
       "text": [
        "46%\r"
       ]
      },
      {
       "output_type": "stream",
       "stream": "stderr",
       "text": [
        "47%\r"
       ]
      },
      {
       "output_type": "stream",
       "stream": "stderr",
       "text": [
        "48%\r"
       ]
      },
      {
       "output_type": "stream",
       "stream": "stderr",
       "text": [
        "49%\r"
       ]
      },
      {
       "output_type": "stream",
       "stream": "stderr",
       "text": [
        "50%\r"
       ]
      },
      {
       "output_type": "stream",
       "stream": "stderr",
       "text": [
        "51%\r"
       ]
      },
      {
       "output_type": "stream",
       "stream": "stderr",
       "text": [
        "52%\r"
       ]
      },
      {
       "output_type": "stream",
       "stream": "stderr",
       "text": [
        "53%\r"
       ]
      },
      {
       "output_type": "stream",
       "stream": "stderr",
       "text": [
        "54%\r"
       ]
      },
      {
       "output_type": "stream",
       "stream": "stderr",
       "text": [
        "55%\r"
       ]
      },
      {
       "output_type": "stream",
       "stream": "stderr",
       "text": [
        "56%\r"
       ]
      },
      {
       "output_type": "stream",
       "stream": "stderr",
       "text": [
        "57%\r"
       ]
      },
      {
       "output_type": "stream",
       "stream": "stderr",
       "text": [
        "58%\r"
       ]
      },
      {
       "output_type": "stream",
       "stream": "stderr",
       "text": [
        "59%\r"
       ]
      },
      {
       "output_type": "stream",
       "stream": "stderr",
       "text": [
        "60%\r"
       ]
      },
      {
       "output_type": "stream",
       "stream": "stderr",
       "text": [
        "61%\r"
       ]
      },
      {
       "output_type": "stream",
       "stream": "stderr",
       "text": [
        "62%\r"
       ]
      },
      {
       "output_type": "stream",
       "stream": "stderr",
       "text": [
        "63%\r"
       ]
      },
      {
       "output_type": "stream",
       "stream": "stderr",
       "text": [
        "64%\r"
       ]
      },
      {
       "output_type": "stream",
       "stream": "stderr",
       "text": [
        "65%\r"
       ]
      },
      {
       "output_type": "stream",
       "stream": "stderr",
       "text": [
        "66%\r"
       ]
      },
      {
       "output_type": "stream",
       "stream": "stderr",
       "text": [
        "67%\r"
       ]
      },
      {
       "output_type": "stream",
       "stream": "stderr",
       "text": [
        "68%\r"
       ]
      },
      {
       "output_type": "stream",
       "stream": "stderr",
       "text": [
        "69%\r"
       ]
      },
      {
       "output_type": "stream",
       "stream": "stderr",
       "text": [
        "70%\r"
       ]
      },
      {
       "output_type": "stream",
       "stream": "stderr",
       "text": [
        "71%\r"
       ]
      },
      {
       "output_type": "stream",
       "stream": "stderr",
       "text": [
        "72%\r"
       ]
      },
      {
       "output_type": "stream",
       "stream": "stderr",
       "text": [
        "73%\r"
       ]
      },
      {
       "output_type": "stream",
       "stream": "stderr",
       "text": [
        "74%\r"
       ]
      },
      {
       "output_type": "stream",
       "stream": "stderr",
       "text": [
        "75%\r"
       ]
      },
      {
       "output_type": "stream",
       "stream": "stderr",
       "text": [
        "76%\r"
       ]
      },
      {
       "output_type": "stream",
       "stream": "stderr",
       "text": [
        "77%\r"
       ]
      },
      {
       "output_type": "stream",
       "stream": "stderr",
       "text": [
        "78%\r"
       ]
      },
      {
       "output_type": "stream",
       "stream": "stderr",
       "text": [
        "79%\r"
       ]
      },
      {
       "output_type": "stream",
       "stream": "stderr",
       "text": [
        "80%\r"
       ]
      },
      {
       "output_type": "stream",
       "stream": "stderr",
       "text": [
        "81%\r"
       ]
      },
      {
       "output_type": "stream",
       "stream": "stderr",
       "text": [
        "82%\r"
       ]
      },
      {
       "output_type": "stream",
       "stream": "stderr",
       "text": [
        "83%\r"
       ]
      },
      {
       "output_type": "stream",
       "stream": "stderr",
       "text": [
        "84%\r"
       ]
      },
      {
       "output_type": "stream",
       "stream": "stderr",
       "text": [
        "85%\r"
       ]
      },
      {
       "output_type": "stream",
       "stream": "stderr",
       "text": [
        "86%\r"
       ]
      },
      {
       "output_type": "stream",
       "stream": "stderr",
       "text": [
        "87%\r"
       ]
      },
      {
       "output_type": "stream",
       "stream": "stderr",
       "text": [
        "88%\r"
       ]
      },
      {
       "output_type": "stream",
       "stream": "stderr",
       "text": [
        "89%\r"
       ]
      },
      {
       "output_type": "stream",
       "stream": "stderr",
       "text": [
        "90%\r"
       ]
      },
      {
       "output_type": "stream",
       "stream": "stderr",
       "text": [
        "91%\r"
       ]
      },
      {
       "output_type": "stream",
       "stream": "stderr",
       "text": [
        "92%\r"
       ]
      },
      {
       "output_type": "stream",
       "stream": "stderr",
       "text": [
        "93%\r"
       ]
      },
      {
       "output_type": "stream",
       "stream": "stderr",
       "text": [
        "94%\r"
       ]
      },
      {
       "output_type": "stream",
       "stream": "stderr",
       "text": [
        "95%\r"
       ]
      },
      {
       "output_type": "stream",
       "stream": "stderr",
       "text": [
        "96%\r"
       ]
      },
      {
       "output_type": "stream",
       "stream": "stderr",
       "text": [
        "97%\r"
       ]
      },
      {
       "output_type": "stream",
       "stream": "stderr",
       "text": [
        "98%\r"
       ]
      },
      {
       "output_type": "stream",
       "stream": "stderr",
       "text": [
        "99%\r"
       ]
      },
      {
       "output_type": "stream",
       "stream": "stderr",
       "text": [
        "100%\r"
       ]
      },
      {
       "output_type": "stream",
       "stream": "stderr",
       "text": [
        "100%\n"
       ]
      },
      {
       "output_type": "stream",
       "stream": "stdout",
       "text": [
        "\n",
        "  loss 2.30484498688\n",
        "  err  0.89216\n",
        "  (0:00:37)\n",
        "Epoch 10:"
       ]
      },
      {
       "output_type": "stream",
       "stream": "stdout",
       "text": [
        "\n",
        "  loss 2.3052917186\n",
        "  err  0.89368\n",
        "  (0:00:42)\n"
       ]
      }
     ],
     "prompt_number": 5
    },
    {
     "cell_type": "code",
     "collapsed": false,
     "input": [
      "(dbn.predict(X_train[:1000]) == y_train[:1000]).mean()"
     ],
     "language": "python",
     "metadata": {},
     "outputs": [
      {
       "output_type": "pyout",
       "prompt_number": 6,
       "text": [
        "0.11600000000000001"
       ]
      }
     ],
     "prompt_number": 6
    },
    {
     "cell_type": "code",
     "collapsed": false,
     "input": [],
     "language": "python",
     "metadata": {},
     "outputs": []
    }
   ],
   "metadata": {}
  }
 ]
}