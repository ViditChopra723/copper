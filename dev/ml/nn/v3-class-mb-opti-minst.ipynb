{
 "metadata": {
  "name": "v3-class-mb-opti-minst"
 },
 "nbformat": 3,
 "nbformat_minor": 0,
 "worksheets": [
  {
   "cells": [
    {
     "cell_type": "code",
     "collapsed": false,
     "input": [
      "import cPickle, gzip, numpy\n",
      "f = gzip.open('mnist.pkl.gz', 'rb')\n",
      "train_set, valid_set, test_set = cPickle.load(f)\n",
      "f.close()"
     ],
     "language": "python",
     "metadata": {},
     "outputs": [],
     "prompt_number": 1
    },
    {
     "cell_type": "code",
     "collapsed": false,
     "input": [
      "from __future__ import division\n",
      "import math\n",
      "import numpy as np\n",
      "from scipy import optimize\n",
      "from scipy.io import loadmat\n",
      "import sklearn.datasets as datasets\n",
      "from sklearn import cross_validation"
     ],
     "language": "python",
     "metadata": {},
     "outputs": [],
     "prompt_number": 2
    },
    {
     "cell_type": "code",
     "collapsed": false,
     "input": [
      "def build_network(layers):\n",
      "    return [(layers[i+1], layers[i] + 1) for i in range(len(layers) - 1)]"
     ],
     "language": "python",
     "metadata": {},
     "outputs": [],
     "prompt_number": 3
    },
    {
     "cell_type": "code",
     "collapsed": false,
     "input": [
      "def pack_weigths(*weights):\n",
      "    tuples = tuple([theta.reshape(-1) for theta in weights])\n",
      "    return np.concatenate(tuples)"
     ],
     "language": "python",
     "metadata": {},
     "outputs": [],
     "prompt_number": 4
    },
    {
     "cell_type": "code",
     "collapsed": false,
     "input": [
      "def unpack_weigths_gen(weights, weights_meta):\n",
      "    start_pos = 0\n",
      "    for layer in weights_meta:\n",
      "        end_pos = start_pos + layer[0] * (layer[1])\n",
      "        theta = weights[start_pos:end_pos].reshape((layer[0], layer[1]))\n",
      "        yield theta\n",
      "        start_pos = end_pos"
     ],
     "language": "python",
     "metadata": {},
     "outputs": [],
     "prompt_number": 5
    },
    {
     "cell_type": "code",
     "collapsed": false,
     "input": [
      "def unpack_weigths_gen_inv(weights, weights_meta):\n",
      "    end_pos = len(weights)\n",
      "    for layer in reversed(weights_meta):\n",
      "        start_pos = end_pos - layer[0] * (layer[1])\n",
      "        theta = weights[start_pos:end_pos].reshape((layer[0], layer[1]))\n",
      "        yield theta\n",
      "        end_pos = start_pos"
     ],
     "language": "python",
     "metadata": {},
     "outputs": [],
     "prompt_number": 6
    },
    {
     "cell_type": "code",
     "collapsed": false,
     "input": [
      "def rand_init(weights_meta, epsilon_init):\n",
      "    s = 0\n",
      "    for t in weights_meta:\n",
      "        s += t[0] * t[1]\n",
      "    return np.random.rand(s, ) * 2 * epsilon_init - epsilon_init"
     ],
     "language": "python",
     "metadata": {},
     "outputs": [],
     "prompt_number": 7
    },
    {
     "cell_type": "code",
     "collapsed": false,
     "input": [
      "def sigmoid(z):\n",
      "    return 1 / (1 + np.exp(-z))"
     ],
     "language": "python",
     "metadata": {},
     "outputs": [],
     "prompt_number": 8
    },
    {
     "cell_type": "code",
     "collapsed": false,
     "input": [
      "def sigmoid_prime(z):\n",
      "    sig = sigmoid(z)\n",
      "    return sig * (1 - sig)"
     ],
     "language": "python",
     "metadata": {},
     "outputs": [],
     "prompt_number": 9
    },
    {
     "cell_type": "code",
     "collapsed": false,
     "input": [
      "def hard_sigmoid(x):\n",
      "    z = (x * 0.2) + 0.5\n",
      "    z[z > 1] = 1\n",
      "    z[z < 0] = 0\n",
      "    return z"
     ],
     "language": "python",
     "metadata": {},
     "outputs": [],
     "prompt_number": 10
    },
    {
     "cell_type": "code",
     "collapsed": false,
     "input": [
      "def hard_sigmoid_prime(z):\n",
      "    sig = hard_sigmoid(z)\n",
      "    return sig * (1 - sig)"
     ],
     "language": "python",
     "metadata": {},
     "outputs": [],
     "prompt_number": 11
    },
    {
     "cell_type": "code",
     "collapsed": false,
     "input": [
      "def forward(weights, weights_meta, X, act_func):\n",
      "    m = X.shape[0]\n",
      "    ones = np.ones(m).reshape(m,1)\n",
      "            \n",
      "    a_prev = np.hstack((ones, X))  # Input layer\n",
      "    for theta in unpack_weigths_gen(weights, weights_meta):\n",
      "        # Hidden Layers\n",
      "        z = np.dot(theta, a_prev.T)\n",
      "        a = act_func(z)\n",
      "        a_prev = np.hstack((ones, a.T))\n",
      "    return a  # Output layer"
     ],
     "language": "python",
     "metadata": {},
     "outputs": [],
     "prompt_number": 12
    },
    {
     "cell_type": "code",
     "collapsed": false,
     "input": [
      "def sumsqr(a):\n",
      "    return np.sum(a ** 2)"
     ],
     "language": "python",
     "metadata": {},
     "outputs": [],
     "prompt_number": 13
    },
    {
     "cell_type": "code",
     "collapsed": false,
     "input": [
      "def function(weights, X, y, weights_meta, num_labels, reg_lambda, act_func, act_func_prime):\n",
      "    m = X.shape[0]\n",
      "    Y = np.eye(num_labels)[y]\n",
      "    \n",
      "    h = forward(weights, weights_meta, X, act_func)\n",
      "    costPositive = -Y * np.log(h).T\n",
      "    costNegative = (1 - Y) * np.log(1 - h).T\n",
      "    cost = costPositive - costNegative\n",
      "    J = np.sum(cost) / m\n",
      "    \n",
      "    if reg_lambda != 0:\n",
      "        sums_qr = 0\n",
      "        for theta in unpack_weigths_gen(weights, weights_meta):\n",
      "            theta_filtered = theta[:, 1:]\n",
      "            sums_qr += sumsqr(theta_filtered)\n",
      "        reg = (reg_lambda / (2 * m)) * (sums_qr)\n",
      "        J = J + reg\n",
      "    return J"
     ],
     "language": "python",
     "metadata": {},
     "outputs": [],
     "prompt_number": 14
    },
    {
     "cell_type": "code",
     "collapsed": false,
     "input": [
      "def function_prime(weights, X, y, weights_meta, num_labels, reg_lambda, act_func, act_func_prime):\n",
      "    m = X.shape[0]\n",
      "    Y = np.eye(num_labels)[y]\n",
      "    \n",
      "    d_s = ()\n",
      "    Deltas = [np.zeros(w_info) for w_info in weights_meta]\n",
      "    for i, row in enumerate(X):\n",
      "        # Forward\n",
      "        ones = np.array(1).reshape(1,)\n",
      "        a_prev = np.hstack((ones, row))  # Input layer\n",
      "        a_s = (a_prev, ) ## a_s[0] == a1\n",
      "        z_s = ()  # z_s[0] == z2\n",
      "        for j, theta in enumerate(unpack_weigths_gen(weights, weights_meta)):\n",
      "            # Hidden Layers\n",
      "            z = np.dot(theta, a_prev.T)\n",
      "            z_s = z_s + (z, )\n",
      "            a = act_func(z)\n",
      "            a_prev = np.hstack((ones, a.T))\n",
      "            if j == len(weights_meta) - 1:\n",
      "                a_s = a_s + (a, )\n",
      "            else:\n",
      "                a_s = a_s + (a_prev, )\n",
      "                \n",
      "        # Backprop\n",
      "        # deltas:= error\n",
      "        d_prev = a_s[-1] - Y[i, :].T  # last d\n",
      "        d_s = (d_prev, )  # d_s[0] == d2\n",
      "        for z_i, theta in zip(reversed(z_s[:-1]), unpack_weigths_gen_inv(weights, weights_meta)):\n",
      "            d_new = np.dot(theta[:, 1:].T, d_prev) * act_func_prime(z_i)\n",
      "            d_s = (d_new, ) + d_s\n",
      "            d_prev = d_new\n",
      "        for d_i, a_i, i in zip(reversed(d_s), reversed(a_s[:-1]), range(len(Deltas) - 1, -1, -1)):\n",
      "            Deltas[i] = Deltas[i] + np.dot(d_i[np.newaxis].T, a_i[np.newaxis])\n",
      "    \n",
      "    thetas_gen = None\n",
      "    if reg_lambda != 0:\n",
      "        thetas_gen = unpack_weigths_gen(weights, weights_meta)\n",
      "    for i in range(len(Deltas)):\n",
      "        Deltas[i] = Deltas[i] / m\n",
      "        if reg_lambda != 0:\n",
      "            Deltas[i][:, 1:] = Deltas[i][:, 1:] + (reg_lambda / m) * thetas_gen.next()[:, 1:]\n",
      "    return pack_weigths(*tuple(Deltas))"
     ],
     "language": "python",
     "metadata": {},
     "outputs": [],
     "prompt_number": 15
    },
    {
     "cell_type": "code",
     "collapsed": false,
     "input": [
      "def minibatch(X, y, batch_size=1):\n",
      "    m = X.shape[0]\n",
      "    batch_size = batch_size if batch_size >= 1 else int(math.floor(m * batch_size))\n",
      "    max_batchs = int(math.floor(m / batch_size))\n",
      "    \n",
      "    indices = np.random.choice(np.arange(m), m, replace=False)\n",
      "    X, y = X[indices], y[indices]\n",
      "    while True:\n",
      "        for i in range(max_batchs):\n",
      "            indices =  np.arange(i * batch_size, (i + 1) * batch_size)\n",
      "            yield X[indices], y[indices]"
     ],
     "language": "python",
     "metadata": {},
     "outputs": [],
     "prompt_number": 16
    },
    {
     "cell_type": "code",
     "collapsed": false,
     "input": [
      "def sgd(func, func_prime, thetas0, X, y, options=None, args=()):\n",
      "    if options is not None:\n",
      "        batch_size = options['batch_size']\n",
      "        maxiter = options['maxiter']\n",
      "        learning_rate = options['learning_rate']\n",
      "        tol = options['tol']\n",
      "        disp = options['disp']\n",
      "    else:\n",
      "        batch_size = 1\n",
      "        maxiter = 100\n",
      "        alpha = 0.3\n",
      "        tol = 0.000001\n",
      "    thetas = thetas0\n",
      "    diff = 1\n",
      "    prevJ = 1000\n",
      "    i = 0\n",
      "    thetas = thetas0\n",
      "    for _X, _y in minibatch(X, y, batch_size):\n",
      "        ans = optimize.minimize(func, thetas, jac=func_prime, method=options['opti'], \n",
      "                         args=(_X, _y) + args,\n",
      "                         options={'maxiter': 1})\n",
      "        thetas = ans.x\n",
      "        newJ = float(function(thetas, X, y, *args))\n",
      "        if disp:\n",
      "            print i, newJ\n",
      "        if not np.isnan(newJ) and newJ != float(\"inf\"):\n",
      "            diff = np.abs(newJ - prevJ)\n",
      "            \n",
      "            prevJ = newJ\n",
      "            if diff < tol or i >= maxiter:\n",
      "                break\n",
      "        i += 1\n",
      "    return thetas"
     ],
     "language": "python",
     "metadata": {},
     "outputs": [],
     "prompt_number": 17
    },
    {
     "cell_type": "code",
     "collapsed": false,
     "input": [
      "class NN_SGD(object):\n",
      "    \n",
      "    def __init__(self, hidden_layers, \n",
      "                 batch_size=0.1, maxiter=100, learning_rate=0.3, \n",
      "                 tol = 0.000001, disp=False,\n",
      "                 mb_opti='CG',\n",
      "                 act_func=sigmoid, act_func_prime=sigmoid_prime,\n",
      "                 epsilon_init=0.12, random_state=0, \n",
      "                 reg_lambda=0, coef0=None):\n",
      "        self.hidden_layers = hidden_layers\n",
      "        self.batch_size = batch_size\n",
      "        self.maxiter = maxiter\n",
      "        self.learning_rate = learning_rate\n",
      "        self.tol = tol\n",
      "        self.disp = disp\n",
      "        self.mb_opti = mb_opti\n",
      "        self.act_func = act_func\n",
      "        self.act_func_prime = act_func_prime\n",
      "        self.epsilon_init = epsilon_init\n",
      "        self.random_state = random_state\n",
      "        self.reg_lambda = 0\n",
      "        self.coef0 = coef0\n",
      "        self.coef_ = None\n",
      "    \n",
      "    def predict(self, X):\n",
      "        return forward(self.coef_, self.meta_, X, self.act_func).argmax(0)\n",
      "    \n",
      "    def fit(self, X, y):\n",
      "        layers = self.hidden_layers\n",
      "        layers.insert(0, X.shape[1])\n",
      "        layers.insert(len(layers), np.unique(y).shape[0])\n",
      "        weight_metadata = build_network(layers)\n",
      "        num_labels = len(np.unique(y))\n",
      "        \n",
      "        np.random.seed(self.random_state)\n",
      "        \n",
      "        thetas0 = self.coef0 if self.coef0 is not None else rand_init(weight_metadata, self.epsilon_init)\n",
      "        options = {}\n",
      "        options['batch_size'] = self.batch_size\n",
      "        options['maxiter'] = self.maxiter\n",
      "        options['learning_rate'] = self.learning_rate\n",
      "        options['tol'] = self.tol\n",
      "        options['disp'] = self.disp\n",
      "        options['opti'] = self.mb_opti\n",
      "        ans = sgd(function, function_prime, thetas0, X, y, options=options,\n",
      "                        args=(weight_metadata, num_labels, self.reg_lambda, self.act_func, self.act_func_prime))\n",
      "        self.coef_ = ans\n",
      "        self.meta_ = weight_metadata"
     ],
     "language": "python",
     "metadata": {},
     "outputs": [],
     "prompt_number": 18
    },
    {
     "cell_type": "code",
     "collapsed": false,
     "input": [
      "nn = NN_SGD(hidden_layers=[25], maxiter=200, batch_size=10, mb_opti='L-BFGS-B', random_state=1234)"
     ],
     "language": "python",
     "metadata": {},
     "outputs": [],
     "prompt_number": 19
    },
    {
     "cell_type": "code",
     "collapsed": false,
     "input": [
      "%timeit -n1 -r1 nn.fit(train_set[0], train_set[1])"
     ],
     "language": "python",
     "metadata": {},
     "outputs": [
      {
       "output_type": "stream",
       "stream": "stdout",
       "text": [
        "1 loops, best of 1: 240 s per loop\n"
       ]
      }
     ],
     "prompt_number": 20
    },
    {
     "cell_type": "code",
     "collapsed": false,
     "input": [
      "(nn.predict(test_set[0]) == test_set[1]).mean()"
     ],
     "language": "python",
     "metadata": {},
     "outputs": [
      {
       "output_type": "pyout",
       "prompt_number": 22,
       "text": [
        "0.87949999999999995"
       ]
      }
     ],
     "prompt_number": 22
    },
    {
     "cell_type": "code",
     "collapsed": false,
     "input": [
      "nn = NN_SGD(hidden_layers=[25], maxiter=200, batch_size=100, mb_opti='L-BFGS-B', random_state=1234)"
     ],
     "language": "python",
     "metadata": {},
     "outputs": [],
     "prompt_number": 23
    },
    {
     "cell_type": "code",
     "collapsed": false,
     "input": [
      "%timeit -n1 -r1 nn.fit(train_set[0], train_set[1])"
     ],
     "language": "python",
     "metadata": {},
     "outputs": [
      {
       "output_type": "stream",
       "stream": "stdout",
       "text": [
        "1 loops, best of 1: 275 s per loop\n"
       ]
      }
     ],
     "prompt_number": 25
    },
    {
     "cell_type": "code",
     "collapsed": false,
     "input": [
      "(nn.predict(test_set[0]) == test_set[1]).mean()"
     ],
     "language": "python",
     "metadata": {},
     "outputs": [
      {
       "output_type": "pyout",
       "prompt_number": 26,
       "text": [
        "0.89610000000000001"
       ]
      }
     ],
     "prompt_number": 26
    },
    {
     "cell_type": "code",
     "collapsed": false,
     "input": [
      "nn = NN_SGD(hidden_layers=[25], maxiter=200, batch_size=10, mb_opti='CG', random_state=1234)"
     ],
     "language": "python",
     "metadata": {},
     "outputs": [],
     "prompt_number": 27
    },
    {
     "cell_type": "code",
     "collapsed": false,
     "input": [
      "%timeit -n1 -r1 nn.fit(train_set[0], train_set[1])"
     ],
     "language": "python",
     "metadata": {},
     "outputs": [
      {
       "output_type": "stream",
       "stream": "stdout",
       "text": [
        "1 loops, best of 1: 255 s per loop\n"
       ]
      }
     ],
     "prompt_number": 28
    },
    {
     "cell_type": "code",
     "collapsed": false,
     "input": [
      "(nn.predict(test_set[0]) == test_set[1]).mean()"
     ],
     "language": "python",
     "metadata": {},
     "outputs": [
      {
       "output_type": "pyout",
       "prompt_number": 29,
       "text": [
        "0.85399999999999998"
       ]
      }
     ],
     "prompt_number": 29
    },
    {
     "cell_type": "code",
     "collapsed": false,
     "input": [
      "nn = NN_SGD(hidden_layers=[25], maxiter=200, batch_size=100, mb_opti='CG', random_state=1234)"
     ],
     "language": "python",
     "metadata": {},
     "outputs": [],
     "prompt_number": 30
    },
    {
     "cell_type": "code",
     "collapsed": false,
     "input": [
      "%timeit -n1 -r1 nn.fit(train_set[0], train_set[1])"
     ],
     "language": "python",
     "metadata": {},
     "outputs": [
      {
       "output_type": "stream",
       "stream": "stdout",
       "text": [
        "1 loops, best of 1: 303 s per loop\n"
       ]
      }
     ],
     "prompt_number": 31
    },
    {
     "cell_type": "code",
     "collapsed": false,
     "input": [
      "(nn.predict(test_set[0]) == test_set[1]).mean()"
     ],
     "language": "python",
     "metadata": {},
     "outputs": [
      {
       "output_type": "pyout",
       "prompt_number": 32,
       "text": [
        "0.91039999999999999"
       ]
      }
     ],
     "prompt_number": 32
    },
    {
     "cell_type": "heading",
     "level": 3,
     "metadata": {},
     "source": [
      "Deep net"
     ]
    },
    {
     "cell_type": "code",
     "collapsed": false,
     "input": [
      "nn = NN_SGD(hidden_layers=[35, 35], maxiter=400, batch_size=50, mb_opti='CG', disp=False, random_state=1234)"
     ],
     "language": "python",
     "metadata": {},
     "outputs": [],
     "prompt_number": 33
    },
    {
     "cell_type": "code",
     "collapsed": false,
     "input": [
      "%timeit -n1 -r1 nn.fit(train_set[0], train_set[1])"
     ],
     "language": "python",
     "metadata": {},
     "outputs": [
      {
       "output_type": "stream",
       "stream": "stdout",
       "text": [
        "1 loops, best of 1: 605 s per loop\n"
       ]
      }
     ],
     "prompt_number": 34
    },
    {
     "cell_type": "code",
     "collapsed": false,
     "input": [
      "(nn.predict(test_set[0]) == test_set[1]).mean()"
     ],
     "language": "python",
     "metadata": {},
     "outputs": [
      {
       "output_type": "pyout",
       "prompt_number": 35,
       "text": [
        "0.89019999999999999"
       ]
      }
     ],
     "prompt_number": 35
    },
    {
     "cell_type": "code",
     "collapsed": false,
     "input": [
      "nn = NN_SGD(hidden_layers=[35, 35], maxiter=400, batch_size=50, mb_opti='L-BFGS-B', disp=False, random_state=1234)"
     ],
     "language": "python",
     "metadata": {},
     "outputs": [],
     "prompt_number": 36
    },
    {
     "cell_type": "code",
     "collapsed": false,
     "input": [
      "%timeit -n1 -r1 nn.fit(train_set[0], train_set[1])"
     ],
     "language": "python",
     "metadata": {},
     "outputs": [
      {
       "output_type": "stream",
       "stream": "stdout",
       "text": [
        "1 loops, best of 1: 758 s per loop\n"
       ]
      }
     ],
     "prompt_number": 37
    },
    {
     "cell_type": "code",
     "collapsed": false,
     "input": [
      "(nn.predict(test_set[0]) == test_set[1]).mean()"
     ],
     "language": "python",
     "metadata": {},
     "outputs": [
      {
       "output_type": "pyout",
       "prompt_number": 38,
       "text": [
        "0.91039999999999999"
       ]
      }
     ],
     "prompt_number": 38
    },
    {
     "cell_type": "heading",
     "level": 3,
     "metadata": {},
     "source": [
      "Random Forest"
     ]
    },
    {
     "cell_type": "code",
     "collapsed": false,
     "input": [
      "from sklearn.ensemble import RandomForestClassifier"
     ],
     "language": "python",
     "metadata": {},
     "outputs": [],
     "prompt_number": 39
    },
    {
     "cell_type": "code",
     "collapsed": false,
     "input": [
      "rfc = RandomForestClassifier(n_estimators=10)"
     ],
     "language": "python",
     "metadata": {},
     "outputs": [],
     "prompt_number": 44
    },
    {
     "cell_type": "code",
     "collapsed": false,
     "input": [
      "%timeit -n1 -r1 rfc.fit(train_set[0], train_set[1])"
     ],
     "language": "python",
     "metadata": {},
     "outputs": [
      {
       "output_type": "stream",
       "stream": "stdout",
       "text": [
        "1 loops, best of 1: 81.4 s per loop\n"
       ]
      }
     ],
     "prompt_number": 45
    },
    {
     "cell_type": "code",
     "collapsed": false,
     "input": [
      "(rfc.predict(test_set[0]) == test_set[1]).mean()"
     ],
     "language": "python",
     "metadata": {},
     "outputs": [
      {
       "output_type": "pyout",
       "prompt_number": 46,
       "text": [
        "0.94830000000000003"
       ]
      }
     ],
     "prompt_number": 46
    },
    {
     "cell_type": "code",
     "collapsed": false,
     "input": [],
     "language": "python",
     "metadata": {},
     "outputs": []
    }
   ],
   "metadata": {}
  }
 ]
}