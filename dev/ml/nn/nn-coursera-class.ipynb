{
 "metadata": {
  "name": "nn-coursera-class"
 },
 "nbformat": 3,
 "nbformat_minor": 0,
 "worksheets": [
  {
   "cells": [
    {
     "cell_type": "code",
     "collapsed": false,
     "input": [
      "import numpy as np\n",
      "from scipy import optimize\n",
      "from scipy.io import loadmat\n",
      "from __future__ import division"
     ],
     "language": "python",
     "metadata": {},
     "outputs": [],
     "prompt_number": 1
    },
    {
     "cell_type": "code",
     "collapsed": false,
     "input": [
      "data = loadmat('ex3data1.mat')"
     ],
     "language": "python",
     "metadata": {},
     "outputs": [],
     "prompt_number": 2
    },
    {
     "cell_type": "code",
     "collapsed": false,
     "input": [
      "X, y = data['X'], data['y']"
     ],
     "language": "python",
     "metadata": {},
     "outputs": [],
     "prompt_number": 3
    },
    {
     "cell_type": "code",
     "collapsed": false,
     "input": [
      "y = y.reshape(X.shape[0], )\n",
      "y = y - 1"
     ],
     "language": "python",
     "metadata": {},
     "outputs": [],
     "prompt_number": 4
    },
    {
     "cell_type": "code",
     "collapsed": false,
     "input": [
      "class NN_1HL(object):\n",
      "    \n",
      "    def __init__(self, reg_lambda=0, epsilon_init=0.12, hidden_layer_size=25, method='CG'):\n",
      "        self.reg_lambda = reg_lambda\n",
      "        self.epsilon_init = epsilon_init\n",
      "        self.hidden_layer_size = 25\n",
      "        self.activation_func = self.sigmoid\n",
      "        self.activation_func_prime = self.sigmoid_prime\n",
      "        self.method = method\n",
      "    \n",
      "    def sigmoid(self, z):\n",
      "        return 1 / (1 + np.exp(-z))\n",
      "    \n",
      "    def sigmoid_prime(self, z):\n",
      "        sig = self.sigmoid(z)\n",
      "        return sig * (1 - sig)\n",
      "    \n",
      "    def sumsqr(self, a):\n",
      "        return np.sum(a ** 2)\n",
      "    \n",
      "    def rand_init(self, l_in, l_out):\n",
      "        return np.random.rand(l_out, l_in + 1) * 2 * self.epsilon_init - self.epsilon_init\n",
      "        \n",
      "    def _forward(self, X, T1, T2):\n",
      "        m = X.shape[0]\n",
      "        \n",
      "        # Input layer\n",
      "        a1 = np.append(np.ones(m).reshape(m,1), X, axis=1)  # [5000, 401]\n",
      "        \n",
      "        # Hidden Layer\n",
      "        z2 = np.dot(T1, a1.T)  # [25, 5000]\n",
      "        a2 = self.activation_func(z2)  # [25, 5000]\n",
      "        a2 = np.append(np.ones(m).reshape(1,m), a2, axis=0)  # [26, 5000]\n",
      "        \n",
      "        # Output layer\n",
      "        z3 = np.dot(T2, a2)  # [10, 5000]\n",
      "        a3 = self.activation_func(z3)  # [10, 5000]\n",
      "        return a3\n",
      "    \n",
      "    def cost(self, X, Y, t1, t2, reg_lambda):\n",
      "        m = X.shape[0]\n",
      "        h = self._forward(X, t1, t2)\n",
      "    \n",
      "        costPositive = -Y * np.log(h).T\n",
      "        costNegative = (1 - Y) * np.log(1 - h).T\n",
      "        cost = costPositive - costNegative\n",
      "        J = np.sum(cost) / m\n",
      "        \n",
      "        t1f = t1[:, 1:]\n",
      "        t2f = t2[:, 1:]\n",
      "        reg = (self.reg_lambda / (2 * m)) * (self.sumsqr(t1f) + self.sumsqr(t2f))\n",
      "        J = J + reg\n",
      "        return J\n",
      "    \n",
      "    def function(self, thetas, input_layer_size, hidden_layer_size, num_labels, X, y, reg_lambda):\n",
      "        t1_start = 0\n",
      "        t1_end = hidden_layer_size * (input_layer_size + 1)\n",
      "        t1 = thetas[t1_start:t1_end].reshape((hidden_layer_size, input_layer_size + 1))\n",
      "        t2 = thetas[t1_end:].reshape((num_labels, hidden_layer_size + 1))\n",
      "        \n",
      "        Y = np.eye(num_labels)[y]\n",
      "        return self.cost(X, Y, t1, t2, reg_lambda)\n",
      "    \n",
      "    def function_prime(self, thetas, input_layer_size, hidden_layer_size, num_labels, X, y, reg_lambda):\n",
      "        t1_start = 0\n",
      "        t1_end = hidden_layer_size * (input_layer_size + 1)\n",
      "        t1 = thetas[t1_start:t1_end].reshape((hidden_layer_size, input_layer_size + 1))\n",
      "        t2 = thetas[t1_end:].reshape((num_labels, hidden_layer_size + 1))\n",
      "        \n",
      "        m = X.shape[0]\n",
      "        t1f = t1[:, 1:]\n",
      "        t2f = t2[:, 1:]\n",
      "        Y = np.eye(num_labels)[y]\n",
      "        \n",
      "        Delta1, Delta2 = 0, 0\n",
      "        for i, row in enumerate(X):\n",
      "            a1 = np.append([1], row, axis=1)\n",
      "            z2 = np.dot(t1, a1)\n",
      "            a2 = np.append([1], self.activation_func(z2), axis=1)\n",
      "            z3 = np.dot(t2, a2)\n",
      "            a3 = self.activation_func(z3)\n",
      "            \n",
      "            # Step 2\n",
      "            d3 = a3 - Y[i, :].T\n",
      "            \n",
      "            # Step 3\n",
      "            d2 = np.dot(t2f.T, d3) * self.activation_func_prime(z2)\n",
      "            \n",
      "            # Step 4\n",
      "            Delta2 += np.dot(d3[np.newaxis].T, a2[np.newaxis])  # [10, 26]\n",
      "            Delta1 += np.dot(d2[np.newaxis].T, a1[np.newaxis])  # [25, 401]\n",
      "            \n",
      "        Theta1_grad = (1 / m) * Delta1  # [25, 401]\n",
      "        Theta2_grad = (1 / m) * Delta2  # [10, 26]\n",
      "        \n",
      "        Theta1_grad[:, 1:] = Theta1_grad[:, 1:] + (reg_lambda / m) * t1f\n",
      "        Theta2_grad[:, 1:] = Theta2_grad[:, 1:] + (reg_lambda / m) * t2f\n",
      "        \n",
      "        return np.concatenate((Theta1_grad.reshape(-1), Theta2_grad.reshape(-1)))\n",
      "    \n",
      "    def fit(self, X, y):\n",
      "        num_features = X.shape[0]\n",
      "        input_layer_size = X.shape[1]\n",
      "        hidden_layer_size = self.hidden_layer_size\n",
      "        num_labels = len(set(y))\n",
      "        \n",
      "        theta1_0 = self.rand_init(input_layer_size, hidden_layer_size)\n",
      "        theta2_0 = self.rand_init(hidden_layer_size, num_labels)\n",
      "        thetas0 = np.concatenate((theta1_0.reshape(-1), theta2_0.reshape(-1)))\n",
      "        \n",
      "        options = {'maxiter': 100}\n",
      "        _res = optimize.minimize(self.function, thetas0, jac=self.function_prime, method=self.method, \n",
      "                                 args=(input_layer_size, hidden_layer_size, num_labels, X, y, 0), options=options)\n",
      "        _thetas = _res.x\n",
      "        \n",
      "        t1_start = 0\n",
      "        t1_end = hidden_layer_size * (input_layer_size + 1)\n",
      "        self.t1 = _thetas[t1_start:t1_end].reshape((hidden_layer_size, input_layer_size + 1))\n",
      "        self.t2 = _thetas[t1_end:].reshape((num_labels, hidden_layer_size + 1))\n",
      "    \n",
      "    def predict(self, X):\n",
      "        # _forward() contains the probalities, so take the max of each column\n",
      "        return self.predict_proba(X).argmax(0)\n",
      "    \n",
      "    def predict_proba(self, X):\n",
      "        return self._forward(X, self.t1, self.t2)\n",
      "        "
     ],
     "language": "python",
     "metadata": {},
     "outputs": [],
     "prompt_number": 9
    },
    {
     "cell_type": "code",
     "collapsed": false,
     "input": [
      "nn = NN_1HL()\n",
      "nn.fit(X, y)"
     ],
     "language": "python",
     "metadata": {},
     "outputs": [],
     "prompt_number": 10
    },
    {
     "cell_type": "code",
     "collapsed": false,
     "input": [
      "(nn.predict(X) == y).mean()"
     ],
     "language": "python",
     "metadata": {},
     "outputs": [
      {
       "output_type": "pyout",
       "prompt_number": 11,
       "text": [
        "0.99439999999999995"
       ]
      }
     ],
     "prompt_number": 11
    },
    {
     "cell_type": "code",
     "collapsed": false,
     "input": [],
     "language": "python",
     "metadata": {},
     "outputs": []
    }
   ],
   "metadata": {}
  }
 ]
}