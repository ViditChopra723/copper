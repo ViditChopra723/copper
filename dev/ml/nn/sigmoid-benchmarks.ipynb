{
 "metadata": {
  "name": "sigmoid-benchmarks"
 },
 "nbformat": 3,
 "nbformat_minor": 0,
 "worksheets": [
  {
   "cells": [
    {
     "cell_type": "code",
     "collapsed": false,
     "input": [
      "from __future__ import division\n",
      "import numpy as np"
     ],
     "language": "python",
     "metadata": {},
     "outputs": [],
     "prompt_number": 1
    },
    {
     "cell_type": "code",
     "collapsed": false,
     "input": [
      "arr = np.arange(-10, 10)"
     ],
     "language": "python",
     "metadata": {},
     "outputs": [],
     "prompt_number": 2
    },
    {
     "cell_type": "code",
     "collapsed": false,
     "input": [
      "def sigmoid(z):\n",
      "    return 1 / (1 + np.exp(-z))"
     ],
     "language": "python",
     "metadata": {},
     "outputs": [],
     "prompt_number": 3
    },
    {
     "cell_type": "code",
     "collapsed": false,
     "input": [
      "sigmoid(arr)"
     ],
     "language": "python",
     "metadata": {},
     "outputs": [
      {
       "output_type": "pyout",
       "prompt_number": 4,
       "text": [
        "array([  4.53978687e-05,   1.23394576e-04,   3.35350130e-04,\n",
        "         9.11051194e-04,   2.47262316e-03,   6.69285092e-03,\n",
        "         1.79862100e-02,   4.74258732e-02,   1.19202922e-01,\n",
        "         2.68941421e-01,   5.00000000e-01,   7.31058579e-01,\n",
        "         8.80797078e-01,   9.52574127e-01,   9.82013790e-01,\n",
        "         9.93307149e-01,   9.97527377e-01,   9.99088949e-01,\n",
        "         9.99664650e-01,   9.99876605e-01])"
       ]
      }
     ],
     "prompt_number": 4
    },
    {
     "cell_type": "code",
     "collapsed": false,
     "input": [
      "def _fast_sigmoid(x):\n",
      "    x = 0.5 * x\n",
      "    \n",
      "    if x >= 0:\n",
      "        if x < 1.7:\n",
      "            z = (1.5 * x / (1 + x))\n",
      "        elif x < 3:\n",
      "            z = (0.935409070603099 + 0.0458812946797165 * (x - 1.7))\n",
      "        else:\n",
      "            z = 0.99505475368673\n",
      "    else:\n",
      "        xx = -x\n",
      "        if xx < 1.7:\n",
      "            z = (1.5 * xx / (1 + xx))\n",
      "        elif xx < 3:\n",
      "            z = (0.935409070603099 + 0.0458812946797165 * (xx - 1.7))\n",
      "        else:\n",
      "            z = 0.99505475368673\n",
      "        z = -z\n",
      "\n",
      "    return 0.5 * (z + 1.)"
     ],
     "language": "python",
     "metadata": {},
     "outputs": [],
     "prompt_number": 5
    },
    {
     "cell_type": "code",
     "collapsed": false,
     "input": [
      "fast_sigmoid = np.vectorize(_fast_sigmoid)"
     ],
     "language": "python",
     "metadata": {},
     "outputs": [],
     "prompt_number": 6
    },
    {
     "cell_type": "code",
     "collapsed": false,
     "input": [
      "def fast_sigmoid_2(x):\n",
      "    x = 0.5 * x\n",
      "    z = -1 * np.ones(x.shape)\n",
      "    cond1 = (x >= 0) & (x < 1.7)\n",
      "    z[cond1] = (1.5 * x[cond1] / (1 + x[cond1]))\n",
      "    cond2 = (x >= 0) & (x >= 1.7) & (x < 3)\n",
      "    z[cond2] = 0.935409070603099 + 0.0458812946797165 * (x[cond2] - 1.7)\n",
      "    cond3 = (x >= 3)\n",
      "    z[cond3] = 0.99505475368673\n",
      "    \n",
      "    cond4 = (x < 0) & (x > -1.7)\n",
      "    z[cond4] = 1.5 * (-x[cond4]) / (1 - x[cond4])\n",
      "    cond5 = (x < 0) & (x <= -1.7) & (x > -3)\n",
      "    z[cond5] = 0.935409070603099 + 0.0458812946797165 * (-x[cond5] - 1.7)\n",
      "    cond6 = (x <= -3)\n",
      "    z[cond6] = 0.99505475368673\n",
      "    z[x<0] = -z[x<0]\n",
      "    return 0.5 * (z + 1)"
     ],
     "language": "python",
     "metadata": {},
     "outputs": [],
     "prompt_number": 7
    },
    {
     "cell_type": "code",
     "collapsed": false,
     "input": [
      "np.round(fast_sigmoid_2(arr), 3)"
     ],
     "language": "python",
     "metadata": {},
     "outputs": [
      {
       "output_type": "pyout",
       "prompt_number": 8,
       "text": [
        "array([ 0.002,  0.002,  0.002,  0.002,  0.002,  0.014,  0.025,  0.05 ,\n",
        "        0.125,  0.25 ,  0.5  ,  0.75 ,  0.875,  0.95 ,  0.975,  0.986,\n",
        "        0.998,  0.998,  0.998,  0.998])"
       ]
      }
     ],
     "prompt_number": 8
    },
    {
     "cell_type": "code",
     "collapsed": false,
     "input": [
      "np.round(sigmoid(arr), 3)"
     ],
     "language": "python",
     "metadata": {},
     "outputs": [
      {
       "output_type": "pyout",
       "prompt_number": 9,
       "text": [
        "array([ 0.   ,  0.   ,  0.   ,  0.001,  0.002,  0.007,  0.018,  0.047,\n",
        "        0.119,  0.269,  0.5  ,  0.731,  0.881,  0.953,  0.982,  0.993,\n",
        "        0.998,  0.999,  1.   ,  1.   ])"
       ]
      }
     ],
     "prompt_number": 9
    },
    {
     "cell_type": "code",
     "collapsed": false,
     "input": [
      "def hard_sigmoid(x):\n",
      "    z = (x * 0.2) + 0.5\n",
      "    z[z > 1] = 1\n",
      "    z[z < 0] = 0\n",
      "    return z"
     ],
     "language": "python",
     "metadata": {},
     "outputs": [],
     "prompt_number": 10
    },
    {
     "cell_type": "code",
     "collapsed": false,
     "input": [
      "hard_sigmoid(arr)"
     ],
     "language": "python",
     "metadata": {},
     "outputs": [
      {
       "output_type": "pyout",
       "prompt_number": 11,
       "text": [
        "array([ 0. ,  0. ,  0. ,  0. ,  0. ,  0. ,  0. ,  0. ,  0.1,  0.3,  0.5,\n",
        "        0.7,  0.9,  1. ,  1. ,  1. ,  1. ,  1. ,  1. ,  1. ])"
       ]
      }
     ],
     "prompt_number": 11
    },
    {
     "cell_type": "code",
     "collapsed": false,
     "input": [
      "np.round(sigmoid(arr), 1)"
     ],
     "language": "python",
     "metadata": {},
     "outputs": [
      {
       "output_type": "pyout",
       "prompt_number": 12,
       "text": [
        "array([ 0. ,  0. ,  0. ,  0. ,  0. ,  0. ,  0. ,  0. ,  0.1,  0.3,  0.5,\n",
        "        0.7,  0.9,  1. ,  1. ,  1. ,  1. ,  1. ,  1. ,  1. ])"
       ]
      }
     ],
     "prompt_number": 12
    },
    {
     "cell_type": "code",
     "collapsed": false,
     "input": [
      "from scipy.interpolate import UnivariateSpline"
     ],
     "language": "python",
     "metadata": {},
     "outputs": [],
     "prompt_number": 13
    },
    {
     "cell_type": "code",
     "collapsed": false,
     "input": [
      "x = np.linspace(-3, 3, 1000)"
     ],
     "language": "python",
     "metadata": {},
     "outputs": [],
     "prompt_number": 14
    },
    {
     "cell_type": "code",
     "collapsed": false,
     "input": [
      "y = sigmoid(x)"
     ],
     "language": "python",
     "metadata": {},
     "outputs": [],
     "prompt_number": 15
    },
    {
     "cell_type": "code",
     "collapsed": false,
     "input": [
      "sigmoid_table = UnivariateSpline(x, y, k=5)"
     ],
     "language": "python",
     "metadata": {},
     "outputs": [],
     "prompt_number": 16
    },
    {
     "cell_type": "code",
     "collapsed": false,
     "input": [
      "def sigmoid_table_clip(x):\n",
      "    x = sigmoid_table(x)\n",
      "    x[x > 1] = 1\n",
      "    x[x < 0] = 0\n",
      "    return x"
     ],
     "language": "python",
     "metadata": {},
     "outputs": [],
     "prompt_number": 17
    },
    {
     "cell_type": "heading",
     "level": 3,
     "metadata": {},
     "source": [
      "Error Big"
     ]
    },
    {
     "cell_type": "code",
     "collapsed": false,
     "input": [
      "def mse(true, pred):\n",
      "    return (1 / len(true)) * ((true - pred) ** 2).sum()"
     ],
     "language": "python",
     "metadata": {},
     "outputs": [],
     "prompt_number": 18
    },
    {
     "cell_type": "code",
     "collapsed": false,
     "input": [
      "arr_med = np.linspace(-10, 10, 10000)"
     ],
     "language": "python",
     "metadata": {},
     "outputs": [],
     "prompt_number": 19
    },
    {
     "cell_type": "code",
     "collapsed": false,
     "input": [
      "mse(fast_sigmoid(arr_med), sigmoid(arr_med))"
     ],
     "language": "python",
     "metadata": {},
     "outputs": [
      {
       "output_type": "pyout",
       "prompt_number": 20,
       "text": [
        "7.5557598629254709e-05"
       ]
      }
     ],
     "prompt_number": 20
    },
    {
     "cell_type": "code",
     "collapsed": false,
     "input": [
      "mse(fast_sigmoid_2(arr_med), sigmoid(arr_med))"
     ],
     "language": "python",
     "metadata": {},
     "outputs": [
      {
       "output_type": "pyout",
       "prompt_number": 21,
       "text": [
        "7.5557598629254709e-05"
       ]
      }
     ],
     "prompt_number": 21
    },
    {
     "cell_type": "code",
     "collapsed": false,
     "input": [
      "mse(hard_sigmoid(arr_med), sigmoid(arr_med))"
     ],
     "language": "python",
     "metadata": {},
     "outputs": [
      {
       "output_type": "pyout",
       "prompt_number": 22,
       "text": [
        "0.00051359202210114567"
       ]
      }
     ],
     "prompt_number": 22
    },
    {
     "cell_type": "code",
     "collapsed": false,
     "input": [
      "mse(sigmoid_table(arr_med), sigmoid(arr_med))"
     ],
     "language": "python",
     "metadata": {},
     "outputs": [
      {
       "output_type": "pyout",
       "prompt_number": 23,
       "text": [
        "234.72625377286008"
       ]
      }
     ],
     "prompt_number": 23
    },
    {
     "cell_type": "code",
     "collapsed": false,
     "input": [
      "mse(sigmoid_table_clip(arr_med), sigmoid(arr_med))"
     ],
     "language": "python",
     "metadata": {},
     "outputs": [
      {
       "output_type": "pyout",
       "prompt_number": 24,
       "text": [
        "6.0686490340219784e-05"
       ]
      }
     ],
     "prompt_number": 24
    },
    {
     "cell_type": "heading",
     "level": 3,
     "metadata": {},
     "source": [
      "Error Small"
     ]
    },
    {
     "cell_type": "code",
     "collapsed": false,
     "input": [
      "arr_med = np.linspace(-3, 3, 100000)"
     ],
     "language": "python",
     "metadata": {},
     "outputs": [],
     "prompt_number": 25
    },
    {
     "cell_type": "code",
     "collapsed": false,
     "input": [
      "mse(fast_sigmoid(arr_med), sigmoid(arr_med))"
     ],
     "language": "python",
     "metadata": {},
     "outputs": [
      {
       "output_type": "pyout",
       "prompt_number": 26,
       "text": [
        "0.00021183755072750964"
       ]
      }
     ],
     "prompt_number": 26
    },
    {
     "cell_type": "code",
     "collapsed": false,
     "input": [
      "mse(fast_sigmoid_2(arr_med), sigmoid(arr_med))"
     ],
     "language": "python",
     "metadata": {},
     "outputs": [
      {
       "output_type": "pyout",
       "prompt_number": 27,
       "text": [
        "0.00021183755072750964"
       ]
      }
     ],
     "prompt_number": 27
    },
    {
     "cell_type": "code",
     "collapsed": false,
     "input": [
      "mse(hard_sigmoid(arr_med), sigmoid(arr_med))"
     ],
     "language": "python",
     "metadata": {},
     "outputs": [
      {
       "output_type": "pyout",
       "prompt_number": 28,
       "text": [
        "0.0013249961105971475"
       ]
      }
     ],
     "prompt_number": 28
    },
    {
     "cell_type": "code",
     "collapsed": false,
     "input": [
      "mse(sigmoid_table(arr_med), sigmoid(arr_med))"
     ],
     "language": "python",
     "metadata": {},
     "outputs": [
      {
       "output_type": "pyout",
       "prompt_number": 29,
       "text": [
        "1.0686668721997661e-06"
       ]
      }
     ],
     "prompt_number": 29
    },
    {
     "cell_type": "code",
     "collapsed": false,
     "input": [
      "mse(sigmoid_table_clip(arr_med), sigmoid(arr_med))"
     ],
     "language": "python",
     "metadata": {},
     "outputs": [
      {
       "output_type": "pyout",
       "prompt_number": 30,
       "text": [
        "1.0686668721997661e-06"
       ]
      }
     ],
     "prompt_number": 30
    },
    {
     "cell_type": "heading",
     "level": 3,
     "metadata": {},
     "source": [
      "Time"
     ]
    },
    {
     "cell_type": "code",
     "collapsed": false,
     "input": [
      "arr_large = np.random.rand(1000000)"
     ],
     "language": "python",
     "metadata": {},
     "outputs": [],
     "prompt_number": 31
    },
    {
     "cell_type": "code",
     "collapsed": false,
     "input": [
      "%timeit sigmoid(arr_large)"
     ],
     "language": "python",
     "metadata": {},
     "outputs": [
      {
       "output_type": "stream",
       "stream": "stdout",
       "text": [
        "10 loops, best of 3: 20.4 ms per loop\n"
       ]
      }
     ],
     "prompt_number": 32
    },
    {
     "cell_type": "code",
     "collapsed": false,
     "input": [
      "%timeit fast_sigmoid(arr_large)"
     ],
     "language": "python",
     "metadata": {},
     "outputs": [
      {
       "output_type": "stream",
       "stream": "stdout",
       "text": [
        "1 loops, best of 3: 612 ms per loop\n"
       ]
      }
     ],
     "prompt_number": 33
    },
    {
     "cell_type": "code",
     "collapsed": false,
     "input": [
      "%timeit fast_sigmoid_2(arr_large)"
     ],
     "language": "python",
     "metadata": {},
     "outputs": [
      {
       "output_type": "stream",
       "stream": "stdout",
       "text": [
        "10 loops, best of 3: 71.6 ms per loop\n"
       ]
      }
     ],
     "prompt_number": 34
    },
    {
     "cell_type": "code",
     "collapsed": false,
     "input": [
      "%timeit hard_sigmoid(arr_large)"
     ],
     "language": "python",
     "metadata": {},
     "outputs": [
      {
       "output_type": "stream",
       "stream": "stdout",
       "text": [
        "100 loops, best of 3: 11.2 ms per loop\n"
       ]
      }
     ],
     "prompt_number": 35
    },
    {
     "cell_type": "code",
     "collapsed": false,
     "input": [
      "%timeit sigmoid_table(arr_large)"
     ],
     "language": "python",
     "metadata": {},
     "outputs": [
      {
       "output_type": "stream",
       "stream": "stdout",
       "text": [
        "10 loops, best of 3: 114 ms per loop\n"
       ]
      }
     ],
     "prompt_number": 36
    },
    {
     "cell_type": "code",
     "collapsed": false,
     "input": [
      "%timeit sigmoid_table_clip(arr_large)"
     ],
     "language": "python",
     "metadata": {},
     "outputs": [
      {
       "output_type": "stream",
       "stream": "stdout",
       "text": [
        "10 loops, best of 3: 119 ms per loop\n"
       ]
      }
     ],
     "prompt_number": 37
    },
    {
     "cell_type": "heading",
     "level": 3,
     "metadata": {},
     "source": [
      "Numba"
     ]
    },
    {
     "cell_type": "code",
     "collapsed": false,
     "input": [
      "from numbapro import autojit"
     ],
     "language": "python",
     "metadata": {},
     "outputs": [],
     "prompt_number": 115
    },
    {
     "cell_type": "code",
     "collapsed": false,
     "input": [
      "numba_sigmoid = autojit(sigmoid)\n",
      "numba_fast_sigmoid = autojit(_fast_sigmoid)\n",
      "numba_fast_sigmoid = np.vectorize(numba_fast_sigmoid)\n",
      "numba_fast_sigmoid_2 = autojit(fast_sigmoid_2)\n",
      "numba_hard_sigmoid = autojit(hard_sigmoid)\n",
      "numba_sigmoid_table_clip = autojit(sigmoid_table_clip)"
     ],
     "language": "python",
     "metadata": {},
     "outputs": [],
     "prompt_number": 125
    },
    {
     "cell_type": "code",
     "collapsed": false,
     "input": [
      "%timeit numba_sigmoid(arr_large)"
     ],
     "language": "python",
     "metadata": {},
     "outputs": [
      {
       "output_type": "stream",
       "stream": "stdout",
       "text": [
        "100 loops, best of 3: 15.2 ms per loop\n"
       ]
      }
     ],
     "prompt_number": 129
    },
    {
     "cell_type": "code",
     "collapsed": false,
     "input": [
      "%timeit numba_fast_sigmoid(arr_large)"
     ],
     "language": "python",
     "metadata": {},
     "outputs": [
      {
       "output_type": "stream",
       "stream": "stdout",
       "text": [
        "1 loops, best of 3: 1.75 s per loop"
       ]
      },
      {
       "output_type": "stream",
       "stream": "stdout",
       "text": [
        "\n"
       ]
      }
     ],
     "prompt_number": 123
    },
    {
     "cell_type": "code",
     "collapsed": false,
     "input": [
      "%timeit numba_fast_sigmoid_2(arr_large)"
     ],
     "language": "python",
     "metadata": {},
     "outputs": [
      {
       "output_type": "stream",
       "stream": "stdout",
       "text": [
        "1 loops, best of 3: 89.3 ms per loop"
       ]
      },
      {
       "output_type": "stream",
       "stream": "stdout",
       "text": [
        "\n"
       ]
      }
     ],
     "prompt_number": 126
    },
    {
     "cell_type": "code",
     "collapsed": false,
     "input": [
      "%timeit numba_hard_sigmoid(arr_large)"
     ],
     "language": "python",
     "metadata": {},
     "outputs": [
      {
       "output_type": "stream",
       "stream": "stdout",
       "text": [
        "100 loops, best of 3: 6.98 ms per loop\n"
       ]
      }
     ],
     "prompt_number": 128
    },
    {
     "cell_type": "code",
     "collapsed": false,
     "input": [],
     "language": "python",
     "metadata": {},
     "outputs": []
    }
   ],
   "metadata": {}
  }
 ]
}