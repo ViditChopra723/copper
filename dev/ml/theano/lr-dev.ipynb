{
 "metadata": {
  "name": "lr-dev"
 },
 "nbformat": 3,
 "nbformat_minor": 0,
 "worksheets": [
  {
   "cells": [
    {
     "cell_type": "code",
     "collapsed": false,
     "input": [
      "import numpy as np\n",
      "import pandas as pd\n",
      "from scipy import optimize\n",
      "\n",
      "import theano\n",
      "import theano.tensor as T"
     ],
     "language": "python",
     "metadata": {},
     "outputs": [],
     "prompt_number": 1
    },
    {
     "cell_type": "code",
     "collapsed": false,
     "input": [
      "from scipy.optimize import minimize"
     ],
     "language": "python",
     "metadata": {},
     "outputs": [],
     "prompt_number": 2
    },
    {
     "cell_type": "heading",
     "level": 5,
     "metadata": {},
     "source": [
      "Basic"
     ]
    },
    {
     "cell_type": "code",
     "collapsed": false,
     "input": [
      "data = pd.read_csv('ex2data1.txt', header=None)\n",
      "X = data[[0,1]].values\n",
      "m, n = X.shape\n",
      "X = np.append(np.ones(m).reshape(m,1), X, axis=1)\n",
      "y = data[2].values"
     ],
     "language": "python",
     "metadata": {},
     "outputs": [],
     "prompt_number": 3
    },
    {
     "cell_type": "heading",
     "level": 5,
     "metadata": {},
     "source": [
      "MNIST"
     ]
    },
    {
     "cell_type": "code",
     "collapsed": false,
     "input": [
      "import cPickle, gzip, numpy\n",
      "f = gzip.open('mnist.pkl.gz', 'rb')\n",
      "train_set, valid_set, test_set = cPickle.load(f)\n",
      "f.close()"
     ],
     "language": "python",
     "metadata": {},
     "outputs": [],
     "prompt_number": 4
    },
    {
     "cell_type": "code",
     "collapsed": false,
     "input": [
      "X = train_set[0]\n",
      "y = train_set[1]"
     ],
     "language": "python",
     "metadata": {},
     "outputs": [],
     "prompt_number": 5
    },
    {
     "cell_type": "code",
     "collapsed": false,
     "input": [
      "m, n = X.shape"
     ],
     "language": "python",
     "metadata": {},
     "outputs": [],
     "prompt_number": 6
    },
    {
     "cell_type": "code",
     "collapsed": false,
     "input": [
      "X = np.append(np.ones(m).reshape(m,1), X, axis=1)"
     ],
     "language": "python",
     "metadata": {},
     "outputs": [],
     "prompt_number": 7
    },
    {
     "cell_type": "heading",
     "level": 5,
     "metadata": {},
     "source": [
      "thetas0"
     ]
    },
    {
     "cell_type": "code",
     "collapsed": false,
     "input": [
      "theta0 = np.zeros(n + 1)"
     ],
     "language": "python",
     "metadata": {},
     "outputs": [],
     "prompt_number": 4
    },
    {
     "cell_type": "heading",
     "level": 3,
     "metadata": {},
     "source": [
      "Sigmoid"
     ]
    },
    {
     "cell_type": "code",
     "collapsed": false,
     "input": [
      "def sigmoid_old(z):\n",
      "    return 1 / (1 + np.exp(-z))"
     ],
     "language": "python",
     "metadata": {},
     "outputs": [],
     "prompt_number": 5
    },
    {
     "cell_type": "code",
     "collapsed": false,
     "input": [
      "z = T.vector('x')"
     ],
     "language": "python",
     "metadata": {},
     "outputs": [],
     "prompt_number": 6
    },
    {
     "cell_type": "code",
     "collapsed": false,
     "input": [
      "_sigmoid = T.nnet.sigmoid(z)"
     ],
     "language": "python",
     "metadata": {},
     "outputs": [],
     "prompt_number": 7
    },
    {
     "cell_type": "code",
     "collapsed": false,
     "input": [
      "sigmoid = theano.function(inputs=[z], outputs=_sigmoid)"
     ],
     "language": "python",
     "metadata": {},
     "outputs": [],
     "prompt_number": 8
    },
    {
     "cell_type": "code",
     "collapsed": false,
     "input": [
      "arr = np.random.rand(2)"
     ],
     "language": "python",
     "metadata": {},
     "outputs": [],
     "prompt_number": 9
    },
    {
     "cell_type": "code",
     "collapsed": false,
     "input": [
      "sigmoid_old(arr)"
     ],
     "language": "python",
     "metadata": {},
     "outputs": [
      {
       "output_type": "pyout",
       "prompt_number": 10,
       "text": [
        "array([ 0.55259636,  0.56780799])"
       ]
      }
     ],
     "prompt_number": 10
    },
    {
     "cell_type": "code",
     "collapsed": false,
     "input": [
      "sigmoid(arr)"
     ],
     "language": "python",
     "metadata": {},
     "outputs": [
      {
       "output_type": "pyout",
       "prompt_number": 11,
       "text": [
        "array([ 0.55259636,  0.56780799])"
       ]
      }
     ],
     "prompt_number": 11
    },
    {
     "cell_type": "heading",
     "level": 3,
     "metadata": {},
     "source": [
      "Hypothesis / P(y|X)"
     ]
    },
    {
     "cell_type": "code",
     "collapsed": false,
     "input": [
      "theta0 = np.ones(n+1) * 0.1"
     ],
     "language": "python",
     "metadata": {},
     "outputs": [],
     "prompt_number": 12
    },
    {
     "cell_type": "code",
     "collapsed": false,
     "input": [
      "def hypothesis_old(X, theta):\n",
      "    return sigmoid_old(np.dot(X, theta))"
     ],
     "language": "python",
     "metadata": {},
     "outputs": [],
     "prompt_number": 13
    },
    {
     "cell_type": "code",
     "collapsed": false,
     "input": [
      "hypothesis_old(X, theta0)"
     ],
     "language": "python",
     "metadata": {},
     "outputs": [
      {
       "output_type": "pyout",
       "prompt_number": 14,
       "text": [
        "array([ 0.9999884 ,  0.99945717,  0.99998288,  0.99999961,  0.99999982,\n",
        "        0.99996429,  0.99999987,  0.99999525,  0.99999993,  0.99999749,\n",
        "        0.99999864,  0.99997658,  0.99999989,  0.99999995,  0.99999135,\n",
        "        0.99999945,  0.99999536,  0.99999048,  0.99999993,  0.99999647,\n",
        "        0.9999852 ,  0.99999984,  0.99995634,  0.99964469,  0.99999962,\n",
        "        0.99999836,  0.99999663,  0.99999831,  0.99998773,  0.99997186,\n",
        "        0.99999865,  0.99999941,  0.99999105,  0.9999952 ,  0.99998687,\n",
        "        0.99997929,  0.99999845,  0.99999955,  0.999992  ,  0.99998399,\n",
        "        0.99999926,  0.99995181,  0.9999999 ,  0.99999588,  0.99994383,\n",
        "        0.99999015,  0.99999965,  0.99999999,  0.99999989,  0.99999999,\n",
        "        0.99999982,  0.9999999 ,  0.99999862,  0.99993174,  0.99995929,\n",
        "        0.99998395,  0.99999995,  0.99999755,  0.9999995 ,  0.99999973,\n",
        "        0.99999991,  0.99975905,  0.99993568,  0.9996858 ,  0.99998649,\n",
        "        0.99998089,  0.99999908,  0.99996267,  0.99999997,  0.99999744,\n",
        "        0.99954873,  0.99999939,  0.99999996,  0.99999857,  0.99999872,\n",
        "        0.99999997,  0.99999885,  0.99999703,  0.99996946,  0.99999661,\n",
        "        0.99999988,  0.99999929,  0.99999862,  0.99999231,  0.99999997,\n",
        "        0.99999982,  0.99999493,  0.99999994,  0.99999998,  0.99998894,\n",
        "        0.99999997,  0.99999998,  0.9998995 ,  0.99999989,  0.99999878,\n",
        "        0.9999983 ,  0.99999782,  0.99999995,  0.99999459,  0.99999993])"
       ]
      }
     ],
     "prompt_number": 14
    },
    {
     "cell_type": "code",
     "collapsed": false,
     "input": [
      "_X = T.fmatrix('x')\n",
      "_y = T.lvector('y')"
     ],
     "language": "python",
     "metadata": {},
     "outputs": [],
     "prompt_number": 15
    },
    {
     "cell_type": "code",
     "collapsed": false,
     "input": [
      "_W = T.dvector('w')"
     ],
     "language": "python",
     "metadata": {},
     "outputs": [],
     "prompt_number": 16
    },
    {
     "cell_type": "code",
     "collapsed": false,
     "input": [
      "_hypothesis = T.nnet.sigmoid(T.dot(_X, _W))"
     ],
     "language": "python",
     "metadata": {},
     "outputs": [],
     "prompt_number": 17
    },
    {
     "cell_type": "code",
     "collapsed": false,
     "input": [
      "hypothesis = theano.function(inputs=[_X, _W], outputs=_hypothesis, allow_input_downcast=True)"
     ],
     "language": "python",
     "metadata": {},
     "outputs": [],
     "prompt_number": 18
    },
    {
     "cell_type": "code",
     "collapsed": false,
     "input": [
      "hypothesis(X, theta0)"
     ],
     "language": "python",
     "metadata": {},
     "outputs": [
      {
       "output_type": "pyout",
       "prompt_number": 19,
       "text": [
        "array([ 0.9999884 ,  0.99945717,  0.99998288,  0.99999961,  0.99999982,\n",
        "        0.99996429,  0.99999987,  0.99999525,  0.99999993,  0.99999749,\n",
        "        0.99999864,  0.99997658,  0.99999989,  0.99999995,  0.99999135,\n",
        "        0.99999945,  0.99999536,  0.99999048,  0.99999993,  0.99999647,\n",
        "        0.9999852 ,  0.99999984,  0.99995634,  0.99964469,  0.99999962,\n",
        "        0.99999836,  0.99999663,  0.99999831,  0.99998773,  0.99997186,\n",
        "        0.99999865,  0.99999941,  0.99999105,  0.9999952 ,  0.99998687,\n",
        "        0.99997929,  0.99999845,  0.99999955,  0.999992  ,  0.99998399,\n",
        "        0.99999926,  0.99995181,  0.9999999 ,  0.99999588,  0.99994383,\n",
        "        0.99999015,  0.99999965,  0.99999999,  0.99999989,  0.99999999,\n",
        "        0.99999982,  0.9999999 ,  0.99999862,  0.99993174,  0.99995929,\n",
        "        0.99998395,  0.99999995,  0.99999755,  0.9999995 ,  0.99999973,\n",
        "        0.99999991,  0.99975905,  0.99993568,  0.9996858 ,  0.99998649,\n",
        "        0.99998089,  0.99999908,  0.99996267,  0.99999997,  0.99999744,\n",
        "        0.99954873,  0.99999939,  0.99999996,  0.99999857,  0.99999872,\n",
        "        0.99999997,  0.99999885,  0.99999703,  0.99996946,  0.99999661,\n",
        "        0.99999988,  0.99999929,  0.99999862,  0.99999231,  0.99999997,\n",
        "        0.99999982,  0.99999493,  0.99999994,  0.99999998,  0.99998894,\n",
        "        0.99999997,  0.99999998,  0.9998995 ,  0.99999989,  0.99999878,\n",
        "        0.9999983 ,  0.99999782,  0.99999995,  0.99999459,  0.99999993])"
       ]
      }
     ],
     "prompt_number": 19
    },
    {
     "cell_type": "heading",
     "level": 3,
     "metadata": {},
     "source": [
      "Cost func"
     ]
    },
    {
     "cell_type": "code",
     "collapsed": false,
     "input": [
      "def cost_func_old(theta, X, y):\n",
      "    h = hypothesis_old(X, theta)\n",
      "    \n",
      "    costPos = np.dot(-y.T, np.log(h))\n",
      "    costNeg = np.dot((1 - y).T, np.log(1 - h))\n",
      "    \n",
      "    J = (costPos - costNeg) / m\n",
      "    grad = np.dot(X.T, h - y) / m\n",
      "    return J, grad"
     ],
     "language": "python",
     "metadata": {},
     "outputs": [],
     "prompt_number": 20
    },
    {
     "cell_type": "code",
     "collapsed": false,
     "input": [
      "J, g1 = cost_func_old(theta0, X, y)"
     ],
     "language": "python",
     "metadata": {},
     "outputs": [],
     "prompt_number": 21
    },
    {
     "cell_type": "code",
     "collapsed": false,
     "input": [
      "J"
     ],
     "language": "python",
     "metadata": {},
     "outputs": [
      {
       "output_type": "pyout",
       "prompt_number": 22,
       "text": [
        "4.3061355029541071"
       ]
      }
     ],
     "prompt_number": 22
    },
    {
     "cell_type": "code",
     "collapsed": false,
     "input": [
      "_cost_func = ( T.dot(-_y, T.log(_hypothesis)) - T.dot(1-_y, T.log(1 - _hypothesis)) ) / m"
     ],
     "language": "python",
     "metadata": {},
     "outputs": [],
     "prompt_number": 23
    },
    {
     "cell_type": "code",
     "collapsed": false,
     "input": [
      "cost_func = theano.function([_W, _X, _y], _cost_func, allow_input_downcast=True)"
     ],
     "language": "python",
     "metadata": {},
     "outputs": [],
     "prompt_number": 24
    },
    {
     "cell_type": "code",
     "collapsed": false,
     "input": [
      "cost_func(theta0, X, y)"
     ],
     "language": "python",
     "metadata": {},
     "outputs": [
      {
       "output_type": "pyout",
       "prompt_number": 25,
       "text": [
        "array(4.3061355193776265)"
       ]
      }
     ],
     "prompt_number": 25
    },
    {
     "cell_type": "code",
     "collapsed": false,
     "input": [
      "cost_func2 = lambda theta, X, y: np.asscalar(cost_func(theta, X, y))"
     ],
     "language": "python",
     "metadata": {},
     "outputs": [],
     "prompt_number": 26
    },
    {
     "cell_type": "code",
     "collapsed": false,
     "input": [
      "cost_func2(theta0, X, y)"
     ],
     "language": "python",
     "metadata": {},
     "outputs": [
      {
       "output_type": "pyout",
       "prompt_number": 27,
       "text": [
        "4.3061355193776265"
       ]
      }
     ],
     "prompt_number": 27
    },
    {
     "cell_type": "code",
     "collapsed": false,
     "input": [
      "J"
     ],
     "language": "python",
     "metadata": {},
     "outputs": [
      {
       "output_type": "pyout",
       "prompt_number": 28,
       "text": [
        "4.3061355029541071"
       ]
      }
     ],
     "prompt_number": 28
    },
    {
     "cell_type": "heading",
     "level": 3,
     "metadata": {},
     "source": [
      "Grad"
     ]
    },
    {
     "cell_type": "code",
     "collapsed": false,
     "input": [
      "_g_W = T.grad(_cost_func, _W)"
     ],
     "language": "python",
     "metadata": {},
     "outputs": [],
     "prompt_number": 29
    },
    {
     "cell_type": "code",
     "collapsed": false,
     "input": [
      "from theano import pp"
     ],
     "language": "python",
     "metadata": {},
     "outputs": [],
     "prompt_number": 30
    },
    {
     "cell_type": "code",
     "collapsed": false,
     "input": [
      "pp(_g_W)"
     ],
     "language": "python",
     "metadata": {},
     "outputs": [
      {
       "output_type": "pyout",
       "prompt_number": 31,
       "text": [
        "'(x.T \\\\dot ((((((fill(((((-y) \\\\dot log(sigmoid((x \\\\dot w)))) - ((TensorConstant{1} - y) \\\\dot log((TensorConstant{1} - sigmoid((x \\\\dot w)))))) / TensorConstant{100}), TensorConstant{1.0}) / TensorConstant{100}) * (-y)) / sigmoid((x \\\\dot w))) + (-(((-(fill(((((-y) \\\\dot log(sigmoid((x \\\\dot w)))) - ((TensorConstant{1} - y) \\\\dot log((TensorConstant{1} - sigmoid((x \\\\dot w)))))) / TensorConstant{100}), TensorConstant{1.0}) / TensorConstant{100})) * (TensorConstant{1} - y)) / (TensorConstant{1} - sigmoid((x \\\\dot w)))))) * sigmoid((x \\\\dot w))) * (TensorConstant{1.0} - sigmoid((x \\\\dot w)))))'"
       ]
      }
     ],
     "prompt_number": 31
    },
    {
     "cell_type": "code",
     "collapsed": false,
     "input": [
      "cost_func_prime = theano.function([_W, _X, _y], _g_W, allow_input_downcast=True)"
     ],
     "language": "python",
     "metadata": {},
     "outputs": [],
     "prompt_number": 32
    },
    {
     "cell_type": "code",
     "collapsed": false,
     "input": [
      "g2 = cost_func_prime(theta0, X, y)"
     ],
     "language": "python",
     "metadata": {},
     "outputs": [],
     "prompt_number": 33
    },
    {
     "cell_type": "code",
     "collapsed": false,
     "input": [
      "g1, g2"
     ],
     "language": "python",
     "metadata": {},
     "outputs": [
      {
       "output_type": "pyout",
       "prompt_number": 34,
       "text": [
        "(array([  0.39997223,  20.81184964,  21.84684953]),\n",
        " array([  0.39997223,  20.81184968,  21.84684966]))"
       ]
      }
     ],
     "prompt_number": 34
    },
    {
     "cell_type": "code",
     "collapsed": false,
     "input": [
      "(g1 - g2).sum()"
     ],
     "language": "python",
     "metadata": {},
     "outputs": [
      {
       "output_type": "pyout",
       "prompt_number": 35,
       "text": [
        "-1.6440242184279086e-07"
       ]
      }
     ],
     "prompt_number": 35
    },
    {
     "cell_type": "heading",
     "level": 3,
     "metadata": {},
     "source": [
      "Opti"
     ]
    },
    {
     "cell_type": "code",
     "collapsed": false,
     "input": [
      "%timeit minimize(cost_func2, theta0, jac=cost_func_prime, method='BFGS', args=(X, y))"
     ],
     "language": "python",
     "metadata": {},
     "outputs": [
      {
       "output_type": "stream",
       "stream": "stdout",
       "text": [
        "100 loops, best of 3: 9.38 ms per loop\n"
       ]
      }
     ],
     "prompt_number": 36
    },
    {
     "cell_type": "code",
     "collapsed": false,
     "input": [
      "res = minimize(cost_func2, theta0, jac=cost_func_prime, method='BFGS', args=(X, y))"
     ],
     "language": "python",
     "metadata": {},
     "outputs": [],
     "prompt_number": 43
    },
    {
     "cell_type": "code",
     "collapsed": false,
     "input": [
      "res.x"
     ],
     "language": "python",
     "metadata": {},
     "outputs": [
      {
       "output_type": "pyout",
       "prompt_number": 45,
       "text": [
        "array([-25.16129199,   0.20623148,   0.20147117])"
       ]
      }
     ],
     "prompt_number": 45
    },
    {
     "cell_type": "code",
     "collapsed": false,
     "input": [
      "ans = np.zeros(m)"
     ],
     "language": "python",
     "metadata": {},
     "outputs": [],
     "prompt_number": 48
    },
    {
     "cell_type": "code",
     "collapsed": false,
     "input": [
      "ans[hypothesis(X, res.x) >= 0.5] = 1"
     ],
     "language": "python",
     "metadata": {},
     "outputs": [],
     "prompt_number": 49
    },
    {
     "cell_type": "code",
     "collapsed": false,
     "input": [
      "(ans == y).mean()"
     ],
     "language": "python",
     "metadata": {},
     "outputs": [
      {
       "output_type": "pyout",
       "prompt_number": 52,
       "text": [
        "0.89000000000000001"
       ]
      }
     ],
     "prompt_number": 52
    },
    {
     "cell_type": "heading",
     "level": 3,
     "metadata": {},
     "source": [
      "Negative Log like"
     ]
    },
    {
     "cell_type": "code",
     "collapsed": false,
     "input": [
      "theta0 = np.ones(n+1) * 0.1"
     ],
     "language": "python",
     "metadata": {},
     "outputs": [],
     "prompt_number": 3
    },
    {
     "cell_type": "code",
     "collapsed": false,
     "input": [
      "_cost_func = -T.mean(T.log(_hypothesis))"
     ],
     "language": "python",
     "metadata": {},
     "outputs": [],
     "prompt_number": 13
    },
    {
     "cell_type": "code",
     "collapsed": false,
     "input": [
      "cost_func = theano.function([_W, _X], _cost_func, allow_input_downcast=True)"
     ],
     "language": "python",
     "metadata": {},
     "outputs": [],
     "prompt_number": 14
    },
    {
     "cell_type": "code",
     "collapsed": false,
     "input": [
      "cost_func2 = lambda theta, X: np.asscalar(cost_func(theta, X))"
     ],
     "language": "python",
     "metadata": {},
     "outputs": [],
     "prompt_number": 15
    },
    {
     "cell_type": "code",
     "collapsed": false,
     "input": [
      "cost_func2(theta0, X)"
     ],
     "language": "python",
     "metadata": {},
     "outputs": [
      {
       "output_type": "pyout",
       "prompt_number": 16,
       "text": [
        "2.777516070752527e-05"
       ]
      }
     ],
     "prompt_number": 16
    },
    {
     "cell_type": "code",
     "collapsed": false,
     "input": [
      "_g_W = T.grad(_cost_func, _W)"
     ],
     "language": "python",
     "metadata": {},
     "outputs": [],
     "prompt_number": 17
    },
    {
     "cell_type": "code",
     "collapsed": false,
     "input": [
      "cost_func_prime = theano.function([_W, _X], _g_W, allow_input_downcast=True)"
     ],
     "language": "python",
     "metadata": {},
     "outputs": [],
     "prompt_number": 18
    },
    {
     "cell_type": "code",
     "collapsed": false,
     "input": [
      "cost_func_prime(theta0, X)"
     ],
     "language": "python",
     "metadata": {},
     "outputs": [
      {
       "output_type": "pyout",
       "prompt_number": 19,
       "text": [
        "array([ -2.77710721e-05,  -1.07079885e-03,  -1.30730676e-03])"
       ]
      }
     ],
     "prompt_number": 19
    },
    {
     "cell_type": "code",
     "collapsed": false,
     "input": [
      "res = minimize(cost_func2, theta0, jac=cost_func_prime, method='BFGS', args=(X, ))"
     ],
     "language": "python",
     "metadata": {},
     "outputs": [],
     "prompt_number": 23
    },
    {
     "cell_type": "code",
     "collapsed": false,
     "input": [
      "ans = np.zeros(m)"
     ],
     "language": "python",
     "metadata": {},
     "outputs": [],
     "prompt_number": 25
    },
    {
     "cell_type": "code",
     "collapsed": false,
     "input": [
      "ans[hypothesis(X, res.x) >= 0.5] = 1"
     ],
     "language": "python",
     "metadata": {},
     "outputs": [],
     "prompt_number": 26
    },
    {
     "cell_type": "code",
     "collapsed": false,
     "input": [
      "(ans == y).mean()"
     ],
     "language": "python",
     "metadata": {},
     "outputs": [
      {
       "output_type": "pyout",
       "prompt_number": 27,
       "text": [
        "0.59999999999999998"
       ]
      }
     ],
     "prompt_number": 27
    },
    {
     "cell_type": "code",
     "collapsed": false,
     "input": [],
     "language": "python",
     "metadata": {},
     "outputs": []
    }
   ],
   "metadata": {}
  }
 ]
}